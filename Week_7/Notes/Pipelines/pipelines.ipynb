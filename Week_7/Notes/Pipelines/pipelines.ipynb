{
 "cells": [
  {
   "cell_type": "markdown",
   "id": "e4af06a0",
   "metadata": {},
   "source": [
    "# Example 1"
   ]
  },
  {
   "cell_type": "code",
   "execution_count": 2,
   "metadata": {},
   "outputs": [],
   "source": [
    "from pandas import read_csv # For dataframes\n",
    "from pandas import DataFrame # For dataframes\n",
    "from numpy import ravel # For matrices\n",
    "import matplotlib.pyplot as plt # For plotting data\n",
    "import seaborn as sns # For plotting data\n",
    "from sklearn.model_selection import train_test_split # For train/test splits\n",
    "from sklearn.neighbors import KNeighborsClassifier # The k-nearest neighbor classifier\n",
    "from sklearn.feature_selection import VarianceThreshold # Feature selector\n",
    "from sklearn.pipeline import Pipeline # For setting up pipeline\n",
    "# Various pre-processing steps\n",
    "from sklearn.preprocessing import Normalizer, StandardScaler, MinMaxScaler, PowerTransformer, MaxAbsScaler, LabelEncoder\n",
    "from sklearn.model_selection import GridSearchCV # For optimization"
   ]
  },
  {
   "cell_type": "code",
   "execution_count": 3,
   "id": "aa32d223",
   "metadata": {},
   "outputs": [
    {
     "name": "stdout",
     "output_type": "stream",
     "text": [
      "            0     1     2     3    4     5     6     7   8\n",
      "0   AAT_ECOLI  0.49  0.29  0.48  0.5  0.56  0.24  0.35  cp\n",
      "1  ACEA_ECOLI  0.07  0.40  0.48  0.5  0.54  0.35  0.44  cp\n",
      "2  ACEK_ECOLI  0.56  0.40  0.48  0.5  0.49  0.37  0.46  cp\n",
      "3  ACKA_ECOLI  0.59  0.49  0.48  0.5  0.52  0.45  0.36  cp\n",
      "4   ADI_ECOLI  0.23  0.32  0.48  0.5  0.55  0.25  0.35  cp\n"
     ]
    }
   ],
   "source": [
    "# Read ecoli dataset from the UCI ML Repository and store in\n",
    "# dataframe df\n",
    "df = read_csv(\n",
    "    'https://archive.ics.uci.edu/ml/machine-learning-databases/ecoli/ecoli.data',\n",
    "    sep = '\\s+',\n",
    "    header=None)\n",
    "print(df.head())"
   ]
  },
  {
   "cell_type": "code",
   "execution_count": 5,
   "id": "9fe06f2b",
   "metadata": {},
   "outputs": [
    {
     "name": "stdout",
     "output_type": "stream",
     "text": [
      "(224, 7)\n",
      "(112, 7)\n"
     ]
    }
   ],
   "source": [
    "# The data matrix X\n",
    "X = df.iloc[:,1:-1]\n",
    "# The labels\n",
    "y = (df.iloc[:,-1:])\n",
    " \n",
    "# Encode the labels into unique integers\n",
    "encoder = LabelEncoder()\n",
    "y = encoder.fit_transform(ravel(y))\n",
    " \n",
    "# Split the data into test and train\n",
    "X_train, X_test, y_train, y_test = train_test_split(\n",
    "    X,  \n",
    "    y, \n",
    "    test_size=1/3,\n",
    "    random_state=0)\n",
    " \n",
    "print(X_train.shape)\n",
    "print(X_test.shape)"
   ]
  },
  {
   "cell_type": "markdown",
   "id": "3a495312",
   "metadata": {},
   "source": [
    "### Without Pipeline"
   ]
  },
  {
   "cell_type": "code",
   "execution_count": 6,
   "id": "586a0595",
   "metadata": {},
   "outputs": [
    {
     "name": "stdout",
     "output_type": "stream",
     "text": [
      "Training set score: 0.9017857142857143\n",
      "Test set score: 0.8482142857142857\n"
     ]
    }
   ],
   "source": [
    "knn = KNeighborsClassifier().fit(X_train, y_train)\n",
    "print('Training set score: ' + str(knn.score(X_train,y_train)))\n",
    "print('Test set score: ' + str(knn.score(X_test,y_test)))"
   ]
  },
  {
   "cell_type": "markdown",
   "id": "0decb592",
   "metadata": {},
   "source": [
    "### With Pipeline"
   ]
  },
  {
   "cell_type": "code",
   "execution_count": 7,
   "id": "38afbd4d",
   "metadata": {},
   "outputs": [],
   "source": [
    "pipe = Pipeline([\n",
    "('scaler', StandardScaler()),\n",
    "('selector', VarianceThreshold()),\n",
    "('classifier', KNeighborsClassifier())\n",
    "])"
   ]
  },
  {
   "cell_type": "code",
   "execution_count": 8,
   "id": "06bad058",
   "metadata": {},
   "outputs": [
    {
     "name": "stdout",
     "output_type": "stream",
     "text": [
      "Training set score: 0.8794642857142857\n",
      "Test set score: 0.8392857142857143\n"
     ]
    }
   ],
   "source": [
    "pipe.fit(X_train, y_train)\n",
    " \n",
    "print('Training set score: ' + str(pipe.score(X_train,y_train)))\n",
    "print('Test set score: ' + str(pipe.score(X_test,y_test)))"
   ]
  },
  {
   "cell_type": "markdown",
   "id": "6f6622b2",
   "metadata": {},
   "source": [
    "# Example 2"
   ]
  },
  {
   "cell_type": "code",
   "execution_count": 1,
   "id": "a763d239",
   "metadata": {},
   "outputs": [
    {
     "data": {
      "text/plain": [
       "0.88"
      ]
     },
     "execution_count": 1,
     "metadata": {},
     "output_type": "execute_result"
    }
   ],
   "source": [
    "from sklearn.svm import SVC\n",
    "from sklearn.preprocessing import StandardScaler\n",
    "from sklearn.datasets import make_classification\n",
    "from sklearn.model_selection import train_test_split\n",
    "from sklearn.pipeline import Pipeline\n",
    "# create dataset\n",
    "X, y = make_classification(random_state=0)\n",
    "# create train-test split\n",
    "X_train, X_test, y_train, y_test = train_test_split(X, y, random_state=0)\n",
    "# create a Pipeline object that scales the data and feeds it to a Support Vector Machine\n",
    "pipe = Pipeline([('scaler', StandardScaler()), ('svc', SVC())])\n",
    "\n",
    "# an Sklearn Pipeline is used as any other estimator - run everything with .fit()\n",
    "pipe.fit(X_train, y_train)\n",
    "Pipeline(steps=[('scaler', StandardScaler()), ('svc', SVC())])\n",
    "pipe.score(X_test, y_test)"
   ]
  },
  {
   "cell_type": "markdown",
   "id": "692fd6dc",
   "metadata": {},
   "source": [
    "# Combining Pipelines"
   ]
  },
  {
   "cell_type": "code",
   "execution_count": 9,
   "id": "c7ce0933",
   "metadata": {},
   "outputs": [],
   "source": [
    "# IMPORT PACKAGES\n",
    "from sklearn.svm import SVC\n",
    "from sklearn.datasets import load_iris\n",
    "\n",
    "from sklearn.model_selection import GridSearchCV\n",
    "from sklearn.pipeline import Pipeline, FeatureUnion\n",
    "\n",
    "from sklearn.decomposition import PCA\n",
    "from sklearn.feature_selection import SelectKBest"
   ]
  },
  {
   "cell_type": "code",
   "execution_count": 10,
   "id": "04497d12",
   "metadata": {},
   "outputs": [],
   "source": [
    "iris = load_iris()\n",
    "\n",
    "X, y = iris[\"data\"], iris[\"target\"]"
   ]
  },
  {
   "cell_type": "code",
   "execution_count": 11,
   "id": "88ad9939",
   "metadata": {},
   "outputs": [],
   "source": [
    "# This dataset is way too high-dimensional. Better do PCA:\n",
    "pca = PCA(n_components=2)\n",
    "\n",
    "# Maybe some of the original features were good, too?\n",
    "selection = SelectKBest(k=3)"
   ]
  },
  {
   "cell_type": "code",
   "execution_count": 12,
   "id": "e7f0e36d",
   "metadata": {},
   "outputs": [],
   "source": [
    "# Build an transformer from PCA and Univariate selection:\n",
    "combined_features = FeatureUnion([(\"pca\", pca), (\"univ_select\", selection)])"
   ]
  },
  {
   "cell_type": "code",
   "execution_count": 13,
   "id": "b4594943",
   "metadata": {},
   "outputs": [],
   "source": [
    "# We will initialize the classifier\n",
    "svm = SVC(kernel=\"linear\")"
   ]
  },
  {
   "cell_type": "code",
   "execution_count": 14,
   "id": "012b5ef5",
   "metadata": {},
   "outputs": [
    {
     "name": "stdout",
     "output_type": "stream",
     "text": [
      "Fitting 5 folds for each of 27 candidates, totalling 135 fits\n",
      "[CV 1/5; 1/27] START features__pca__n_components=1, features__univ_select__k=1, svm__C=0.1\n",
      "[CV 1/5; 1/27] END features__pca__n_components=1, features__univ_select__k=1, svm__C=0.1;, score=0.933 total time=   0.0s\n",
      "[CV 2/5; 1/27] START features__pca__n_components=1, features__univ_select__k=1, svm__C=0.1\n",
      "[CV 2/5; 1/27] END features__pca__n_components=1, features__univ_select__k=1, svm__C=0.1;, score=0.933 total time=   0.0s\n",
      "[CV 3/5; 1/27] START features__pca__n_components=1, features__univ_select__k=1, svm__C=0.1\n",
      "[CV 3/5; 1/27] END features__pca__n_components=1, features__univ_select__k=1, svm__C=0.1;, score=0.867 total time=   0.0s\n",
      "[CV 4/5; 1/27] START features__pca__n_components=1, features__univ_select__k=1, svm__C=0.1\n",
      "[CV 4/5; 1/27] END features__pca__n_components=1, features__univ_select__k=1, svm__C=0.1;, score=0.933 total time=   0.0s\n",
      "[CV 5/5; 1/27] START features__pca__n_components=1, features__univ_select__k=1, svm__C=0.1\n",
      "[CV 5/5; 1/27] END features__pca__n_components=1, features__univ_select__k=1, svm__C=0.1;, score=1.000 total time=   0.0s\n",
      "[CV 1/5; 2/27] START features__pca__n_components=1, features__univ_select__k=1, svm__C=1\n",
      "[CV 1/5; 2/27] END features__pca__n_components=1, features__univ_select__k=1, svm__C=1;, score=0.900 total time=   0.0s\n",
      "[CV 2/5; 2/27] START features__pca__n_components=1, features__univ_select__k=1, svm__C=1\n",
      "[CV 2/5; 2/27] END features__pca__n_components=1, features__univ_select__k=1, svm__C=1;, score=1.000 total time=   0.0s\n",
      "[CV 3/5; 2/27] START features__pca__n_components=1, features__univ_select__k=1, svm__C=1\n",
      "[CV 3/5; 2/27] END features__pca__n_components=1, features__univ_select__k=1, svm__C=1;, score=0.867 total time=   0.0s\n",
      "[CV 4/5; 2/27] START features__pca__n_components=1, features__univ_select__k=1, svm__C=1\n",
      "[CV 4/5; 2/27] END features__pca__n_components=1, features__univ_select__k=1, svm__C=1;, score=0.933 total time=   0.0s\n",
      "[CV 5/5; 2/27] START features__pca__n_components=1, features__univ_select__k=1, svm__C=1\n",
      "[CV 5/5; 2/27] END features__pca__n_components=1, features__univ_select__k=1, svm__C=1;, score=1.000 total time=   0.0s\n",
      "[CV 1/5; 3/27] START features__pca__n_components=1, features__univ_select__k=1, svm__C=10\n",
      "[CV 1/5; 3/27] END features__pca__n_components=1, features__univ_select__k=1, svm__C=10;, score=0.933 total time=   0.0s\n",
      "[CV 2/5; 3/27] START features__pca__n_components=1, features__univ_select__k=1, svm__C=10\n",
      "[CV 2/5; 3/27] END features__pca__n_components=1, features__univ_select__k=1, svm__C=10;, score=1.000 total time=   0.0s\n",
      "[CV 3/5; 3/27] START features__pca__n_components=1, features__univ_select__k=1, svm__C=10\n",
      "[CV 3/5; 3/27] END features__pca__n_components=1, features__univ_select__k=1, svm__C=10;, score=0.900 total time=   0.0s\n",
      "[CV 4/5; 3/27] START features__pca__n_components=1, features__univ_select__k=1, svm__C=10\n",
      "[CV 4/5; 3/27] END features__pca__n_components=1, features__univ_select__k=1, svm__C=10;, score=0.933 total time=   0.0s\n",
      "[CV 5/5; 3/27] START features__pca__n_components=1, features__univ_select__k=1, svm__C=10\n",
      "[CV 5/5; 3/27] END features__pca__n_components=1, features__univ_select__k=1, svm__C=10;, score=1.000 total time=   0.0s\n",
      "[CV 1/5; 4/27] START features__pca__n_components=1, features__univ_select__k=2, svm__C=0.1\n",
      "[CV 1/5; 4/27] END features__pca__n_components=1, features__univ_select__k=2, svm__C=0.1;, score=0.933 total time=   0.0s\n",
      "[CV 2/5; 4/27] START features__pca__n_components=1, features__univ_select__k=2, svm__C=0.1\n",
      "[CV 2/5; 4/27] END features__pca__n_components=1, features__univ_select__k=2, svm__C=0.1;, score=0.967 total time=   0.0s\n",
      "[CV 3/5; 4/27] START features__pca__n_components=1, features__univ_select__k=2, svm__C=0.1\n",
      "[CV 3/5; 4/27] END features__pca__n_components=1, features__univ_select__k=2, svm__C=0.1;, score=0.933 total time=   0.0s\n",
      "[CV 4/5; 4/27] START features__pca__n_components=1, features__univ_select__k=2, svm__C=0.1\n",
      "[CV 4/5; 4/27] END features__pca__n_components=1, features__univ_select__k=2, svm__C=0.1;, score=0.933 total time=   0.0s\n",
      "[CV 5/5; 4/27] START features__pca__n_components=1, features__univ_select__k=2, svm__C=0.1\n",
      "[CV 5/5; 4/27] END features__pca__n_components=1, features__univ_select__k=2, svm__C=0.1;, score=1.000 total time=   0.0s\n",
      "[CV 1/5; 5/27] START features__pca__n_components=1, features__univ_select__k=2, svm__C=1\n",
      "[CV 1/5; 5/27] END features__pca__n_components=1, features__univ_select__k=2, svm__C=1;, score=0.933 total time=   0.0s\n",
      "[CV 2/5; 5/27] START features__pca__n_components=1, features__univ_select__k=2, svm__C=1\n",
      "[CV 2/5; 5/27] END features__pca__n_components=1, features__univ_select__k=2, svm__C=1;, score=0.967 total time=   0.0s\n",
      "[CV 3/5; 5/27] START features__pca__n_components=1, features__univ_select__k=2, svm__C=1\n",
      "[CV 3/5; 5/27] END features__pca__n_components=1, features__univ_select__k=2, svm__C=1;, score=0.933 total time=   0.0s\n",
      "[CV 4/5; 5/27] START features__pca__n_components=1, features__univ_select__k=2, svm__C=1\n",
      "[CV 4/5; 5/27] END features__pca__n_components=1, features__univ_select__k=2, svm__C=1;, score=0.933 total time=   0.0s\n",
      "[CV 5/5; 5/27] START features__pca__n_components=1, features__univ_select__k=2, svm__C=1\n",
      "[CV 5/5; 5/27] END features__pca__n_components=1, features__univ_select__k=2, svm__C=1;, score=1.000 total time=   0.0s\n",
      "[CV 1/5; 6/27] START features__pca__n_components=1, features__univ_select__k=2, svm__C=10\n",
      "[CV 1/5; 6/27] END features__pca__n_components=1, features__univ_select__k=2, svm__C=10;, score=0.967 total time=   0.0s\n",
      "[CV 2/5; 6/27] START features__pca__n_components=1, features__univ_select__k=2, svm__C=10\n",
      "[CV 2/5; 6/27] END features__pca__n_components=1, features__univ_select__k=2, svm__C=10;, score=0.967 total time=   0.0s\n",
      "[CV 3/5; 6/27] START features__pca__n_components=1, features__univ_select__k=2, svm__C=10\n",
      "[CV 3/5; 6/27] END features__pca__n_components=1, features__univ_select__k=2, svm__C=10;, score=0.933 total time=   0.0s\n",
      "[CV 4/5; 6/27] START features__pca__n_components=1, features__univ_select__k=2, svm__C=10\n",
      "[CV 4/5; 6/27] END features__pca__n_components=1, features__univ_select__k=2, svm__C=10;, score=0.933 total time=   0.0s\n",
      "[CV 5/5; 6/27] START features__pca__n_components=1, features__univ_select__k=2, svm__C=10\n",
      "[CV 5/5; 6/27] END features__pca__n_components=1, features__univ_select__k=2, svm__C=10;, score=1.000 total time=   0.0s\n",
      "[CV 1/5; 7/27] START features__pca__n_components=1, features__univ_select__k=3, svm__C=0.1\n",
      "[CV 1/5; 7/27] END features__pca__n_components=1, features__univ_select__k=3, svm__C=0.1;, score=0.967 total time=   0.0s\n",
      "[CV 2/5; 7/27] START features__pca__n_components=1, features__univ_select__k=3, svm__C=0.1\n",
      "[CV 2/5; 7/27] END features__pca__n_components=1, features__univ_select__k=3, svm__C=0.1;, score=0.967 total time=   0.0s\n",
      "[CV 3/5; 7/27] START features__pca__n_components=1, features__univ_select__k=3, svm__C=0.1\n",
      "[CV 3/5; 7/27] END features__pca__n_components=1, features__univ_select__k=3, svm__C=0.1;, score=0.967 total time=   0.0s\n",
      "[CV 4/5; 7/27] START features__pca__n_components=1, features__univ_select__k=3, svm__C=0.1\n",
      "[CV 4/5; 7/27] END features__pca__n_components=1, features__univ_select__k=3, svm__C=0.1;, score=0.933 total time=   0.0s\n",
      "[CV 5/5; 7/27] START features__pca__n_components=1, features__univ_select__k=3, svm__C=0.1\n",
      "[CV 5/5; 7/27] END features__pca__n_components=1, features__univ_select__k=3, svm__C=0.1;, score=1.000 total time=   0.0s\n",
      "[CV 1/5; 8/27] START features__pca__n_components=1, features__univ_select__k=3, svm__C=1\n",
      "[CV 1/5; 8/27] END features__pca__n_components=1, features__univ_select__k=3, svm__C=1;, score=0.967 total time=   0.0s\n",
      "[CV 2/5; 8/27] START features__pca__n_components=1, features__univ_select__k=3, svm__C=1\n",
      "[CV 2/5; 8/27] END features__pca__n_components=1, features__univ_select__k=3, svm__C=1;, score=1.000 total time=   0.0s\n",
      "[CV 3/5; 8/27] START features__pca__n_components=1, features__univ_select__k=3, svm__C=1\n",
      "[CV 3/5; 8/27] END features__pca__n_components=1, features__univ_select__k=3, svm__C=1;, score=0.933 total time=   0.0s\n",
      "[CV 4/5; 8/27] START features__pca__n_components=1, features__univ_select__k=3, svm__C=1\n",
      "[CV 4/5; 8/27] END features__pca__n_components=1, features__univ_select__k=3, svm__C=1;, score=0.967 total time=   0.0s\n",
      "[CV 5/5; 8/27] START features__pca__n_components=1, features__univ_select__k=3, svm__C=1\n",
      "[CV 5/5; 8/27] END features__pca__n_components=1, features__univ_select__k=3, svm__C=1;, score=1.000 total time=   0.0s\n",
      "[CV 1/5; 9/27] START features__pca__n_components=1, features__univ_select__k=3, svm__C=10\n",
      "[CV 1/5; 9/27] END features__pca__n_components=1, features__univ_select__k=3, svm__C=10;, score=1.000 total time=   0.0s\n",
      "[CV 2/5; 9/27] START features__pca__n_components=1, features__univ_select__k=3, svm__C=10\n",
      "[CV 2/5; 9/27] END features__pca__n_components=1, features__univ_select__k=3, svm__C=10;, score=0.967 total time=   0.0s\n",
      "[CV 3/5; 9/27] START features__pca__n_components=1, features__univ_select__k=3, svm__C=10\n",
      "[CV 3/5; 9/27] END features__pca__n_components=1, features__univ_select__k=3, svm__C=10;, score=0.933 total time=   0.0s\n",
      "[CV 4/5; 9/27] START features__pca__n_components=1, features__univ_select__k=3, svm__C=10\n",
      "[CV 4/5; 9/27] END features__pca__n_components=1, features__univ_select__k=3, svm__C=10;, score=0.967 total time=   0.0s\n",
      "[CV 5/5; 9/27] START features__pca__n_components=1, features__univ_select__k=3, svm__C=10\n",
      "[CV 5/5; 9/27] END features__pca__n_components=1, features__univ_select__k=3, svm__C=10;, score=1.000 total time=   0.0s\n",
      "[CV 1/5; 10/27] START features__pca__n_components=2, features__univ_select__k=1, svm__C=0.1\n",
      "[CV 1/5; 10/27] END features__pca__n_components=2, features__univ_select__k=1, svm__C=0.1;, score=0.933 total time=   0.0s\n",
      "[CV 2/5; 10/27] START features__pca__n_components=2, features__univ_select__k=1, svm__C=0.1\n",
      "[CV 2/5; 10/27] END features__pca__n_components=2, features__univ_select__k=1, svm__C=0.1;, score=1.000 total time=   0.0s\n",
      "[CV 3/5; 10/27] START features__pca__n_components=2, features__univ_select__k=1, svm__C=0.1\n",
      "[CV 3/5; 10/27] END features__pca__n_components=2, features__univ_select__k=1, svm__C=0.1;, score=0.867 total time=   0.0s\n",
      "[CV 4/5; 10/27] START features__pca__n_components=2, features__univ_select__k=1, svm__C=0.1\n",
      "[CV 4/5; 10/27] END features__pca__n_components=2, features__univ_select__k=1, svm__C=0.1;, score=0.933 total time=   0.0s\n",
      "[CV 5/5; 10/27] START features__pca__n_components=2, features__univ_select__k=1, svm__C=0.1\n",
      "[CV 5/5; 10/27] END features__pca__n_components=2, features__univ_select__k=1, svm__C=0.1;, score=1.000 total time=   0.0s\n",
      "[CV 1/5; 11/27] START features__pca__n_components=2, features__univ_select__k=1, svm__C=1\n",
      "[CV 1/5; 11/27] END features__pca__n_components=2, features__univ_select__k=1, svm__C=1;, score=0.967 total time=   0.0s\n",
      "[CV 2/5; 11/27] START features__pca__n_components=2, features__univ_select__k=1, svm__C=1\n",
      "[CV 2/5; 11/27] END features__pca__n_components=2, features__univ_select__k=1, svm__C=1;, score=1.000 total time=   0.0s\n",
      "[CV 3/5; 11/27] START features__pca__n_components=2, features__univ_select__k=1, svm__C=1\n",
      "[CV 3/5; 11/27] END features__pca__n_components=2, features__univ_select__k=1, svm__C=1;, score=0.933 total time=   0.0s\n",
      "[CV 4/5; 11/27] START features__pca__n_components=2, features__univ_select__k=1, svm__C=1\n",
      "[CV 4/5; 11/27] END features__pca__n_components=2, features__univ_select__k=1, svm__C=1;, score=0.933 total time=   0.0s\n",
      "[CV 5/5; 11/27] START features__pca__n_components=2, features__univ_select__k=1, svm__C=1\n",
      "[CV 5/5; 11/27] END features__pca__n_components=2, features__univ_select__k=1, svm__C=1;, score=1.000 total time=   0.0s\n",
      "[CV 1/5; 12/27] START features__pca__n_components=2, features__univ_select__k=1, svm__C=10\n",
      "[CV 1/5; 12/27] END features__pca__n_components=2, features__univ_select__k=1, svm__C=10;, score=0.967 total time=   0.0s\n",
      "[CV 2/5; 12/27] START features__pca__n_components=2, features__univ_select__k=1, svm__C=10\n",
      "[CV 2/5; 12/27] END features__pca__n_components=2, features__univ_select__k=1, svm__C=10;, score=0.967 total time=   0.0s\n",
      "[CV 3/5; 12/27] START features__pca__n_components=2, features__univ_select__k=1, svm__C=10\n",
      "[CV 3/5; 12/27] END features__pca__n_components=2, features__univ_select__k=1, svm__C=10;, score=0.900 total time=   0.0s\n",
      "[CV 4/5; 12/27] START features__pca__n_components=2, features__univ_select__k=1, svm__C=10\n",
      "[CV 4/5; 12/27] END features__pca__n_components=2, features__univ_select__k=1, svm__C=10;, score=0.933 total time=   0.0s\n",
      "[CV 5/5; 12/27] START features__pca__n_components=2, features__univ_select__k=1, svm__C=10\n",
      "[CV 5/5; 12/27] END features__pca__n_components=2, features__univ_select__k=1, svm__C=10;, score=1.000 total time=   0.0s\n",
      "[CV 1/5; 13/27] START features__pca__n_components=2, features__univ_select__k=2, svm__C=0.1\n",
      "[CV 1/5; 13/27] END features__pca__n_components=2, features__univ_select__k=2, svm__C=0.1;, score=0.967 total time=   0.0s\n",
      "[CV 2/5; 13/27] START features__pca__n_components=2, features__univ_select__k=2, svm__C=0.1\n",
      "[CV 2/5; 13/27] END features__pca__n_components=2, features__univ_select__k=2, svm__C=0.1;, score=1.000 total time=   0.0s\n",
      "[CV 3/5; 13/27] START features__pca__n_components=2, features__univ_select__k=2, svm__C=0.1\n",
      "[CV 3/5; 13/27] END features__pca__n_components=2, features__univ_select__k=2, svm__C=0.1;, score=0.933 total time=   0.0s\n",
      "[CV 4/5; 13/27] START features__pca__n_components=2, features__univ_select__k=2, svm__C=0.1\n",
      "[CV 4/5; 13/27] END features__pca__n_components=2, features__univ_select__k=2, svm__C=0.1;, score=0.933 total time=   0.0s\n",
      "[CV 5/5; 13/27] START features__pca__n_components=2, features__univ_select__k=2, svm__C=0.1\n",
      "[CV 5/5; 13/27] END features__pca__n_components=2, features__univ_select__k=2, svm__C=0.1;, score=1.000 total time=   0.0s\n",
      "[CV 1/5; 14/27] START features__pca__n_components=2, features__univ_select__k=2, svm__C=1\n",
      "[CV 1/5; 14/27] END features__pca__n_components=2, features__univ_select__k=2, svm__C=1;, score=0.967 total time=   0.0s\n",
      "[CV 2/5; 14/27] START features__pca__n_components=2, features__univ_select__k=2, svm__C=1\n",
      "[CV 2/5; 14/27] END features__pca__n_components=2, features__univ_select__k=2, svm__C=1;, score=1.000 total time=   0.0s\n",
      "[CV 3/5; 14/27] START features__pca__n_components=2, features__univ_select__k=2, svm__C=1\n",
      "[CV 3/5; 14/27] END features__pca__n_components=2, features__univ_select__k=2, svm__C=1;, score=0.933 total time=   0.0s\n",
      "[CV 4/5; 14/27] START features__pca__n_components=2, features__univ_select__k=2, svm__C=1\n",
      "[CV 4/5; 14/27] END features__pca__n_components=2, features__univ_select__k=2, svm__C=1;, score=0.967 total time=   0.0s\n",
      "[CV 5/5; 14/27] START features__pca__n_components=2, features__univ_select__k=2, svm__C=1\n",
      "[CV 5/5; 14/27] END features__pca__n_components=2, features__univ_select__k=2, svm__C=1;, score=1.000 total time=   0.0s\n",
      "[CV 1/5; 15/27] START features__pca__n_components=2, features__univ_select__k=2, svm__C=10\n",
      "[CV 1/5; 15/27] END features__pca__n_components=2, features__univ_select__k=2, svm__C=10;, score=0.967 total time=   0.0s\n",
      "[CV 2/5; 15/27] START features__pca__n_components=2, features__univ_select__k=2, svm__C=10\n",
      "[CV 2/5; 15/27] END features__pca__n_components=2, features__univ_select__k=2, svm__C=10;, score=1.000 total time=   0.0s\n",
      "[CV 3/5; 15/27] START features__pca__n_components=2, features__univ_select__k=2, svm__C=10\n",
      "[CV 3/5; 15/27] END features__pca__n_components=2, features__univ_select__k=2, svm__C=10;, score=0.900 total time=   0.0s\n",
      "[CV 4/5; 15/27] START features__pca__n_components=2, features__univ_select__k=2, svm__C=10\n",
      "[CV 4/5; 15/27] END features__pca__n_components=2, features__univ_select__k=2, svm__C=10;, score=0.933 total time=   0.0s\n",
      "[CV 5/5; 15/27] START features__pca__n_components=2, features__univ_select__k=2, svm__C=10\n",
      "[CV 5/5; 15/27] END features__pca__n_components=2, features__univ_select__k=2, svm__C=10;, score=1.000 total time=   0.0s\n",
      "[CV 1/5; 16/27] START features__pca__n_components=2, features__univ_select__k=3, svm__C=0.1\n",
      "[CV 1/5; 16/27] END features__pca__n_components=2, features__univ_select__k=3, svm__C=0.1;, score=0.967 total time=   0.0s\n",
      "[CV 2/5; 16/27] START features__pca__n_components=2, features__univ_select__k=3, svm__C=0.1\n",
      "[CV 2/5; 16/27] END features__pca__n_components=2, features__univ_select__k=3, svm__C=0.1;, score=1.000 total time=   0.0s\n",
      "[CV 3/5; 16/27] START features__pca__n_components=2, features__univ_select__k=3, svm__C=0.1\n",
      "[CV 3/5; 16/27] END features__pca__n_components=2, features__univ_select__k=3, svm__C=0.1;, score=0.933 total time=   0.0s\n",
      "[CV 4/5; 16/27] START features__pca__n_components=2, features__univ_select__k=3, svm__C=0.1\n",
      "[CV 4/5; 16/27] END features__pca__n_components=2, features__univ_select__k=3, svm__C=0.1;, score=0.933 total time=   0.0s\n",
      "[CV 5/5; 16/27] START features__pca__n_components=2, features__univ_select__k=3, svm__C=0.1\n",
      "[CV 5/5; 16/27] END features__pca__n_components=2, features__univ_select__k=3, svm__C=0.1;, score=1.000 total time=   0.0s\n",
      "[CV 1/5; 17/27] START features__pca__n_components=2, features__univ_select__k=3, svm__C=1\n",
      "[CV 1/5; 17/27] END features__pca__n_components=2, features__univ_select__k=3, svm__C=1;, score=0.967 total time=   0.0s\n",
      "[CV 2/5; 17/27] START features__pca__n_components=2, features__univ_select__k=3, svm__C=1\n",
      "[CV 2/5; 17/27] END features__pca__n_components=2, features__univ_select__k=3, svm__C=1;, score=1.000 total time=   0.0s\n",
      "[CV 3/5; 17/27] START features__pca__n_components=2, features__univ_select__k=3, svm__C=1\n",
      "[CV 3/5; 17/27] END features__pca__n_components=2, features__univ_select__k=3, svm__C=1;, score=0.967 total time=   0.0s\n",
      "[CV 4/5; 17/27] START features__pca__n_components=2, features__univ_select__k=3, svm__C=1\n",
      "[CV 4/5; 17/27] END features__pca__n_components=2, features__univ_select__k=3, svm__C=1;, score=0.967 total time=   0.0s\n",
      "[CV 5/5; 17/27] START features__pca__n_components=2, features__univ_select__k=3, svm__C=1\n",
      "[CV 5/5; 17/27] END features__pca__n_components=2, features__univ_select__k=3, svm__C=1;, score=1.000 total time=   0.0s\n",
      "[CV 1/5; 18/27] START features__pca__n_components=2, features__univ_select__k=3, svm__C=10\n",
      "[CV 1/5; 18/27] END features__pca__n_components=2, features__univ_select__k=3, svm__C=10;, score=1.000 total time=   0.0s\n",
      "[CV 2/5; 18/27] START features__pca__n_components=2, features__univ_select__k=3, svm__C=10\n",
      "[CV 2/5; 18/27] END features__pca__n_components=2, features__univ_select__k=3, svm__C=10;, score=1.000 total time=   0.0s\n",
      "[CV 3/5; 18/27] START features__pca__n_components=2, features__univ_select__k=3, svm__C=10\n",
      "[CV 3/5; 18/27] END features__pca__n_components=2, features__univ_select__k=3, svm__C=10;, score=0.900 total time=   0.0s\n",
      "[CV 4/5; 18/27] START features__pca__n_components=2, features__univ_select__k=3, svm__C=10\n",
      "[CV 4/5; 18/27] END features__pca__n_components=2, features__univ_select__k=3, svm__C=10;, score=0.933 total time=   0.0s\n",
      "[CV 5/5; 18/27] START features__pca__n_components=2, features__univ_select__k=3, svm__C=10\n",
      "[CV 5/5; 18/27] END features__pca__n_components=2, features__univ_select__k=3, svm__C=10;, score=1.000 total time=   0.0s\n",
      "[CV 1/5; 19/27] START features__pca__n_components=3, features__univ_select__k=1, svm__C=0.1\n",
      "[CV 1/5; 19/27] END features__pca__n_components=3, features__univ_select__k=1, svm__C=0.1;, score=0.967 total time=   0.0s\n",
      "[CV 2/5; 19/27] START features__pca__n_components=3, features__univ_select__k=1, svm__C=0.1\n",
      "[CV 2/5; 19/27] END features__pca__n_components=3, features__univ_select__k=1, svm__C=0.1;, score=1.000 total time=   0.0s\n",
      "[CV 3/5; 19/27] START features__pca__n_components=3, features__univ_select__k=1, svm__C=0.1\n",
      "[CV 3/5; 19/27] END features__pca__n_components=3, features__univ_select__k=1, svm__C=0.1;, score=0.933 total time=   0.0s\n",
      "[CV 4/5; 19/27] START features__pca__n_components=3, features__univ_select__k=1, svm__C=0.1\n",
      "[CV 4/5; 19/27] END features__pca__n_components=3, features__univ_select__k=1, svm__C=0.1;, score=0.967 total time=   0.0s\n",
      "[CV 5/5; 19/27] START features__pca__n_components=3, features__univ_select__k=1, svm__C=0.1\n",
      "[CV 5/5; 19/27] END features__pca__n_components=3, features__univ_select__k=1, svm__C=0.1;, score=1.000 total time=   0.0s\n",
      "[CV 1/5; 20/27] START features__pca__n_components=3, features__univ_select__k=1, svm__C=1\n",
      "[CV 1/5; 20/27] END features__pca__n_components=3, features__univ_select__k=1, svm__C=1;, score=0.967 total time=   0.0s\n",
      "[CV 2/5; 20/27] START features__pca__n_components=3, features__univ_select__k=1, svm__C=1\n",
      "[CV 2/5; 20/27] END features__pca__n_components=3, features__univ_select__k=1, svm__C=1;, score=1.000 total time=   0.0s\n",
      "[CV 3/5; 20/27] START features__pca__n_components=3, features__univ_select__k=1, svm__C=1\n",
      "[CV 3/5; 20/27] END features__pca__n_components=3, features__univ_select__k=1, svm__C=1;, score=0.933 total time=   0.0s\n",
      "[CV 4/5; 20/27] START features__pca__n_components=3, features__univ_select__k=1, svm__C=1\n",
      "[CV 4/5; 20/27] END features__pca__n_components=3, features__univ_select__k=1, svm__C=1;, score=0.967 total time=   0.0s\n",
      "[CV 5/5; 20/27] START features__pca__n_components=3, features__univ_select__k=1, svm__C=1\n",
      "[CV 5/5; 20/27] END features__pca__n_components=3, features__univ_select__k=1, svm__C=1;, score=1.000 total time=   0.0s\n",
      "[CV 1/5; 21/27] START features__pca__n_components=3, features__univ_select__k=1, svm__C=10\n",
      "[CV 1/5; 21/27] END features__pca__n_components=3, features__univ_select__k=1, svm__C=10;, score=1.000 total time=   0.0s\n",
      "[CV 2/5; 21/27] START features__pca__n_components=3, features__univ_select__k=1, svm__C=10\n",
      "[CV 2/5; 21/27] END features__pca__n_components=3, features__univ_select__k=1, svm__C=10;, score=1.000 total time=   0.0s\n",
      "[CV 3/5; 21/27] START features__pca__n_components=3, features__univ_select__k=1, svm__C=10\n",
      "[CV 3/5; 21/27] END features__pca__n_components=3, features__univ_select__k=1, svm__C=10;, score=0.933 total time=   0.0s\n",
      "[CV 4/5; 21/27] START features__pca__n_components=3, features__univ_select__k=1, svm__C=10\n",
      "[CV 4/5; 21/27] END features__pca__n_components=3, features__univ_select__k=1, svm__C=10;, score=0.967 total time=   0.0s\n",
      "[CV 5/5; 21/27] START features__pca__n_components=3, features__univ_select__k=1, svm__C=10\n",
      "[CV 5/5; 21/27] END features__pca__n_components=3, features__univ_select__k=1, svm__C=10;, score=1.000 total time=   0.0s\n",
      "[CV 1/5; 22/27] START features__pca__n_components=3, features__univ_select__k=2, svm__C=0.1\n",
      "[CV 1/5; 22/27] END features__pca__n_components=3, features__univ_select__k=2, svm__C=0.1;, score=0.967 total time=   0.0s\n",
      "[CV 2/5; 22/27] START features__pca__n_components=3, features__univ_select__k=2, svm__C=0.1\n",
      "[CV 2/5; 22/27] END features__pca__n_components=3, features__univ_select__k=2, svm__C=0.1;, score=1.000 total time=   0.0s\n",
      "[CV 3/5; 22/27] START features__pca__n_components=3, features__univ_select__k=2, svm__C=0.1\n",
      "[CV 3/5; 22/27] END features__pca__n_components=3, features__univ_select__k=2, svm__C=0.1;, score=0.933 total time=   0.0s\n",
      "[CV 4/5; 22/27] START features__pca__n_components=3, features__univ_select__k=2, svm__C=0.1\n",
      "[CV 4/5; 22/27] END features__pca__n_components=3, features__univ_select__k=2, svm__C=0.1;, score=0.967 total time=   0.0s\n",
      "[CV 5/5; 22/27] START features__pca__n_components=3, features__univ_select__k=2, svm__C=0.1\n",
      "[CV 5/5; 22/27] END features__pca__n_components=3, features__univ_select__k=2, svm__C=0.1;, score=1.000 total time=   0.0s\n",
      "[CV 1/5; 23/27] START features__pca__n_components=3, features__univ_select__k=2, svm__C=1\n",
      "[CV 1/5; 23/27] END features__pca__n_components=3, features__univ_select__k=2, svm__C=1;, score=0.967 total time=   0.0s\n",
      "[CV 2/5; 23/27] START features__pca__n_components=3, features__univ_select__k=2, svm__C=1\n",
      "[CV 2/5; 23/27] END features__pca__n_components=3, features__univ_select__k=2, svm__C=1;, score=1.000 total time=   0.0s\n",
      "[CV 3/5; 23/27] START features__pca__n_components=3, features__univ_select__k=2, svm__C=1\n",
      "[CV 3/5; 23/27] END features__pca__n_components=3, features__univ_select__k=2, svm__C=1;, score=0.967 total time=   0.0s\n",
      "[CV 4/5; 23/27] START features__pca__n_components=3, features__univ_select__k=2, svm__C=1\n",
      "[CV 4/5; 23/27] END features__pca__n_components=3, features__univ_select__k=2, svm__C=1;, score=0.967 total time=   0.0s\n",
      "[CV 5/5; 23/27] START features__pca__n_components=3, features__univ_select__k=2, svm__C=1\n",
      "[CV 5/5; 23/27] END features__pca__n_components=3, features__univ_select__k=2, svm__C=1;, score=1.000 total time=   0.0s\n",
      "[CV 1/5; 24/27] START features__pca__n_components=3, features__univ_select__k=2, svm__C=10\n",
      "[CV 1/5; 24/27] END features__pca__n_components=3, features__univ_select__k=2, svm__C=10;, score=1.000 total time=   0.0s\n",
      "[CV 2/5; 24/27] START features__pca__n_components=3, features__univ_select__k=2, svm__C=10\n",
      "[CV 2/5; 24/27] END features__pca__n_components=3, features__univ_select__k=2, svm__C=10;, score=1.000 total time=   0.0s\n",
      "[CV 3/5; 24/27] START features__pca__n_components=3, features__univ_select__k=2, svm__C=10\n",
      "[CV 3/5; 24/27] END features__pca__n_components=3, features__univ_select__k=2, svm__C=10;, score=0.900 total time=   0.0s\n",
      "[CV 4/5; 24/27] START features__pca__n_components=3, features__univ_select__k=2, svm__C=10\n",
      "[CV 4/5; 24/27] END features__pca__n_components=3, features__univ_select__k=2, svm__C=10;, score=0.967 total time=   0.0s\n",
      "[CV 5/5; 24/27] START features__pca__n_components=3, features__univ_select__k=2, svm__C=10\n",
      "[CV 5/5; 24/27] END features__pca__n_components=3, features__univ_select__k=2, svm__C=10;, score=1.000 total time=   0.0s\n",
      "[CV 1/5; 25/27] START features__pca__n_components=3, features__univ_select__k=3, svm__C=0.1\n",
      "[CV 1/5; 25/27] END features__pca__n_components=3, features__univ_select__k=3, svm__C=0.1;, score=0.967 total time=   0.0s\n",
      "[CV 2/5; 25/27] START features__pca__n_components=3, features__univ_select__k=3, svm__C=0.1\n",
      "[CV 2/5; 25/27] END features__pca__n_components=3, features__univ_select__k=3, svm__C=0.1;, score=1.000 total time=   0.0s\n",
      "[CV 3/5; 25/27] START features__pca__n_components=3, features__univ_select__k=3, svm__C=0.1\n",
      "[CV 3/5; 25/27] END features__pca__n_components=3, features__univ_select__k=3, svm__C=0.1;, score=0.933 total time=   0.0s\n",
      "[CV 4/5; 25/27] START features__pca__n_components=3, features__univ_select__k=3, svm__C=0.1\n",
      "[CV 4/5; 25/27] END features__pca__n_components=3, features__univ_select__k=3, svm__C=0.1;, score=0.967 total time=   0.0s\n",
      "[CV 5/5; 25/27] START features__pca__n_components=3, features__univ_select__k=3, svm__C=0.1\n",
      "[CV 5/5; 25/27] END features__pca__n_components=3, features__univ_select__k=3, svm__C=0.1;, score=1.000 total time=   0.0s\n",
      "[CV 1/5; 26/27] START features__pca__n_components=3, features__univ_select__k=3, svm__C=1\n",
      "[CV 1/5; 26/27] END features__pca__n_components=3, features__univ_select__k=3, svm__C=1;, score=0.967 total time=   0.0s\n",
      "[CV 2/5; 26/27] START features__pca__n_components=3, features__univ_select__k=3, svm__C=1\n",
      "[CV 2/5; 26/27] END features__pca__n_components=3, features__univ_select__k=3, svm__C=1;, score=1.000 total time=   0.0s\n",
      "[CV 3/5; 26/27] START features__pca__n_components=3, features__univ_select__k=3, svm__C=1\n",
      "[CV 3/5; 26/27] END features__pca__n_components=3, features__univ_select__k=3, svm__C=1;, score=0.967 total time=   0.0s\n",
      "[CV 4/5; 26/27] START features__pca__n_components=3, features__univ_select__k=3, svm__C=1\n",
      "[CV 4/5; 26/27] END features__pca__n_components=3, features__univ_select__k=3, svm__C=1;, score=0.967 total time=   0.0s\n",
      "[CV 5/5; 26/27] START features__pca__n_components=3, features__univ_select__k=3, svm__C=1\n",
      "[CV 5/5; 26/27] END features__pca__n_components=3, features__univ_select__k=3, svm__C=1;, score=1.000 total time=   0.0s\n",
      "[CV 1/5; 27/27] START features__pca__n_components=3, features__univ_select__k=3, svm__C=10\n",
      "[CV 1/5; 27/27] END features__pca__n_components=3, features__univ_select__k=3, svm__C=10;, score=1.000 total time=   0.0s\n",
      "[CV 2/5; 27/27] START features__pca__n_components=3, features__univ_select__k=3, svm__C=10\n",
      "[CV 2/5; 27/27] END features__pca__n_components=3, features__univ_select__k=3, svm__C=10;, score=1.000 total time=   0.0s\n",
      "[CV 3/5; 27/27] START features__pca__n_components=3, features__univ_select__k=3, svm__C=10\n",
      "[CV 3/5; 27/27] END features__pca__n_components=3, features__univ_select__k=3, svm__C=10;, score=0.900 total time=   0.0s\n",
      "[CV 4/5; 27/27] START features__pca__n_components=3, features__univ_select__k=3, svm__C=10\n",
      "[CV 4/5; 27/27] END features__pca__n_components=3, features__univ_select__k=3, svm__C=10;, score=0.967 total time=   0.0s\n",
      "[CV 5/5; 27/27] START features__pca__n_components=3, features__univ_select__k=3, svm__C=10\n",
      "[CV 5/5; 27/27] END features__pca__n_components=3, features__univ_select__k=3, svm__C=10;, score=1.000 total time=   0.0s\n"
     ]
    },
    {
     "data": {
      "text/html": [
       "<style>#sk-container-id-1 {color: black;background-color: white;}#sk-container-id-1 pre{padding: 0;}#sk-container-id-1 div.sk-toggleable {background-color: white;}#sk-container-id-1 label.sk-toggleable__label {cursor: pointer;display: block;width: 100%;margin-bottom: 0;padding: 0.3em;box-sizing: border-box;text-align: center;}#sk-container-id-1 label.sk-toggleable__label-arrow:before {content: \"▸\";float: left;margin-right: 0.25em;color: #696969;}#sk-container-id-1 label.sk-toggleable__label-arrow:hover:before {color: black;}#sk-container-id-1 div.sk-estimator:hover label.sk-toggleable__label-arrow:before {color: black;}#sk-container-id-1 div.sk-toggleable__content {max-height: 0;max-width: 0;overflow: hidden;text-align: left;background-color: #f0f8ff;}#sk-container-id-1 div.sk-toggleable__content pre {margin: 0.2em;color: black;border-radius: 0.25em;background-color: #f0f8ff;}#sk-container-id-1 input.sk-toggleable__control:checked~div.sk-toggleable__content {max-height: 200px;max-width: 100%;overflow: auto;}#sk-container-id-1 input.sk-toggleable__control:checked~label.sk-toggleable__label-arrow:before {content: \"▾\";}#sk-container-id-1 div.sk-estimator input.sk-toggleable__control:checked~label.sk-toggleable__label {background-color: #d4ebff;}#sk-container-id-1 div.sk-label input.sk-toggleable__control:checked~label.sk-toggleable__label {background-color: #d4ebff;}#sk-container-id-1 input.sk-hidden--visually {border: 0;clip: rect(1px 1px 1px 1px);clip: rect(1px, 1px, 1px, 1px);height: 1px;margin: -1px;overflow: hidden;padding: 0;position: absolute;width: 1px;}#sk-container-id-1 div.sk-estimator {font-family: monospace;background-color: #f0f8ff;border: 1px dotted black;border-radius: 0.25em;box-sizing: border-box;margin-bottom: 0.5em;}#sk-container-id-1 div.sk-estimator:hover {background-color: #d4ebff;}#sk-container-id-1 div.sk-parallel-item::after {content: \"\";width: 100%;border-bottom: 1px solid gray;flex-grow: 1;}#sk-container-id-1 div.sk-label:hover label.sk-toggleable__label {background-color: #d4ebff;}#sk-container-id-1 div.sk-serial::before {content: \"\";position: absolute;border-left: 1px solid gray;box-sizing: border-box;top: 0;bottom: 0;left: 50%;z-index: 0;}#sk-container-id-1 div.sk-serial {display: flex;flex-direction: column;align-items: center;background-color: white;padding-right: 0.2em;padding-left: 0.2em;position: relative;}#sk-container-id-1 div.sk-item {position: relative;z-index: 1;}#sk-container-id-1 div.sk-parallel {display: flex;align-items: stretch;justify-content: center;background-color: white;position: relative;}#sk-container-id-1 div.sk-item::before, #sk-container-id-1 div.sk-parallel-item::before {content: \"\";position: absolute;border-left: 1px solid gray;box-sizing: border-box;top: 0;bottom: 0;left: 50%;z-index: -1;}#sk-container-id-1 div.sk-parallel-item {display: flex;flex-direction: column;z-index: 1;position: relative;background-color: white;}#sk-container-id-1 div.sk-parallel-item:first-child::after {align-self: flex-end;width: 50%;}#sk-container-id-1 div.sk-parallel-item:last-child::after {align-self: flex-start;width: 50%;}#sk-container-id-1 div.sk-parallel-item:only-child::after {width: 0;}#sk-container-id-1 div.sk-dashed-wrapped {border: 1px dashed gray;margin: 0 0.4em 0.5em 0.4em;box-sizing: border-box;padding-bottom: 0.4em;background-color: white;}#sk-container-id-1 div.sk-label label {font-family: monospace;font-weight: bold;display: inline-block;line-height: 1.2em;}#sk-container-id-1 div.sk-label-container {text-align: center;}#sk-container-id-1 div.sk-container {/* jupyter's `normalize.less` sets `[hidden] { display: none; }` but bootstrap.min.css set `[hidden] { display: none !important; }` so we also need the `!important` here to be able to override the default hidden behavior on the sphinx rendered scikit-learn.org. See: https://github.com/scikit-learn/scikit-learn/issues/21755 */display: inline-block !important;position: relative;}#sk-container-id-1 div.sk-text-repr-fallback {display: none;}</style><div id=\"sk-container-id-1\" class=\"sk-top-container\"><div class=\"sk-text-repr-fallback\"><pre>GridSearchCV(estimator=Pipeline(steps=[(&#x27;features&#x27;,\n",
       "                                        FeatureUnion(transformer_list=[(&#x27;pca&#x27;,\n",
       "                                                                        PCA(n_components=2)),\n",
       "                                                                       (&#x27;univ_select&#x27;,\n",
       "                                                                        SelectKBest(k=3))])),\n",
       "                                       (&#x27;svm&#x27;, SVC(kernel=&#x27;linear&#x27;))]),\n",
       "             param_grid={&#x27;features__pca__n_components&#x27;: [1, 2, 3],\n",
       "                         &#x27;features__univ_select__k&#x27;: [1, 2, 3],\n",
       "                         &#x27;svm__C&#x27;: [0.1, 1, 10]},\n",
       "             verbose=10)</pre><b>In a Jupyter environment, please rerun this cell to show the HTML representation or trust the notebook. <br />On GitHub, the HTML representation is unable to render, please try loading this page with nbviewer.org.</b></div><div class=\"sk-container\" hidden><div class=\"sk-item sk-dashed-wrapped\"><div class=\"sk-label-container\"><div class=\"sk-label sk-toggleable\"><input class=\"sk-toggleable__control sk-hidden--visually\" id=\"sk-estimator-id-1\" type=\"checkbox\" ><label for=\"sk-estimator-id-1\" class=\"sk-toggleable__label sk-toggleable__label-arrow\">GridSearchCV</label><div class=\"sk-toggleable__content\"><pre>GridSearchCV(estimator=Pipeline(steps=[(&#x27;features&#x27;,\n",
       "                                        FeatureUnion(transformer_list=[(&#x27;pca&#x27;,\n",
       "                                                                        PCA(n_components=2)),\n",
       "                                                                       (&#x27;univ_select&#x27;,\n",
       "                                                                        SelectKBest(k=3))])),\n",
       "                                       (&#x27;svm&#x27;, SVC(kernel=&#x27;linear&#x27;))]),\n",
       "             param_grid={&#x27;features__pca__n_components&#x27;: [1, 2, 3],\n",
       "                         &#x27;features__univ_select__k&#x27;: [1, 2, 3],\n",
       "                         &#x27;svm__C&#x27;: [0.1, 1, 10]},\n",
       "             verbose=10)</pre></div></div></div><div class=\"sk-parallel\"><div class=\"sk-parallel-item\"><div class=\"sk-item\"><div class=\"sk-label-container\"><div class=\"sk-label sk-toggleable\"><input class=\"sk-toggleable__control sk-hidden--visually\" id=\"sk-estimator-id-2\" type=\"checkbox\" ><label for=\"sk-estimator-id-2\" class=\"sk-toggleable__label sk-toggleable__label-arrow\">estimator: Pipeline</label><div class=\"sk-toggleable__content\"><pre>Pipeline(steps=[(&#x27;features&#x27;,\n",
       "                 FeatureUnion(transformer_list=[(&#x27;pca&#x27;, PCA(n_components=2)),\n",
       "                                                (&#x27;univ_select&#x27;,\n",
       "                                                 SelectKBest(k=3))])),\n",
       "                (&#x27;svm&#x27;, SVC(kernel=&#x27;linear&#x27;))])</pre></div></div></div><div class=\"sk-serial\"><div class=\"sk-item\"><div class=\"sk-serial\"><div class=\"sk-item sk-dashed-wrapped\"><div class=\"sk-label-container\"><div class=\"sk-label sk-toggleable\"><input class=\"sk-toggleable__control sk-hidden--visually\" id=\"sk-estimator-id-3\" type=\"checkbox\" ><label for=\"sk-estimator-id-3\" class=\"sk-toggleable__label sk-toggleable__label-arrow\">features: FeatureUnion</label><div class=\"sk-toggleable__content\"><pre>FeatureUnion(transformer_list=[(&#x27;pca&#x27;, PCA(n_components=2)),\n",
       "                               (&#x27;univ_select&#x27;, SelectKBest(k=3))])</pre></div></div></div><div class=\"sk-parallel\"><div class=\"sk-parallel-item\"><div class=\"sk-item\"><div class=\"sk-label-container\"><div class=\"sk-label sk-toggleable\"><label>pca</label></div></div><div class=\"sk-serial\"><div class=\"sk-item\"><div class=\"sk-estimator sk-toggleable\"><input class=\"sk-toggleable__control sk-hidden--visually\" id=\"sk-estimator-id-4\" type=\"checkbox\" ><label for=\"sk-estimator-id-4\" class=\"sk-toggleable__label sk-toggleable__label-arrow\">PCA</label><div class=\"sk-toggleable__content\"><pre>PCA(n_components=2)</pre></div></div></div></div></div></div><div class=\"sk-parallel-item\"><div class=\"sk-item\"><div class=\"sk-label-container\"><div class=\"sk-label sk-toggleable\"><label>univ_select</label></div></div><div class=\"sk-serial\"><div class=\"sk-item\"><div class=\"sk-estimator sk-toggleable\"><input class=\"sk-toggleable__control sk-hidden--visually\" id=\"sk-estimator-id-5\" type=\"checkbox\" ><label for=\"sk-estimator-id-5\" class=\"sk-toggleable__label sk-toggleable__label-arrow\">SelectKBest</label><div class=\"sk-toggleable__content\"><pre>SelectKBest(k=3)</pre></div></div></div></div></div></div></div></div><div class=\"sk-item\"><div class=\"sk-estimator sk-toggleable\"><input class=\"sk-toggleable__control sk-hidden--visually\" id=\"sk-estimator-id-6\" type=\"checkbox\" ><label for=\"sk-estimator-id-6\" class=\"sk-toggleable__label sk-toggleable__label-arrow\">SVC</label><div class=\"sk-toggleable__content\"><pre>SVC(kernel=&#x27;linear&#x27;)</pre></div></div></div></div></div></div></div></div></div></div></div></div>"
      ],
      "text/plain": [
       "GridSearchCV(estimator=Pipeline(steps=[('features',\n",
       "                                        FeatureUnion(transformer_list=[('pca',\n",
       "                                                                        PCA(n_components=2)),\n",
       "                                                                       ('univ_select',\n",
       "                                                                        SelectKBest(k=3))])),\n",
       "                                       ('svm', SVC(kernel='linear'))]),\n",
       "             param_grid={'features__pca__n_components': [1, 2, 3],\n",
       "                         'features__univ_select__k': [1, 2, 3],\n",
       "                         'svm__C': [0.1, 1, 10]},\n",
       "             verbose=10)"
      ]
     },
     "execution_count": 14,
     "metadata": {},
     "output_type": "execute_result"
    }
   ],
   "source": [
    "# create our pipeline from FeatureUnion \n",
    "pipeline = Pipeline([(\"features\", combined_features), (\"svm\", svm)])\n",
    "\n",
    "# set up our parameters grid\n",
    "param_grid = {\"features__pca__n_components\": [1, 2, 3],\n",
    "                  \"features__univ_select__k\": [1, 2, 3],\n",
    "                  \"svm__C\":[0.1, 1, 10]}\n",
    "\n",
    "# create a Grid Search object\n",
    "grid_search = GridSearchCV(pipeline, param_grid, verbose=10, refit=True)    \n",
    "\n",
    "# fit the model and tune parameters\n",
    "grid_search.fit(X, y)"
   ]
  },
  {
   "cell_type": "code",
   "execution_count": 15,
   "id": "306537cb",
   "metadata": {},
   "outputs": [
    {
     "name": "stdout",
     "output_type": "stream",
     "text": [
      "{'features__pca__n_components': 2, 'features__univ_select__k': 3, 'svm__C': 1}\n"
     ]
    }
   ],
   "source": [
    "print(grid_search.best_params_)"
   ]
  }
 ],
 "metadata": {
  "interpreter": {
   "hash": "39512f3c2a1741d7f752d45a133d4514127029333ea14bc2f3c6c5e6759b9029"
  },
  "kernelspec": {
   "display_name": "Python 3.8.13 ('base_env')",
   "language": "python",
   "name": "python3"
  },
  "language_info": {
   "codemirror_mode": {
    "name": "ipython",
    "version": 3
   },
   "file_extension": ".py",
   "mimetype": "text/x-python",
   "name": "python",
   "nbconvert_exporter": "python",
   "pygments_lexer": "ipython3",
   "version": "3.8.13"
  }
 },
 "nbformat": 4,
 "nbformat_minor": 5
}
