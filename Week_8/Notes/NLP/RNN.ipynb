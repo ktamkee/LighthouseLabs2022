{
 "cells": [
  {
   "cell_type": "markdown",
   "metadata": {},
   "source": [
    "# Recurrent Neural Networks"
   ]
  },
  {
   "cell_type": "code",
   "execution_count": 10,
   "metadata": {},
   "outputs": [],
   "source": [
    "import tensorflow as tf\n",
    "from tensorflow.python import keras\n",
    "from tensorflow.python.keras.models import Sequential\n",
    "from tensorflow.python.keras.layers import Dense, Dropout, LSTM, Reshape\n",
    "\n",
    "import numpy as np\n",
    "import pandas as pd"
   ]
  },
  {
   "cell_type": "code",
   "execution_count": 4,
   "metadata": {},
   "outputs": [
    {
     "data": {
      "text/html": [
       "<div>\n",
       "<style scoped>\n",
       "    .dataframe tbody tr th:only-of-type {\n",
       "        vertical-align: middle;\n",
       "    }\n",
       "\n",
       "    .dataframe tbody tr th {\n",
       "        vertical-align: top;\n",
       "    }\n",
       "\n",
       "    .dataframe thead th {\n",
       "        text-align: right;\n",
       "    }\n",
       "</style>\n",
       "<table border=\"1\" class=\"dataframe\">\n",
       "  <thead>\n",
       "    <tr style=\"text-align: right;\">\n",
       "      <th></th>\n",
       "      <th>name</th>\n",
       "      <th>red</th>\n",
       "      <th>green</th>\n",
       "      <th>blue</th>\n",
       "    </tr>\n",
       "  </thead>\n",
       "  <tbody>\n",
       "    <tr>\n",
       "      <th>0</th>\n",
       "      <td>18th Century Green</td>\n",
       "      <td>165</td>\n",
       "      <td>147</td>\n",
       "      <td>68</td>\n",
       "    </tr>\n",
       "    <tr>\n",
       "      <th>1</th>\n",
       "      <td>1975 Earth Red</td>\n",
       "      <td>123</td>\n",
       "      <td>70</td>\n",
       "      <td>59</td>\n",
       "    </tr>\n",
       "    <tr>\n",
       "      <th>2</th>\n",
       "      <td>1989 Miami Hotline</td>\n",
       "      <td>221</td>\n",
       "      <td>51</td>\n",
       "      <td>102</td>\n",
       "    </tr>\n",
       "    <tr>\n",
       "      <th>3</th>\n",
       "      <td>20000 Leagues Under the Sea</td>\n",
       "      <td>25</td>\n",
       "      <td>25</td>\n",
       "      <td>112</td>\n",
       "    </tr>\n",
       "    <tr>\n",
       "      <th>4</th>\n",
       "      <td>3AM in Shibuya</td>\n",
       "      <td>34</td>\n",
       "      <td>85</td>\n",
       "      <td>119</td>\n",
       "    </tr>\n",
       "  </tbody>\n",
       "</table>\n",
       "</div>"
      ],
      "text/plain": [
       "                          name  red  green  blue\n",
       "0           18th Century Green  165    147    68\n",
       "1               1975 Earth Red  123     70    59\n",
       "2           1989 Miami Hotline  221     51   102\n",
       "3  20000 Leagues Under the Sea   25     25   112\n",
       "4               3AM in Shibuya   34     85   119"
      ]
     },
     "execution_count": 4,
     "metadata": {},
     "output_type": "execute_result"
    }
   ],
   "source": [
    "data = pd.read_csv(\"data/colors.csv\")\n",
    "names = data[\"name\"]\n",
    "data.head()"
   ]
  },
  {
   "cell_type": "markdown",
   "metadata": {},
   "source": [
    "### Data Preparation"
   ]
  },
  {
   "cell_type": "code",
   "execution_count": 6,
   "metadata": {},
   "outputs": [
    {
     "data": {
      "image/png": "[encoded data removed]",
      "text/plain": [
       "<Figure size 432x288 with 1 Axes>"
      ]
     },
     "metadata": {
      "needs_background": "light"
     },
     "output_type": "display_data"
    }
   ],
   "source": [
    "# Find length od color swings - majority is <= 25\n",
    "h = sorted(names.str.len().values)\n",
    "import numpy as np\n",
    "import scipy.stats as stats\n",
    "import pylab as plt\n",
    "\n",
    "fit = stats.norm.pdf(h, np.mean(h), np.std(h))  #this is a fitting indeed\n",
    "plt.plot(h,fit,'-o')\n",
    "plt.hist(h, density=True)      #use this to draw histogram of your data\n",
    "plt.xlabel('Chars')\n",
    "plt.ylabel('Probability density')\n",
    "plt.show()"
   ]
  },
  {
   "cell_type": "code",
   "execution_count": 11,
   "metadata": {},
   "outputs": [
    {
     "ename": "AttributeError",
     "evalue": "'TextVectorization' object has no attribute 'fit_on_texts'",
     "output_type": "error",
     "traceback": [
      "\u001b[0;31m---------------------------------------------------------------------------\u001b[0m",
      "\u001b[0;31mAttributeError\u001b[0m                            Traceback (most recent call last)",
      "\u001b[1;32m/Users/karina/GitHub/LighthouseLabs2022/Week_8/Notes/NLP/RNN.ipynb Cell 6'\u001b[0m in \u001b[0;36m<cell line: 4>\u001b[0;34m()\u001b[0m\n\u001b[1;32m      <a href='vscode-notebook-cell:/Users/karina/GitHub/LighthouseLabs2022/Week_8/Notes/NLP/RNN.ipynb#ch0000005?line=1'>2</a>\u001b[0m maxlen \u001b[39m=\u001b[39m \u001b[39m25\u001b[39m\n\u001b[1;32m      <a href='vscode-notebook-cell:/Users/karina/GitHub/LighthouseLabs2022/Week_8/Notes/NLP/RNN.ipynb#ch0000005?line=2'>3</a>\u001b[0m t \u001b[39m=\u001b[39m tf\u001b[39m.\u001b[39mkeras\u001b[39m.\u001b[39mlayers\u001b[39m.\u001b[39mTextVectorization(split\u001b[39m=\u001b[39m\u001b[39m'\u001b[39m\u001b[39mcharacter\u001b[39m\u001b[39m'\u001b[39m)\n\u001b[0;32m----> <a href='vscode-notebook-cell:/Users/karina/GitHub/LighthouseLabs2022/Week_8/Notes/NLP/RNN.ipynb#ch0000005?line=3'>4</a>\u001b[0m t\u001b[39m.\u001b[39;49mfit_on_texts(names)\n\u001b[1;32m      <a href='vscode-notebook-cell:/Users/karina/GitHub/LighthouseLabs2022/Week_8/Notes/NLP/RNN.ipynb#ch0000005?line=4'>5</a>\u001b[0m tokenized \u001b[39m=\u001b[39m t\u001b[39m.\u001b[39mtexts_to_sequences(names)\n\u001b[1;32m      <a href='vscode-notebook-cell:/Users/karina/GitHub/LighthouseLabs2022/Week_8/Notes/NLP/RNN.ipynb#ch0000005?line=5'>6</a>\u001b[0m padded_names \u001b[39m=\u001b[39m preprocessing\u001b[39m.\u001b[39msequence\u001b[39m.\u001b[39mpad_sequences(tokenized, maxlen\u001b[39m=\u001b[39mmaxlen)\n",
      "\u001b[0;31mAttributeError\u001b[0m: 'TextVectorization' object has no attribute 'fit_on_texts'"
     ]
    }
   ],
   "source": [
    "# Transform each color string to a list of 25 integers\n",
    "maxlen = 25\n",
    "t = Tokenizer(char_level=True)\n",
    "t.fit_on_texts(names)\n",
    "tokenized = t.texts_to_sequences(names)\n",
    "padded_names = preprocessing.sequence.pad_sequences(tokenized, maxlen=maxlen)\n",
    "print(padded_names.shape)"
   ]
  },
  {
   "cell_type": "markdown",
   "metadata": {},
   "source": [
    "# One-hot Encoding"
   ]
  },
  {
   "cell_type": "code",
   "execution_count": null,
   "metadata": {},
   "outputs": [],
   "source": [
    "print(t.word_index)"
   ]
  },
  {
   "cell_type": "code",
   "execution_count": null,
   "metadata": {},
   "outputs": [],
   "source": [
    "from tensorflow.python.keras.utils import np_utils\n",
    "one_hot_names = np_utils.to_categorical(padded_names)"
   ]
  },
  {
   "cell_type": "markdown",
   "metadata": {},
   "source": [
    "### Data Normalization"
   ]
  },
  {
   "cell_type": "code",
   "execution_count": 7,
   "metadata": {},
   "outputs": [],
   "source": [
    "# The RGB values are between 0 - 255\n",
    "# scale them to be between 0 - 1\n",
    "def norm(value):\n",
    "    return value / 255.0\n",
    "\n",
    "normalized_values = np.column_stack([norm(data[\"red\"]), norm(data[\"green\"]), norm(data[\"blue\"])])"
   ]
  },
  {
   "cell_type": "markdown",
   "metadata": {},
   "source": [
    "### Building the Model"
   ]
  },
  {
   "cell_type": "code",
   "execution_count": 8,
   "metadata": {},
   "outputs": [
    {
     "ename": "NameError",
     "evalue": "name 'maxlen' is not defined",
     "output_type": "error",
     "traceback": [
      "\u001b[0;31m---------------------------------------------------------------------------\u001b[0m",
      "\u001b[0;31mNameError\u001b[0m                                 Traceback (most recent call last)",
      "\u001b[1;32m/Users/karina/GitHub/LighthouseLabs2022/Week_8/Notes/NLP/RNN.ipynb Cell 13'\u001b[0m in \u001b[0;36m<cell line: 2>\u001b[0;34m()\u001b[0m\n\u001b[1;32m      <a href='vscode-notebook-cell:/Users/karina/GitHub/LighthouseLabs2022/Week_8/Notes/NLP/RNN.ipynb#ch0000011?line=0'>1</a>\u001b[0m model \u001b[39m=\u001b[39m Sequential()\n\u001b[0;32m----> <a href='vscode-notebook-cell:/Users/karina/GitHub/LighthouseLabs2022/Week_8/Notes/NLP/RNN.ipynb#ch0000011?line=1'>2</a>\u001b[0m model\u001b[39m.\u001b[39madd(LSTM(\u001b[39m256\u001b[39m, return_sequences\u001b[39m=\u001b[39m\u001b[39mTrue\u001b[39;00m, input_shape\u001b[39m=\u001b[39m(maxlen, \u001b[39m90\u001b[39m)))\n\u001b[1;32m      <a href='vscode-notebook-cell:/Users/karina/GitHub/LighthouseLabs2022/Week_8/Notes/NLP/RNN.ipynb#ch0000011?line=2'>3</a>\u001b[0m model\u001b[39m.\u001b[39madd(LSTM(\u001b[39m128\u001b[39m))\n\u001b[1;32m      <a href='vscode-notebook-cell:/Users/karina/GitHub/LighthouseLabs2022/Week_8/Notes/NLP/RNN.ipynb#ch0000011?line=3'>4</a>\u001b[0m model\u001b[39m.\u001b[39madd(Dense(\u001b[39m128\u001b[39m, activation\u001b[39m=\u001b[39m\u001b[39m'\u001b[39m\u001b[39mrelu\u001b[39m\u001b[39m'\u001b[39m))\n",
      "\u001b[0;31mNameError\u001b[0m: name 'maxlen' is not defined"
     ]
    }
   ],
   "source": [
    "# Build Model\n",
    "model = Sequential()\n",
    "model.add(LSTM(256, return_sequences=True, input_shape=(maxlen, 90)))\n",
    "model.add(LSTM(128))\n",
    "model.add(Dense(128, activation='relu'))\n",
    "model.add(Dense(3, activation='sigmoid'))\n",
    "model.compile(optimizer='adam', loss='mse', metrics=['acc'])"
   ]
  },
  {
   "cell_type": "code",
   "execution_count": null,
   "metadata": {},
   "outputs": [],
   "source": [
    "# Train Model\n",
    "history = model.fit(one_hot_names, normalized_values,\n",
    "                    epochs=40,\n",
    "                    batch_size=32,\n",
    "                    validation_split=0.2)"
   ]
  },
  {
   "cell_type": "markdown",
   "metadata": {},
   "source": [
    "### Generate Colors"
   ]
  },
  {
   "cell_type": "code",
   "execution_count": null,
   "metadata": {},
   "outputs": [],
   "source": [
    "# plot a color image\n",
    "def plot_rgb(rgb):\n",
    "    data = [[rgb]]\n",
    "    plt.figure(figsize=(2,2))\n",
    "    plt.imshow(data, interpolation='nearest')\n",
    "    plt.show()\n",
    "\n",
    "def scale(n):\n",
    "    return int(n * 255) \n",
    "\n",
    "def predict(name):\n",
    "    name = name.lower()\n",
    "    tokenized = t.texts_to_sequences([name])\n",
    "    padded = preprocessing.sequence.pad_sequences(tokenized, maxlen=maxlen)\n",
    "    one_hot = np_utils.to_categorical(padded, num_classes=90)\n",
    "    pred = model.predict(np.array(one_hot))[0]\n",
    "    r, g, b = scale(pred[0]), scale(pred[1]), scale(pred[2])\n",
    "    print(name + ',', 'R,G,B:', r,g,b)\n",
    "    plot_rgb(pred)"
   ]
  },
  {
   "cell_type": "code",
   "execution_count": null,
   "metadata": {},
   "outputs": [],
   "source": [
    "predict(\"forest\")\n",
    "predict(\"ocean\")"
   ]
  }
 ],
 "metadata": {
  "interpreter": {
   "hash": "39512f3c2a1741d7f752d45a133d4514127029333ea14bc2f3c6c5e6759b9029"
  },
  "kernelspec": {
   "display_name": "Python 3.8.13 ('base_env')",
   "language": "python",
   "name": "python3"
  },
  "language_info": {
   "codemirror_mode": {
    "name": "ipython",
    "version": 3
   },
   "file_extension": ".py",
   "mimetype": "text/x-python",
   "name": "python",
   "nbconvert_exporter": "python",
   "pygments_lexer": "ipython3",
   "version": "3.8.13"
  },
  "orig_nbformat": 4
 },
 "nbformat": 4,
 "nbformat_minor": 2
}
