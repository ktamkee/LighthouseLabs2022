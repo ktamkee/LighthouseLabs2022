{
 "cells": [
  {
   "cell_type": "code",
   "execution_count": 111,
   "metadata": {},
   "outputs": [],
   "source": [
    "import pandas as pd\n",
    "import requests\n",
    "import os"
   ]
  },
  {
   "cell_type": "code",
   "execution_count": 112,
   "metadata": {},
   "outputs": [],
   "source": [
    "app_id = os.environ[\"MP1_APP_ID\"]\n",
    "app_key = os.environ[\"MP1_APP_KEY\"]\n",
    "url_append = f'?app_id={app_id}&app_key={app_key}' "
   ]
  },
  {
   "cell_type": "code",
   "execution_count": 113,
   "metadata": {},
   "outputs": [],
   "source": [
    "url_bus_ha = \"https://api.tfl.gov.uk/Journey/JourneyResults/51.4700%2C%20-0.4543/to/51.5101%2C%20-0.1205?mode=bus\"\n",
    "url_tube_ha = \"https://api.tfl.gov.uk/Journey/JourneyResults/51.4700%2C%20-0.4543/to/51.5101%2C%20-0.1205?mode=tube\""
   ]
  },
  {
   "cell_type": "code",
   "execution_count": 114,
   "metadata": {},
   "outputs": [],
   "source": [
    "response_bus_ha = requests.get(url_bus_ha)\n",
    "response_tube_ha = requests.get(url_tube_ha)"
   ]
  },
  {
   "cell_type": "code",
   "execution_count": 115,
   "metadata": {},
   "outputs": [],
   "source": [
    "bus_journey_ha = response_bus_ha.json()\n",
    "tube_journey_ha = response_tube_ha.json()"
   ]
  },
  {
   "cell_type": "code",
   "execution_count": 140,
   "metadata": {},
   "outputs": [
    {
     "data": {
      "text/html": [
       "<div>\n",
       "<style scoped>\n",
       "    .dataframe tbody tr th:only-of-type {\n",
       "        vertical-align: middle;\n",
       "    }\n",
       "\n",
       "    .dataframe tbody tr th {\n",
       "        vertical-align: top;\n",
       "    }\n",
       "\n",
       "    .dataframe thead th {\n",
       "        text-align: right;\n",
       "    }\n",
       "</style>\n",
       "<table border=\"1\" class=\"dataframe\">\n",
       "  <thead>\n",
       "    <tr style=\"text-align: right;\">\n",
       "      <th></th>\n",
       "      <th>Mode</th>\n",
       "      <th>ETA_Minutes</th>\n",
       "      <th>Origin</th>\n",
       "      <th>Origin_ll</th>\n",
       "      <th>Destination</th>\n",
       "      <th>Destination_ll</th>\n",
       "    </tr>\n",
       "  </thead>\n",
       "  <tbody>\n",
       "  </tbody>\n",
       "</table>\n",
       "</div>"
      ],
      "text/plain": [
       "Empty DataFrame\n",
       "Columns: [Mode, ETA_Minutes, Origin, Origin_ll, Destination, Destination_ll]\n",
       "Index: []"
      ]
     },
     "execution_count": 140,
     "metadata": {},
     "output_type": "execute_result"
    }
   ],
   "source": [
    "data = pd.DataFrame(columns=['Mode', 'ETA_Minutes', 'Origin', 'Origin_ll', 'Destination', 'Destination_ll'])\n",
    "data"
   ]
  },
  {
   "cell_type": "code",
   "execution_count": 141,
   "metadata": {},
   "outputs": [],
   "source": [
    "bus_list_ha = bus_journey_ha['journeys']                                              \n",
    "bus_duration_ha_list = []                                                    \n",
    "\n",
    "for bus_option in bus_list_ha:                                                  \n",
    "    bus_duration = bus_option['duration']                                    \n",
    "    int_bus_duration = int(bus_duration)                                        \n",
    "    bus_duration_ha_list.append(int_bus_duration)                                \n",
    "\n",
    "average_bus_duration = round(sum(bus_duration_ha_list) / len(bus_duration_ha_list))  \n",
    "\n",
    "bus_ha = pd.DataFrame([{'Mode':'Bus', 'ETA_Minutes':average_bus_duration, 'Origin':'Heathrow Airport', 'Origin_ll': '51.4700,0.4543', 'Destination': 'Savoy Hotel', 'Destination_ll':\"51.5101,0.1205\"}])\n",
    "data = pd.concat([data, bus_ha], axis=0)\n",
    "\n",
    "tube_list_ha = tube_journey_ha['journeys']                                            \n",
    "tube_duration_ha_list = []                                                         \n",
    "\n",
    "for tube_option in tube_list_ha:                                               \n",
    "    tube_duration = tube_option['duration']                                    \n",
    "    int_tube_duration = int(tube_duration)                                      \n",
    "    tube_duration_ha_list.append(int_tube_duration)                                \n",
    "\n",
    "average_tube_duration = round(sum(tube_duration_ha_list) / len(tube_duration_ha_list))\n",
    "\n",
    "tube_ha = pd.DataFrame([{'Mode':'Tube', 'ETA_Minutes':average_tube_duration, 'Origin':'Heathrow Airport', 'Origin_ll': '51.4700,0.4543', 'Destination': 'Savoy Hotel', 'Destination_ll':\"51.5101,0.1205\"}])\n",
    "data = pd.concat([data, tube_ha], axis=0)"
   ]
  },
  {
   "cell_type": "code",
   "execution_count": 137,
   "metadata": {},
   "outputs": [
    {
     "data": {
      "text/html": [
       "<div>\n",
       "<style scoped>\n",
       "    .dataframe tbody tr th:only-of-type {\n",
       "        vertical-align: middle;\n",
       "    }\n",
       "\n",
       "    .dataframe tbody tr th {\n",
       "        vertical-align: top;\n",
       "    }\n",
       "\n",
       "    .dataframe thead th {\n",
       "        text-align: right;\n",
       "    }\n",
       "</style>\n",
       "<table border=\"1\" class=\"dataframe\">\n",
       "  <thead>\n",
       "    <tr style=\"text-align: right;\">\n",
       "      <th></th>\n",
       "      <th>Mode</th>\n",
       "      <th>ETA_Minutes</th>\n",
       "      <th>Origin</th>\n",
       "      <th>Origin_ll</th>\n",
       "      <th>Destination</th>\n",
       "      <th>Destination_ll</th>\n",
       "    </tr>\n",
       "  </thead>\n",
       "  <tbody>\n",
       "    <tr>\n",
       "      <th>0</th>\n",
       "      <td>Bus</td>\n",
       "      <td>99</td>\n",
       "      <td>Heathrow Airport</td>\n",
       "      <td>51.4700,0.4543</td>\n",
       "      <td>Savoy Hotel</td>\n",
       "      <td>51.5101,0.1205</td>\n",
       "    </tr>\n",
       "    <tr>\n",
       "      <th>0</th>\n",
       "      <td>Tube</td>\n",
       "      <td>154</td>\n",
       "      <td>Heathrow Airport</td>\n",
       "      <td>51.4700,0.4543</td>\n",
       "      <td>Savoy Hotel</td>\n",
       "      <td>51.5101,0.1205</td>\n",
       "    </tr>\n",
       "  </tbody>\n",
       "</table>\n",
       "</div>"
      ],
      "text/plain": [
       "   Mode ETA_Minutes            Origin       Origin_ll  Destination  \\\n",
       "0   Bus          99  Heathrow Airport  51.4700,0.4543  Savoy Hotel   \n",
       "0  Tube         154  Heathrow Airport  51.4700,0.4543  Savoy Hotel   \n",
       "\n",
       "   Destination_ll  \n",
       "0  51.5101,0.1205  \n",
       "0  51.5101,0.1205  "
      ]
     },
     "execution_count": 137,
     "metadata": {},
     "output_type": "execute_result"
    }
   ],
   "source": [
    "data"
   ]
  },
  {
   "cell_type": "code",
   "execution_count": null,
   "metadata": {},
   "outputs": [],
   "source": []
  },
  {
   "cell_type": "code",
   "execution_count": 119,
   "metadata": {},
   "outputs": [],
   "source": [
    "url_bus_sh = \"https://api.tfl.gov.uk/Journey/JourneyResults/51.5101%2C%20-0.1205/to/51.5055%2C%20-0.0754?mode=bus\"\n",
    "url_tube_sh = \"https://api.tfl.gov.uk/Journey/JourneyResults/51.5101%2C%20-0.1205/to/51.5055%2C%20-0.0754?mode=tube\"\n",
    "url_walk_sh = \"https://api.tfl.gov.uk/Journey/JourneyResults/51.5101%2C%20-0.1205/to/51.5055%2C%20-0.0754?mode=walking\"\n",
    "url_coach_sh = \"https://api.tfl.gov.uk/Journey/JourneyResults/51.5101%2C%20-0.1205/to/51.5055%2C%20-0.0754?mode=coach\""
   ]
  },
  {
   "cell_type": "code",
   "execution_count": 120,
   "metadata": {},
   "outputs": [],
   "source": [
    "response_bus_sh = requests.get(url_bus_sh)\n",
    "response_tube_sh = requests.get(url_tube_sh)\n",
    "response_walk_sh = requests.get(url_walk_sh)\n",
    "response_coach_sh = requests.get(url_coach_sh)"
   ]
  },
  {
   "cell_type": "code",
   "execution_count": 121,
   "metadata": {},
   "outputs": [],
   "source": [
    "bus_journey_sh = response_bus_sh.json()\n",
    "tube_journey_sh = response_tube_sh.json()\n",
    "walk_journey_sh = response_walk_sh.json()\n",
    "coach_journey_sh = response_coach_sh.json()"
   ]
  },
  {
   "cell_type": "code",
   "execution_count": 142,
   "metadata": {},
   "outputs": [],
   "source": [
    "bus_list_sh = bus_journey_sh['journeys']                                            \n",
    "bus_duration_sh_list = []                                                         \n",
    "\n",
    "for bus_option in bus_list_sh:                                               \n",
    "    bus_duration = bus_option['duration']                                    \n",
    "    int_bus_duration = int(bus_duration)                                      \n",
    "    bus_duration_sh_list.append(int_bus_duration)                                \n",
    "\n",
    "average_bus_duration = round(sum(bus_duration_sh_list) / len(bus_duration_sh_list))\n",
    "\n",
    "bus_sh = pd.DataFrame([{'Mode':'Bus', 'ETA_Minutes':average_bus_duration, 'Origin':'Savoy Hotel', 'Origin_ll': '51.5101,0.1205', 'Destination': 'Tower Bridge', 'Destination_ll':\"51.5055,0.0754\"}])\n",
    "data = pd.concat([data, bus_sh], axis=0)\n",
    "\n",
    "tube_list_sh = tube_journey_sh['journeys']                                            \n",
    "tube_duration_sh_list = []                                                         \n",
    "\n",
    "for tube_option in tube_list_sh:                                               \n",
    "    tube_duration = tube_option['duration']                                    \n",
    "    int_tube_duration = int(tube_duration)                                      \n",
    "    tube_duration_sh_list.append(int_tube_duration)                                \n",
    "\n",
    "average_tube_duration = round(sum(tube_duration_sh_list) / len(tube_duration_sh_list))\n",
    "\n",
    "tube_sh = pd.DataFrame([{'Mode':'Tube', 'ETA_Minutes':average_tube_duration, 'Origin':'Savoy Hotel', 'Origin_ll': '51.5101,0.1205', 'Destination': 'Tower Bridge', 'Destination_ll':\"51.5055,0.0754\"}])\n",
    "data = pd.concat([data, tube_sh], axis=0)\n",
    "\n",
    "walk_list_sh = walk_journey_sh['journeys']                                            \n",
    "walk_duration_sh_list = []                                                         \n",
    "\n",
    "for walk_option in walk_list_sh:                                               \n",
    "    walk_duration = walk_option['duration']                                    \n",
    "    int_walk_duration = int(walk_duration)                                      \n",
    "    walk_duration_sh_list.append(int_walk_duration)                                \n",
    "\n",
    "average_walk_duration = round(sum(walk_duration_sh_list) / len(walk_duration_sh_list))\n",
    "\n",
    "walk_sh = pd.DataFrame([{'Mode':'Walking', 'ETA_Minutes':average_walk_duration, 'Origin':'Savoy Hotel', 'Origin_ll': '51.5101,0.1205', 'Destination': 'Tower Bridge', 'Destination_ll':\"51.5055,0.0754\"}])\n",
    "data = pd.concat([data, walk_sh], axis=0)\n",
    "\n",
    "coach_list_sh = coach_journey_sh['journeys']                                            \n",
    "coach_duration_sh_list = []                                                         \n",
    "\n",
    "for coach_option in coach_list_sh:                                               \n",
    "    coach_duration = coach_option['duration']                                    \n",
    "    int_coach_duration = int(coach_duration)                                      \n",
    "    coach_duration_sh_list.append(int_coach_duration)                                \n",
    "\n",
    "average_coach_duration = round(sum(coach_duration_sh_list) / len(coach_duration_sh_list))\n",
    "\n",
    "coach_sh = pd.DataFrame([{'Mode':'Coach', 'ETA_Minutes':average_bus_duration, 'Origin':'Savoy Hotel', 'Origin_ll': '51.5101,0.1205', 'Destination': 'Tower Bridge', 'Destination_ll':\"51.5055,0.0754\"}])\n",
    "data = pd.concat([data, coach_sh], axis=0)"
   ]
  },
  {
   "cell_type": "code",
   "execution_count": 143,
   "metadata": {},
   "outputs": [
    {
     "data": {
      "text/html": [
       "<div>\n",
       "<style scoped>\n",
       "    .dataframe tbody tr th:only-of-type {\n",
       "        vertical-align: middle;\n",
       "    }\n",
       "\n",
       "    .dataframe tbody tr th {\n",
       "        vertical-align: top;\n",
       "    }\n",
       "\n",
       "    .dataframe thead th {\n",
       "        text-align: right;\n",
       "    }\n",
       "</style>\n",
       "<table border=\"1\" class=\"dataframe\">\n",
       "  <thead>\n",
       "    <tr style=\"text-align: right;\">\n",
       "      <th></th>\n",
       "      <th>Mode</th>\n",
       "      <th>ETA_Minutes</th>\n",
       "      <th>Origin</th>\n",
       "      <th>Origin_ll</th>\n",
       "      <th>Destination</th>\n",
       "      <th>Destination_ll</th>\n",
       "    </tr>\n",
       "  </thead>\n",
       "  <tbody>\n",
       "    <tr>\n",
       "      <th>0</th>\n",
       "      <td>Bus</td>\n",
       "      <td>99</td>\n",
       "      <td>Heathrow Airport</td>\n",
       "      <td>51.4700,0.4543</td>\n",
       "      <td>Savoy Hotel</td>\n",
       "      <td>51.5101,0.1205</td>\n",
       "    </tr>\n",
       "    <tr>\n",
       "      <th>0</th>\n",
       "      <td>Tube</td>\n",
       "      <td>154</td>\n",
       "      <td>Heathrow Airport</td>\n",
       "      <td>51.4700,0.4543</td>\n",
       "      <td>Savoy Hotel</td>\n",
       "      <td>51.5101,0.1205</td>\n",
       "    </tr>\n",
       "    <tr>\n",
       "      <th>0</th>\n",
       "      <td>Bus</td>\n",
       "      <td>32</td>\n",
       "      <td>Savoy Hotel</td>\n",
       "      <td>51.5101,0.1205</td>\n",
       "      <td>Tower Bridge</td>\n",
       "      <td>51.5055,0.0754</td>\n",
       "    </tr>\n",
       "    <tr>\n",
       "      <th>0</th>\n",
       "      <td>Tube</td>\n",
       "      <td>34</td>\n",
       "      <td>Savoy Hotel</td>\n",
       "      <td>51.5101,0.1205</td>\n",
       "      <td>Tower Bridge</td>\n",
       "      <td>51.5055,0.0754</td>\n",
       "    </tr>\n",
       "    <tr>\n",
       "      <th>0</th>\n",
       "      <td>Walking</td>\n",
       "      <td>53</td>\n",
       "      <td>Savoy Hotel</td>\n",
       "      <td>51.5101,0.1205</td>\n",
       "      <td>Tower Bridge</td>\n",
       "      <td>51.5055,0.0754</td>\n",
       "    </tr>\n",
       "    <tr>\n",
       "      <th>0</th>\n",
       "      <td>Coach</td>\n",
       "      <td>32</td>\n",
       "      <td>Savoy Hotel</td>\n",
       "      <td>51.5101,0.1205</td>\n",
       "      <td>Tower Bridge</td>\n",
       "      <td>51.5055,0.0754</td>\n",
       "    </tr>\n",
       "  </tbody>\n",
       "</table>\n",
       "</div>"
      ],
      "text/plain": [
       "      Mode ETA_Minutes            Origin       Origin_ll   Destination  \\\n",
       "0      Bus          99  Heathrow Airport  51.4700,0.4543   Savoy Hotel   \n",
       "0     Tube         154  Heathrow Airport  51.4700,0.4543   Savoy Hotel   \n",
       "0      Bus          32       Savoy Hotel  51.5101,0.1205  Tower Bridge   \n",
       "0     Tube          34       Savoy Hotel  51.5101,0.1205  Tower Bridge   \n",
       "0  Walking          53       Savoy Hotel  51.5101,0.1205  Tower Bridge   \n",
       "0    Coach          32       Savoy Hotel  51.5101,0.1205  Tower Bridge   \n",
       "\n",
       "   Destination_ll  \n",
       "0  51.5101,0.1205  \n",
       "0  51.5101,0.1205  \n",
       "0  51.5055,0.0754  \n",
       "0  51.5055,0.0754  \n",
       "0  51.5055,0.0754  \n",
       "0  51.5055,0.0754  "
      ]
     },
     "execution_count": 143,
     "metadata": {},
     "output_type": "execute_result"
    }
   ],
   "source": [
    "data"
   ]
  },
  {
   "cell_type": "code",
   "execution_count": null,
   "metadata": {},
   "outputs": [],
   "source": [
    "data."
   ]
  },
  {
   "cell_type": "code",
   "execution_count": 130,
   "metadata": {},
   "outputs": [],
   "source": [
    "df = pd.DataFrame(columns=['Longitude', 'Latitude'])\n",
    "heathrow = pd.DataFrame([{'Longitude':51.4700, 'Latitude':0.1205}])\n",
    "df = pd.concat([df, heathrow], axis=0)\n",
    "savoy = pd.DataFrame([{'Longitude':51.5101, 'Latitude':0.4543}])\n",
    "df = pd.concat([df, heathrow], axis=0)\n",
    "savoy = pd.DataFrame([{'Longitude':51.5055, 'Latitude':0.0754}])\n",
    "df = pd.concat([df, heathrow], axis=0)"
   ]
  },
  {
   "cell_type": "code",
   "execution_count": 133,
   "metadata": {},
   "outputs": [
    {
     "data": {
      "image/png": "[encoded data removed]",
      "text/plain": [
       "<Figure size 432x288 with 1 Axes>"
      ]
     },
     "metadata": {
      "needs_background": "light"
     },
     "output_type": "display_data"
    }
   ],
   "source": [
    "import matplotlib.pyplot as plt\n",
    "plt.scatter(x=df['Longitude'], y=df['Latitude'])\n",
    "plt.show()"
   ]
  },
  {
   "cell_type": "code",
   "execution_count": 134,
   "metadata": {},
   "outputs": [
    {
     "data": {
      "text/plain": [
       "<AxesSubplot:>"
      ]
     },
     "execution_count": 134,
     "metadata": {},
     "output_type": "execute_result"
    },
    {
     "data": {
      "image/png": "[encoded data removed]",
      "text/plain": [
       "<Figure size 720x432 with 1 Axes>"
      ]
     },
     "metadata": {
      "needs_background": "light"
     },
     "output_type": "display_data"
    }
   ],
   "source": [
    "import pandas as pd\n",
    "from shapely.geometry import Point\n",
    "import geopandas as gpd\n",
    "from geopandas import GeoDataFrame\n",
    "\n",
    "\n",
    "geometry = [Point(xy) for xy in zip(df['Longitude'], df['Latitude'])]\n",
    "gdf = GeoDataFrame(df, geometry=geometry)   \n",
    "\n",
    "#this is a simple map that goes with geopandas\n",
    "world = gpd.read_file(gpd.datasets.get_path('naturalearth_lowres'))\n",
    "gdf.plot(ax=world.plot(figsize=(10, 6)), marker='o', color='red', markersize=15)"
   ]
  },
  {
   "cell_type": "code",
   "execution_count": null,
   "metadata": {},
   "outputs": [],
   "source": []
  }
 ],
 "metadata": {
  "interpreter": {
   "hash": "39512f3c2a1741d7f752d45a133d4514127029333ea14bc2f3c6c5e6759b9029"
  },
  "kernelspec": {
   "display_name": "Python 3.8.13 ('base_env')",
   "language": "python",
   "name": "python3"
  },
  "language_info": {
   "codemirror_mode": {
    "name": "ipython",
    "version": 3
   },
   "file_extension": ".py",
   "mimetype": "text/x-python",
   "name": "python",
   "nbconvert_exporter": "python",
   "pygments_lexer": "ipython3",
   "version": "3.8.13"
  },
  "orig_nbformat": 4
 },
 "nbformat": 4,
 "nbformat_minor": 2
}
