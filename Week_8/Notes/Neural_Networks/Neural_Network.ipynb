{
 "cells": [
  {
   "cell_type": "markdown",
   "metadata": {},
   "source": [
    "# Neural Network From Scratch"
   ]
  },
  {
   "cell_type": "markdown",
   "metadata": {},
   "source": [
    "### Step 1: Create dataset"
   ]
  },
  {
   "cell_type": "code",
   "execution_count": 12,
   "metadata": {},
   "outputs": [],
   "source": [
    "# Creating data set\n",
    " \n",
    "# A\n",
    "a =[0, 0, 1, 1, 0, 0,\n",
    "   0, 1, 0, 0, 1, 0,\n",
    "   1, 1, 1, 1, 1, 1,\n",
    "   1, 0, 0, 0, 0, 1,\n",
    "   1, 0, 0, 0, 0, 1]\n",
    "# B\n",
    "b =[0, 1, 1, 1, 1, 0,\n",
    "   0, 1, 0, 0, 1, 0,\n",
    "   0, 1, 1, 1, 1, 0,\n",
    "   0, 1, 0, 0, 1, 0,\n",
    "   0, 1, 1, 1, 1, 0]\n",
    "# C\n",
    "c =[0, 1, 1, 1, 1, 0,\n",
    "   0, 1, 0, 0, 0, 0,\n",
    "   0, 1, 0, 0, 0, 0,\n",
    "   0, 1, 0, 0, 0, 0,\n",
    "   0, 1, 1, 1, 1, 0]\n",
    " \n",
    "# Creating labels\n",
    "y =[[1, 0, 0],\n",
    "   [0, 1, 0],\n",
    "   [0, 0, 1]]"
   ]
  },
  {
   "cell_type": "markdown",
   "metadata": {},
   "source": [
    "### Step 2: Visualization of the dataset"
   ]
  },
  {
   "cell_type": "code",
   "execution_count": 13,
   "metadata": {},
   "outputs": [
    {
     "data": {
      "image/png": "[encoded data removed]",
      "text/plain": [
       "<Figure size 432x288 with 1 Axes>"
      ]
     },
     "metadata": {
      "needs_background": "light"
     },
     "output_type": "display_data"
    }
   ],
   "source": [
    "import numpy as np\n",
    "import matplotlib.pyplot as plt\n",
    "# visualizing the data, ploting A.\n",
    "plt.imshow(np.array(a).reshape(5, 6))\n",
    "plt.show()"
   ]
  },
  {
   "cell_type": "markdown",
   "metadata": {},
   "source": [
    "### Step 3: Convert dataset list to a numpy array"
   ]
  },
  {
   "cell_type": "code",
   "execution_count": 14,
   "metadata": {},
   "outputs": [
    {
     "name": "stdout",
     "output_type": "stream",
     "text": [
      "[array([[0, 0, 1, 1, 0, 0, 0, 1, 0, 0, 1, 0, 1, 1, 1, 1, 1, 1, 1, 0, 0, 0,\n",
      "        0, 1, 1, 0, 0, 0, 0, 1]]), array([[0, 1, 1, 1, 1, 0, 0, 1, 0, 0, 1, 0, 0, 1, 1, 1, 1, 0, 0, 1, 0, 0,\n",
      "        1, 0, 0, 1, 1, 1, 1, 0]]), array([[0, 1, 1, 1, 1, 0, 0, 1, 0, 0, 0, 0, 0, 1, 0, 0, 0, 0, 0, 1, 0, 0,\n",
      "        0, 0, 0, 1, 1, 1, 1, 0]])] \n",
      "\n",
      " [[1 0 0]\n",
      " [0 1 0]\n",
      " [0 0 1]]\n"
     ]
    }
   ],
   "source": [
    "\n",
    "# converting data and labels into numpy array\n",
    " \n",
    "\"\"\"\n",
    "Convert the matrix of 0 and 1 into one hot vector\n",
    "so that we can directly feed it to the neural network,\n",
    "these vectors are then stored in a list x.\n",
    "\"\"\"\n",
    " \n",
    "x =[np.array(a).reshape(1, 30), np.array(b).reshape(1, 30),\n",
    "                                np.array(c).reshape(1, 30)]\n",
    " \n",
    " \n",
    "# Labels are also converted into NumPy array\n",
    "y = np.array(y)\n",
    " \n",
    " \n",
    "print(x, \"\\n\\n\", y)"
   ]
  },
  {
   "cell_type": "markdown",
   "metadata": {},
   "source": [
    "### Step 4: Define architecture of the deep neural network\n",
    "\n",
    "Number of layers and number of nodes in each layer"
   ]
  },
  {
   "cell_type": "markdown",
   "metadata": {},
   "source": [
    "1st layer: Input layer(1, 30)\n",
    "\n",
    "2nd layer: Hidden layer (1, 5)\n",
    "\n",
    "3rd layer: Output layer(3, 3)"
   ]
  },
  {
   "cell_type": "markdown",
   "metadata": {},
   "source": [
    "### Step 5: Declaring and defining all the function to build deep neural network. "
   ]
  },
  {
   "cell_type": "code",
   "execution_count": 18,
   "metadata": {},
   "outputs": [],
   "source": [
    "# activation function\n",
    "\n",
    "def sigmoid(x):\n",
    "\treturn(1/(1 + np.exp(-x)))\n",
    "\n",
    "# Creating the Feed forward neural network\n",
    "# 1 Input layer(1, 30)\n",
    "# 1 hidden layer (1, 5)\n",
    "# 1 output layer(3, 3)\n",
    "\n",
    "def f_forward(x, w1, w2):\n",
    "\t# hidden\n",
    "\tz1 = x.dot(w1)# input from layer 1\n",
    "\ta1 = sigmoid(z1)# out put of layer 2\n",
    "\t\n",
    "\t# Output layer\n",
    "\tz2 = a1.dot(w2)# input of out layer\n",
    "\ta2 = sigmoid(z2)# output of out layer\n",
    "\treturn(a2)\n",
    "\n",
    "# initializing the weights randomly\n",
    "def generate_wt(x, y):\n",
    "\tl =[]\n",
    "\tfor i in range(x * y):\n",
    "\t\tl.append(np.random.randn())\n",
    "\treturn(np.array(l).reshape(x, y))\n",
    "\t\n",
    "# for loss we will be using mean square error(MSE)\n",
    "def loss(out, Y):\n",
    "\ts =(np.square(out-Y))\n",
    "\ts = np.sum(s)/len(y)\n",
    "\treturn(s)\n",
    "\n",
    "# Back propagation of error\n",
    "def back_prop(x, y, w1, w2, alpha):\n",
    "\t\n",
    "\t# hidden layer\n",
    "\tz1 = x.dot(w1)# input from layer 1\n",
    "\ta1 = sigmoid(z1)# output of layer 2\n",
    "\t\n",
    "\t# Output layer\n",
    "\tz2 = a1.dot(w2)# input of out layer\n",
    "\ta2 = sigmoid(z2)# output of out layer\n",
    "\t# error in output layer\n",
    "\td2 =(a2-y)\n",
    "\td1 = np.multiply((w2.dot((d2.transpose()))).transpose(),\n",
    "\t\t\t\t\t\t\t\t(np.multiply(a1, 1-a1)))\n",
    "\n",
    "\t# Gradient for w1 and w2\n",
    "\tw1_adj = x.transpose().dot(d1)\n",
    "\tw2_adj = a1.transpose().dot(d2)\n",
    "\t\n",
    "\t# Updating parameters\n",
    "\tw1 = w1-(alpha*(w1_adj))\n",
    "\tw2 = w2-(alpha*(w2_adj))\n",
    "\t\n",
    "\treturn(w1, w2)\n",
    "\n",
    "def train(x, Y, w1, w2, alpha = 0.01, epoch = 10):\n",
    "\tacc =[]\n",
    "\tlosss =[]\n",
    "\tfor j in range(epoch):\n",
    "\t\tl =[]\n",
    "\t\tfor i in range(len(x)):\n",
    "\t\t\tout = f_forward(x[i], w1, w2)\n",
    "\t\t\tl.append((loss(out, Y[i])))\n",
    "\t\t\tw1, w2 = back_prop(x[i], y[i], w1, w2, alpha)\n",
    "\t\tprint(\"epochs:\", j + 1, \"======== acc:\", (1-(sum(l)/len(x)))*100)\n",
    "\t\tacc.append((1-(sum(l)/len(x)))*100)\n",
    "\t\tlosss.append(sum(l)/len(x))\n",
    "\treturn(acc, losss, w1, w2)\n",
    "\n",
    "def predict(x, w1, w2):\n",
    "\tOut = f_forward(x, w1, w2)\n",
    "\tmaxm = 0\n",
    "\tk = 0\n",
    "\tfor i in range(len(Out[0])):\n",
    "\t\tif(maxm<Out[0][i]):\n",
    "\t\t\tmaxm = Out[0][i]\n",
    "\t\t\tk = i\n",
    "\tif(k == 0):\n",
    "\t\tprint(\"Image is of letter A.\")\n",
    "\telif(k == 1):\n",
    "\t\tprint(\"Image is of letter B.\")\n",
    "\telse:\n",
    "\t\tprint(\"Image is of letter C.\")\n",
    "\tplt.imshow(x.reshape(5, 6))\n",
    "\tplt.show()\n"
   ]
  },
  {
   "cell_type": "markdown",
   "metadata": {},
   "source": [
    "### Step 6: Initialize the weights\n",
    "\n",
    "Neural network has 3 layeres so there will be 2 weight matrixes associated"
   ]
  },
  {
   "cell_type": "code",
   "execution_count": 19,
   "metadata": {},
   "outputs": [
    {
     "name": "stdout",
     "output_type": "stream",
     "text": [
      "[[ 9.79553055e-02  2.20490593e+00  1.20643927e+00 -3.06156833e-01\n",
      "   1.24123720e-01]\n",
      " [ 4.22138131e-01  9.87573785e-02  4.70745051e-01  6.49807253e-01\n",
      "   1.82694479e+00]\n",
      " [-7.89248576e-01  6.06601104e-01  3.59860320e-01 -9.51448846e-01\n",
      "  -6.68449796e-01]\n",
      " [-6.53724366e-01  2.34981984e+00 -8.81558384e-01  4.16501337e-01\n",
      "   1.06299950e+00]\n",
      " [ 1.29012072e+00 -1.27475193e-02  8.26214270e-01 -9.04616795e-01\n",
      "  -1.10254416e-01]\n",
      " [-1.08209108e+00 -1.23003432e+00  2.50337058e+00  3.90880878e-01\n",
      "   1.50783714e+00]\n",
      " [-2.90780775e-01 -1.31899251e-01  1.05375565e-01  8.84629277e-01\n",
      "  -1.13788737e+00]\n",
      " [ 1.04596167e+00 -1.38235216e+00 -1.31486238e-01  1.41281624e+00\n",
      "  -1.20294487e+00]\n",
      " [-6.19721155e-01  1.09527044e+00  1.33252245e+00  2.46142476e-01\n",
      "  -1.71022654e+00]\n",
      " [-1.50648896e+00  1.06184081e+00 -4.81395645e-01  1.64426530e+00\n",
      "  -5.71655590e-01]\n",
      " [-1.36606846e+00  1.46703294e+00  2.43781067e-03  1.42552588e+00\n",
      "   4.33131197e-01]\n",
      " [-7.19182787e-01 -2.12393334e-01 -2.34338247e-01  2.57257628e+00\n",
      "   1.41317129e+00]\n",
      " [-7.27874418e-01 -1.72492559e+00 -1.72197346e-01  7.89156429e-01\n",
      "   2.22519723e+00]\n",
      " [ 5.79542477e-01  7.45426311e-02  1.35460899e+00 -7.78826424e-01\n",
      "  -3.40707636e-02]\n",
      " [-7.78129753e-01 -2.78858162e-01  7.25569547e-01 -4.60116153e-01\n",
      "  -7.50173846e-01]\n",
      " [-1.28243672e+00  1.23970427e+00  2.34581857e-01  6.42263172e-01\n",
      "   1.18270794e+00]\n",
      " [-2.29359427e-01  8.50805656e-02 -4.16078037e-01 -1.22086643e+00\n",
      "   1.75746750e-03]\n",
      " [-1.35810255e+00 -1.17714991e+00  1.63152775e-01  4.13743651e-01\n",
      "   4.13670977e-01]\n",
      " [-1.30328108e+00 -1.59885124e+00  6.29106890e-01 -1.15248655e+00\n",
      "   1.44347911e+00]\n",
      " [-2.07865092e+00  9.33249774e-01 -8.18420642e-02 -8.32882262e-01\n",
      "   1.41584793e+00]\n",
      " [ 7.88738956e-01  1.75222352e+00  3.01553273e-01 -1.20011279e+00\n",
      "   1.15271182e+00]\n",
      " [-1.03514219e+00  6.57732958e-01  1.73611778e+00 -1.28128455e+00\n",
      "   5.16848305e-01]\n",
      " [-3.11442207e-01  2.42162708e-01  4.84297444e-01  9.52927823e-01\n",
      "   1.60517313e+00]\n",
      " [ 3.75987032e-01 -1.55772744e+00  5.72727767e-01 -1.06340787e-01\n",
      "   1.02230576e+00]\n",
      " [ 1.16496995e+00  7.84301690e-01  3.65610374e-01  6.88188587e-01\n",
      "  -2.77582867e-01]\n",
      " [ 6.59821850e-01  8.00058495e-01 -4.63197201e-01 -1.57531662e+00\n",
      "   1.32639768e+00]\n",
      " [ 2.40369907e-01 -1.26365359e-01 -6.16050416e-01 -5.12877309e-01\n",
      "   5.16518046e-03]\n",
      " [-9.03694153e-01 -1.64111996e-02  1.06252583e+00 -8.41424388e-03\n",
      "  -7.13220396e-01]\n",
      " [ 1.04930239e+00  9.48976789e-01 -9.76168407e-01 -4.24783970e-01\n",
      "   8.34602352e-01]\n",
      " [ 2.63490409e-02  4.28691593e-02 -3.80145916e-02  1.56346647e+00\n",
      "  -8.03525995e-02]] \n",
      "\n",
      " [[-0.00915501  0.15897422  0.94165144]\n",
      " [-0.35389469  0.292171   -0.39251404]\n",
      " [-2.15818087 -0.76549117 -1.42047975]\n",
      " [-0.57116442  0.57844682 -1.01307944]\n",
      " [ 0.63049794 -0.34386303  0.80434839]]\n"
     ]
    }
   ],
   "source": [
    "w1 = generate_wt(30, 5)\n",
    "w2 = generate_wt(5, 3)\n",
    "print(w1, \"\\n\\n\", w2)"
   ]
  },
  {
   "cell_type": "markdown",
   "metadata": {},
   "source": [
    "### Step 7: Training the Model"
   ]
  },
  {
   "cell_type": "code",
   "execution_count": 20,
   "metadata": {},
   "outputs": [
    {
     "name": "stdout",
     "output_type": "stream",
     "text": [
      "epochs: 1 ======== acc: 77.39943915413102\n",
      "epochs: 2 ======== acc: 77.96884585510226\n",
      "epochs: 3 ======== acc: 78.5576630630127\n",
      "epochs: 4 ======== acc: 79.1639704757484\n",
      "epochs: 5 ======== acc: 79.78371738651452\n",
      "epochs: 6 ======== acc: 80.41156079867756\n",
      "epochs: 7 ======== acc: 81.0415539789041\n",
      "epochs: 8 ======== acc: 81.66769389854598\n",
      "epochs: 9 ======== acc: 82.28433807278171\n",
      "epochs: 10 ======== acc: 82.88649924592794\n",
      "epochs: 11 ======== acc: 83.4700273759678\n",
      "epochs: 12 ======== acc: 84.03169267439714\n",
      "epochs: 13 ======== acc: 84.56918832650045\n",
      "epochs: 14 ======== acc: 85.08107423289337\n",
      "epochs: 15 ======== acc: 85.56668251642652\n",
      "epochs: 16 ======== acc: 86.02600220642039\n",
      "epochs: 17 ======== acc: 86.45955602249064\n",
      "epochs: 18 ======== acc: 86.8682780980827\n",
      "epochs: 19 ======== acc: 87.25339863131194\n",
      "epochs: 20 ======== acc: 87.61633975691956\n",
      "epochs: 21 ======== acc: 87.95862580371033\n",
      "epochs: 22 ======== acc: 88.28180996262755\n",
      "epochs: 23 ======== acc: 88.58741803302796\n",
      "epochs: 24 ======== acc: 88.87690849631879\n",
      "epochs: 25 ======== acc: 89.15164698865819\n",
      "epochs: 26 ======== acc: 89.41289252851944\n",
      "epochs: 27 ======== acc: 89.66179264415072\n",
      "epochs: 28 ======== acc: 89.89938473748732\n",
      "epochs: 29 ======== acc: 90.12660144993883\n",
      "epochs: 30 ======== acc: 90.34427830765604\n",
      "epochs: 31 ======== acc: 90.55316241244965\n",
      "epochs: 32 ======== acc: 90.75392135384601\n",
      "epochs: 33 ======== acc: 90.94715183113045\n",
      "epochs: 34 ======== acc: 91.13338769794684\n",
      "epochs: 35 ======== acc: 91.3131072924891\n",
      "epochs: 36 ======== acc: 91.4867400119116\n",
      "epochs: 37 ======== acc: 91.65467214659937\n",
      "epochs: 38 ======== acc: 91.81725202118511\n",
      "epochs: 39 ======== acc: 91.97479450400475\n",
      "epochs: 40 ======== acc: 92.12758495146328\n",
      "epochs: 41 ======== acc: 92.27588265277645\n",
      "epochs: 42 ======== acc: 92.41992383645241\n",
      "epochs: 43 ======== acc: 92.55992429433586\n",
      "epochs: 44 ======== acc: 92.69608167303294\n",
      "epochs: 45 ======== acc: 92.82857747662034\n",
      "epochs: 46 ======== acc: 92.95757881900478\n",
      "epochs: 47 ======== acc: 93.0832399592721\n",
      "epochs: 48 ======== acc: 93.20570364889006\n",
      "epochs: 49 ======== acc: 93.32510231569418\n",
      "epochs: 50 ======== acc: 93.44155910615906\n",
      "epochs: 51 ======== acc: 93.55518880448781\n",
      "epochs: 52 ======== acc: 93.66609864449141\n",
      "epochs: 53 ======== acc: 93.77438902802642\n",
      "epochs: 54 ======== acc: 93.8801541618672\n",
      "epochs: 55 ======== acc: 93.98348262326628\n",
      "epochs: 56 ======== acc: 94.08445786306461\n",
      "epochs: 57 ======== acc: 94.18315865402113\n",
      "epochs: 58 ======== acc: 94.27965949100775\n",
      "epochs: 59 ======== acc: 94.37403094883913\n",
      "epochs: 60 ======== acc: 94.46634000275218\n",
      "epochs: 61 ======== acc: 94.55665031590303\n",
      "epochs: 62 ======== acc: 94.64502249769214\n",
      "epochs: 63 ======== acc: 94.73151433624675\n",
      "epochs: 64 ======== acc: 94.81618100797606\n",
      "epochs: 65 ======== acc: 94.8990752667557\n",
      "epochs: 66 ======== acc: 94.98024761498738\n",
      "epochs: 67 ======== acc: 95.05974645850984\n",
      "epochs: 68 ======== acc: 95.13761824710384\n",
      "epochs: 69 ======== acc: 95.21390760212866\n",
      "epochs: 70 ======== acc: 95.28865743265038\n",
      "epochs: 71 ======== acc: 95.36190904126613\n",
      "epochs: 72 ======== acc: 95.43370222069181\n",
      "epochs: 73 ======== acc: 95.50407534206167\n",
      "epochs: 74 ======== acc: 95.57306543578217\n",
      "epochs: 75 ======== acc: 95.64070826569018\n",
      "epochs: 76 ======== acc: 95.70703839718362\n",
      "epochs: 77 ======== acc: 95.77208925992034\n",
      "epochs: 78 ======== acc: 95.8358932056169\n",
      "epochs: 79 ======== acc: 95.89848156142247\n",
      "epochs: 80 ======== acc: 95.95988467929234\n",
      "epochs: 81 ======== acc: 96.02013198174075\n",
      "epochs: 82 ======== acc: 96.07925200431364\n",
      "epochs: 83 ======== acc: 96.13727243508518\n",
      "epochs: 84 ======== acc: 96.19422015145156\n",
      "epochs: 85 ======== acc: 96.25012125446635\n",
      "epochs: 86 ======== acc: 96.305001100937\n",
      "epochs: 87 ======== acc: 96.35888433347941\n",
      "epochs: 88 ======== acc: 96.41179490870691\n",
      "epochs: 89 ======== acc: 96.46375612371259\n",
      "epochs: 90 ======== acc: 96.51479064098696\n",
      "epochs: 91 ======== acc: 96.5649205118988\n",
      "epochs: 92 ======== acc: 96.614167198854\n",
      "epochs: 93 ======== acc: 96.6625515962349\n",
      "epochs: 94 ======== acc: 96.71009405021287\n",
      "epochs: 95 ======== acc: 96.7568143775166\n",
      "epochs: 96 ======== acc: 96.80273188323034\n",
      "epochs: 97 ======== acc: 96.84786537768863\n",
      "epochs: 98 ======== acc: 96.89223319252655\n",
      "epochs: 99 ======== acc: 96.93585319593893\n",
      "epochs: 100 ======== acc: 96.97874280719553\n"
     ]
    }
   ],
   "source": [
    "\n",
    "\"\"\"The arguments of train function are data set list x,\n",
    "correct labels y, weights w1, w2, learning rate = 0.1,\n",
    "no of epochs or iteration.The function will return the\n",
    "matrix of accuracy and loss and also the matrix of\n",
    "trained weights w1, w2\"\"\"\n",
    " \n",
    "acc, losss, w1, w2 = train(x, y, w1, w2, 0.1, 100)"
   ]
  },
  {
   "cell_type": "markdown",
   "metadata": {},
   "source": [
    "### Step 8 : Plotting the graphs of loss and accuracy with respect to number of epochs(Iteration)"
   ]
  },
  {
   "cell_type": "code",
   "execution_count": 21,
   "metadata": {},
   "outputs": [
    {
     "data": {
      "image/png": "[encoded data removed]",
      "text/plain": [
       "<Figure size 432x288 with 1 Axes>"
      ]
     },
     "metadata": {
      "needs_background": "light"
     },
     "output_type": "display_data"
    },
    {
     "data": {
      "image/png": "[encoded data removed]",
      "text/plain": [
       "<Figure size 432x288 with 1 Axes>"
      ]
     },
     "metadata": {
      "needs_background": "light"
     },
     "output_type": "display_data"
    }
   ],
   "source": [
    "import matplotlib.pyplot as plt1\n",
    " \n",
    "# ploting accuracy\n",
    "plt1.plot(acc)\n",
    "plt1.ylabel('Accuracy')\n",
    "plt1.xlabel(\"Epochs:\")\n",
    "plt1.show()\n",
    " \n",
    "# plotting Loss\n",
    "plt1.plot(losss)\n",
    "plt1.ylabel('Loss')\n",
    "plt1.xlabel(\"Epochs:\")\n",
    "plt1.show()"
   ]
  },
  {
   "cell_type": "code",
   "execution_count": 22,
   "metadata": {},
   "outputs": [
    {
     "name": "stdout",
     "output_type": "stream",
     "text": [
      "[[ 0.09795531  2.20490593  1.20643927 -0.30615683  0.12412372]\n",
      " [ 0.61324151  0.03857319  0.63747637  0.70698074  1.86176787]\n",
      " [-0.60350742  0.29046662  0.23288651 -0.8580115  -0.60502369]\n",
      " [-0.46798321  2.03368536 -1.00853219  0.50993868  1.12642561]\n",
      " [ 1.4812241  -0.07293171  0.99294559 -0.84744331 -0.07543133]\n",
      " [-1.08209108 -1.23003432  2.50337058  0.39088088  1.50783714]\n",
      " [-0.29078077 -0.13189925  0.10537556  0.88462928 -1.13788737]\n",
      " [ 1.23170283 -1.69848665 -0.25846005  1.50625358 -1.13951877]\n",
      " [-0.61972116  1.09527044  1.33252245  0.24614248 -1.71022654]\n",
      " [-1.50648896  1.06184081 -0.48139565  1.6442653  -0.57165559]\n",
      " [-1.80711652  1.26012239 -0.10963674  1.87024869  0.45217642]\n",
      " [-0.71918279 -0.21239333 -0.23433825  2.57257628  1.41317129]\n",
      " [-0.73323664 -1.98087589 -0.46590247  0.82542028  2.25380025]\n",
      " [ 0.76528363 -0.24159186  1.22763518 -0.68538908  0.02935534]\n",
      " [-1.21917782 -0.48576871  0.613495   -0.01539334 -0.73112862]\n",
      " [-1.72348478  1.03279372  0.12250731  1.08698599  1.20175317]\n",
      " [-0.67040749 -0.12182998 -0.52815258 -0.77614361  0.02080269]\n",
      " [-1.36346477 -1.43310021 -0.13055235  0.4500075   0.44227399]\n",
      " [-1.3086433  -1.85480154  0.33540176 -1.1162227   1.47208212]\n",
      " [-1.88754754  0.87306559  0.08488925 -0.77570877  1.45067102]\n",
      " [ 0.78873896  1.75222352  0.30155327 -1.20011279  1.15271182]\n",
      " [-1.03514219  0.65773296  1.73611778 -1.28128455  0.51684831]\n",
      " [-0.74712804  0.29120246  0.66592802  1.36138678  1.59561534]\n",
      " [ 0.37062481 -1.81367774  0.27902264 -0.07007693  1.05090878]\n",
      " [ 1.15960772  0.52835139  0.07190525  0.72445244 -0.24897985]\n",
      " [ 0.85092523  0.73987431 -0.29646588 -1.51814313  1.36122077]\n",
      " [ 0.43147329 -0.18654955 -0.4493191  -0.45570382  0.03998827]\n",
      " [-0.71259077 -0.07659539  1.22925715  0.04875925 -0.67839731]\n",
      " [ 1.24040577  0.8887926  -0.80943709 -0.36761048  0.86942544]\n",
      " [ 0.02098682 -0.21308114 -0.33171972  1.59973032 -0.05174958]] \n",
      " [[-0.93693228 -2.18770212  2.99244701]\n",
      " [-2.72049151  2.27211593  0.2665543 ]\n",
      " [-1.98361494 -0.59311467 -1.69309537]\n",
      " [ 1.67110863  0.12993821 -2.59508277]\n",
      " [ 1.21214652 -1.03621987  0.55406902]]\n"
     ]
    }
   ],
   "source": [
    "# the trained weights are\n",
    "print(w1, \"\\n\", w2)"
   ]
  },
  {
   "cell_type": "markdown",
   "metadata": {},
   "source": [
    "### Step 9: Making the Prediction"
   ]
  },
  {
   "cell_type": "code",
   "execution_count": 23,
   "metadata": {},
   "outputs": [
    {
     "name": "stdout",
     "output_type": "stream",
     "text": [
      "Image is of letter B.\n"
     ]
    },
    {
     "data": {
      "image/png": "[encoded data removed]",
      "text/plain": [
       "<Figure size 432x288 with 1 Axes>"
      ]
     },
     "metadata": {
      "needs_background": "light"
     },
     "output_type": "display_data"
    }
   ],
   "source": [
    "\"\"\"\n",
    "The predict function will take the following arguments:\n",
    "1) image matrix\n",
    "2) w1 trained weights\n",
    "3) w2 trained weights\n",
    "\"\"\"\n",
    "predict(x[1], w1, w2)"
   ]
  },
  {
   "cell_type": "code",
   "execution_count": null,
   "metadata": {},
   "outputs": [],
   "source": []
  }
 ],
 "metadata": {
  "interpreter": {
   "hash": "39512f3c2a1741d7f752d45a133d4514127029333ea14bc2f3c6c5e6759b9029"
  },
  "kernelspec": {
   "display_name": "Python 3.8.13 ('base_env')",
   "language": "python",
   "name": "python3"
  },
  "language_info": {
   "codemirror_mode": {
    "name": "ipython",
    "version": 3
   },
   "file_extension": ".py",
   "mimetype": "text/x-python",
   "name": "python",
   "nbconvert_exporter": "python",
   "pygments_lexer": "ipython3",
   "version": "3.8.13"
  },
  "orig_nbformat": 4
 },
 "nbformat": 4,
 "nbformat_minor": 2
}
