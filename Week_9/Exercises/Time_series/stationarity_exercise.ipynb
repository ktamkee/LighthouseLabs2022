{
 "cells": [
  {
   "cell_type": "markdown",
   "metadata": {},
   "source": [
    "### Stationarity Exercise"
   ]
  },
  {
   "cell_type": "code",
   "execution_count": 56,
   "metadata": {},
   "outputs": [],
   "source": [
    "import pandas as pd\n",
    "import numpy as np"
   ]
  },
  {
   "cell_type": "code",
   "execution_count": 69,
   "metadata": {
    "ExecuteTime": {
     "end_time": "2020-04-29T13:07:08.619172Z",
     "start_time": "2020-04-29T13:07:08.347363Z"
    }
   },
   "outputs": [],
   "source": [
    "# import matplotlib\n",
    "import matplotlib.pyplot as plt\n",
    "\n",
    "# import random\n",
    "import random\n",
    "\n",
    "# set a random seed\n",
    "random.seed(5)"
   ]
  },
  {
   "cell_type": "markdown",
   "metadata": {},
   "source": [
    "* generate a NON stationary time-series"
   ]
  },
  {
   "cell_type": "code",
   "execution_count": 70,
   "metadata": {
    "ExecuteTime": {
     "end_time": "2020-04-29T13:07:08.793530Z",
     "start_time": "2020-04-29T13:07:08.789414Z"
    }
   },
   "outputs": [],
   "source": [
    "random_squared = []\n",
    "for i in range(0,100):\n",
    "    n = random.randint(1,30)\n",
    "    random_squared.append(i + n)\n",
    "\n",
    "dates = pd.date_range('2022-01-01', periods=100)"
   ]
  },
  {
   "cell_type": "code",
   "execution_count": 71,
   "metadata": {},
   "outputs": [
    {
     "data": {
      "text/html": [
       "<div>\n",
       "<style scoped>\n",
       "    .dataframe tbody tr th:only-of-type {\n",
       "        vertical-align: middle;\n",
       "    }\n",
       "\n",
       "    .dataframe tbody tr th {\n",
       "        vertical-align: top;\n",
       "    }\n",
       "\n",
       "    .dataframe thead th {\n",
       "        text-align: right;\n",
       "    }\n",
       "</style>\n",
       "<table border=\"1\" class=\"dataframe\">\n",
       "  <thead>\n",
       "    <tr style=\"text-align: right;\">\n",
       "      <th></th>\n",
       "      <th>Number</th>\n",
       "    </tr>\n",
       "    <tr>\n",
       "      <th>Date</th>\n",
       "      <th></th>\n",
       "    </tr>\n",
       "  </thead>\n",
       "  <tbody>\n",
       "    <tr>\n",
       "      <th>2022-01-01</th>\n",
       "      <td>20</td>\n",
       "    </tr>\n",
       "    <tr>\n",
       "      <th>2022-01-02</th>\n",
       "      <td>10</td>\n",
       "    </tr>\n",
       "    <tr>\n",
       "      <th>2022-01-03</th>\n",
       "      <td>26</td>\n",
       "    </tr>\n",
       "    <tr>\n",
       "      <th>2022-01-04</th>\n",
       "      <td>15</td>\n",
       "    </tr>\n",
       "    <tr>\n",
       "      <th>2022-01-05</th>\n",
       "      <td>30</td>\n",
       "    </tr>\n",
       "  </tbody>\n",
       "</table>\n",
       "</div>"
      ],
      "text/plain": [
       "            Number\n",
       "Date              \n",
       "2022-01-01      20\n",
       "2022-01-02      10\n",
       "2022-01-03      26\n",
       "2022-01-04      15\n",
       "2022-01-05      30"
      ]
     },
     "execution_count": 71,
     "metadata": {},
     "output_type": "execute_result"
    }
   ],
   "source": [
    "non_stationary = pd.DataFrame({'Date': dates, 'Number': random_squared}).set_index('Date')\n",
    "non_stationary.head()"
   ]
  },
  {
   "cell_type": "markdown",
   "metadata": {},
   "source": [
    "* plot the NON stationary series generated above"
   ]
  },
  {
   "cell_type": "code",
   "execution_count": 48,
   "metadata": {
    "ExecuteTime": {
     "end_time": "2020-04-29T13:07:09.408017Z",
     "start_time": "2020-04-29T13:07:09.204629Z"
    }
   },
   "outputs": [
    {
     "data": {
      "text/plain": [
       "[<matplotlib.lines.Line2D at 0x13c6d2e80>]"
      ]
     },
     "execution_count": 48,
     "metadata": {},
     "output_type": "execute_result"
    },
    {
     "data": {
      "image/png": "[encoded data removed]",
      "text/plain": [
       "<Figure size 432x288 with 1 Axes>"
      ]
     },
     "metadata": {
      "needs_background": "light"
     },
     "output_type": "display_data"
    }
   ],
   "source": [
    "c"
   ]
  },
  {
   "cell_type": "markdown",
   "metadata": {},
   "source": [
    "* generate a stationary time-series"
   ]
  },
  {
   "cell_type": "code",
   "execution_count": 49,
   "metadata": {
    "ExecuteTime": {
     "end_time": "2020-04-29T13:07:09.617860Z",
     "start_time": "2020-04-29T13:07:09.613005Z"
    }
   },
   "outputs": [],
   "source": [
    "randomlist = []\n",
    "for i in range(0,100):\n",
    "    n = random.randint(1,30)\n",
    "    randomlist.append(n)\n",
    "\n",
    "dates = pd.date_range('2022-01-01', periods=100)"
   ]
  },
  {
   "cell_type": "code",
   "execution_count": 50,
   "metadata": {},
   "outputs": [
    {
     "data": {
      "text/html": [
       "<div>\n",
       "<style scoped>\n",
       "    .dataframe tbody tr th:only-of-type {\n",
       "        vertical-align: middle;\n",
       "    }\n",
       "\n",
       "    .dataframe tbody tr th {\n",
       "        vertical-align: top;\n",
       "    }\n",
       "\n",
       "    .dataframe thead th {\n",
       "        text-align: right;\n",
       "    }\n",
       "</style>\n",
       "<table border=\"1\" class=\"dataframe\">\n",
       "  <thead>\n",
       "    <tr style=\"text-align: right;\">\n",
       "      <th></th>\n",
       "      <th>Number</th>\n",
       "    </tr>\n",
       "    <tr>\n",
       "      <th>Date</th>\n",
       "      <th></th>\n",
       "    </tr>\n",
       "  </thead>\n",
       "  <tbody>\n",
       "    <tr>\n",
       "      <th>2022-01-01</th>\n",
       "      <td>16</td>\n",
       "    </tr>\n",
       "    <tr>\n",
       "      <th>2022-01-02</th>\n",
       "      <td>16</td>\n",
       "    </tr>\n",
       "    <tr>\n",
       "      <th>2022-01-03</th>\n",
       "      <td>23</td>\n",
       "    </tr>\n",
       "    <tr>\n",
       "      <th>2022-01-04</th>\n",
       "      <td>6</td>\n",
       "    </tr>\n",
       "    <tr>\n",
       "      <th>2022-01-05</th>\n",
       "      <td>2</td>\n",
       "    </tr>\n",
       "  </tbody>\n",
       "</table>\n",
       "</div>"
      ],
      "text/plain": [
       "            Number\n",
       "Date              \n",
       "2022-01-01      16\n",
       "2022-01-02      16\n",
       "2022-01-03      23\n",
       "2022-01-04       6\n",
       "2022-01-05       2"
      ]
     },
     "execution_count": 50,
     "metadata": {},
     "output_type": "execute_result"
    }
   ],
   "source": [
    "stationary = pd.DataFrame({'Date': dates, 'Number': randomlist}).set_index('Date')\n",
    "stationary.head()"
   ]
  },
  {
   "cell_type": "markdown",
   "metadata": {
    "ExecuteTime": {
     "end_time": "2020-04-29T13:02:41.410367Z",
     "start_time": "2020-04-29T13:02:41.403787Z"
    }
   },
   "source": [
    "* plot the stationary series generated above"
   ]
  },
  {
   "cell_type": "code",
   "execution_count": 51,
   "metadata": {
    "ExecuteTime": {
     "end_time": "2020-04-29T13:07:10.191810Z",
     "start_time": "2020-04-29T13:07:09.991413Z"
    }
   },
   "outputs": [
    {
     "data": {
      "text/plain": [
       "[<matplotlib.lines.Line2D at 0x14bd99400>]"
      ]
     },
     "execution_count": 51,
     "metadata": {},
     "output_type": "execute_result"
    },
    {
     "data": {
      "image/png": "[encoded data removed]",
      "text/plain": [
       "<Figure size 432x288 with 1 Axes>"
      ]
     },
     "metadata": {
      "needs_background": "light"
     },
     "output_type": "display_data"
    }
   ],
   "source": [
    "plt.plot(stationary)"
   ]
  },
  {
   "cell_type": "markdown",
   "metadata": {},
   "source": [
    "* Create a function `'ADF_Stationarity_Test'` with the input parameters `timeseries` and `significance_level` which: \n",
    "    * prints the adfuller test results\n",
    "    * prints the conclusion stating whether timeseries is stationary based on the siginificance level (input parameter of function)\n"
   ]
  },
  {
   "cell_type": "code",
   "execution_count": 52,
   "metadata": {
    "ExecuteTime": {
     "end_time": "2020-04-29T13:07:11.022255Z",
     "start_time": "2020-04-29T13:07:11.010743Z"
    }
   },
   "outputs": [],
   "source": [
    "from statsmodels.tsa.stattools import adfuller\n",
    "\n",
    "def ADF_Stationarity_Test(timeseries, significance_level):\n",
    "    X = timeseries.values\n",
    "    result = adfuller(X)\n",
    "\n",
    "    print('--ADF Test Result--')\n",
    "    print('ADF Statistic: %f' % result[0])\n",
    "    print('p-value: %f' % result[1])\n",
    "    print('Critical Values:')\n",
    "    for key, value in result[4].items():\n",
    "\t    print('\\t%s: %.3f' % (key, value))\n",
    "    print()\n",
    "    \n",
    "    if result[1] <= significance_level:\n",
    "        print(f'With a p-value of {result[1]} and a significance level of {significance_level}, the time series is stationary')\n",
    "    else:\n",
    "        print(f'With a p-value of {result[1]} and a significance level of {significance_level}, the time series is non-stationary')"
   ]
  },
  {
   "cell_type": "markdown",
   "metadata": {},
   "source": [
    "* Apply the function `'ADF_Stationarity_Test'` to find out whether the timeseries generated above are stationary."
   ]
  },
  {
   "cell_type": "code",
   "execution_count": 53,
   "metadata": {
    "ExecuteTime": {
     "end_time": "2020-04-29T13:07:11.132517Z",
     "start_time": "2020-04-29T13:07:11.096792Z"
    }
   },
   "outputs": [
    {
     "name": "stdout",
     "output_type": "stream",
     "text": [
      "--ADF Test Result--\n",
      "ADF Statistic: -10.952781\n",
      "p-value: 0.000000\n",
      "Critical Values:\n",
      "\t1%: -3.498\n",
      "\t5%: -2.891\n",
      "\t10%: -2.583\n",
      "\n",
      "With a p-value of 8.712522521062806e-20 and a significance level of 0.05, the time series is stationary\n"
     ]
    }
   ],
   "source": [
    "ADF_Stationarity_Test(stationary, 0.05)"
   ]
  },
  {
   "cell_type": "code",
   "execution_count": 54,
   "metadata": {},
   "outputs": [
    {
     "name": "stdout",
     "output_type": "stream",
     "text": [
      "--ADF Test Result--\n",
      "ADF Statistic: -0.038158\n",
      "p-value: 0.955260\n",
      "Critical Values:\n",
      "\t1%: -3.502\n",
      "\t5%: -2.893\n",
      "\t10%: -2.583\n",
      "\n",
      "With a p-value of 0.9552603791523991 and a significance level of 0.05, the time series is non-stationary\n"
     ]
    }
   ],
   "source": [
    "ADF_Stationarity_Test(non_stationary, 0.05)"
   ]
  },
  {
   "cell_type": "markdown",
   "metadata": {},
   "source": [
    "* Apply a suitable transformation to make the NON stationary time series stationary."
   ]
  },
  {
   "cell_type": "code",
   "execution_count": 82,
   "metadata": {
    "ExecuteTime": {
     "end_time": "2020-04-29T13:07:11.747926Z",
     "start_time": "2020-04-29T13:07:11.743645Z"
    }
   },
   "outputs": [],
   "source": [
    "def difference(timeseries, interval=1):\n",
    "\tX = timeseries.values\n",
    "\tdiff = list()\n",
    "\tfor i in range(len(X)):\n",
    "\t\tvalue = X[i] - X[i - interval]\n",
    "\t\tdiff.append(int(value))\n",
    "\treturn diff"
   ]
  },
  {
   "cell_type": "code",
   "execution_count": 83,
   "metadata": {},
   "outputs": [],
   "source": [
    "non_stationary_transform = non_stationary.copy()\n",
    "non_stationary['Number'] = difference(non_stationary)"
   ]
  },
  {
   "cell_type": "markdown",
   "metadata": {},
   "source": [
    "* plot the transformed time series"
   ]
  },
  {
   "cell_type": "code",
   "execution_count": 86,
   "metadata": {
    "ExecuteTime": {
     "end_time": "2020-04-29T13:07:12.324715Z",
     "start_time": "2020-04-29T13:07:12.093597Z"
    }
   },
   "outputs": [
    {
     "data": {
      "text/plain": [
       "[<matplotlib.lines.Line2D at 0x14bf6fc40>]"
      ]
     },
     "execution_count": 86,
     "metadata": {},
     "output_type": "execute_result"
    },
    {
     "data": {
      "image/png": "[encoded data removed]",
      "text/plain": [
       "<Figure size 432x288 with 1 Axes>"
      ]
     },
     "metadata": {
      "needs_background": "light"
     },
     "output_type": "display_data"
    }
   ],
   "source": [
    "plt.plot(non_stationary)"
   ]
  },
  {
   "cell_type": "markdown",
   "metadata": {},
   "source": [
    "* Apply the function `'ADF_Stationarity_Test'` to find out whether the transformed timeseries is stationary."
   ]
  },
  {
   "cell_type": "code",
   "execution_count": 87,
   "metadata": {
    "ExecuteTime": {
     "end_time": "2020-04-29T13:07:12.573185Z",
     "start_time": "2020-04-29T13:07:12.546067Z"
    }
   },
   "outputs": [
    {
     "name": "stdout",
     "output_type": "stream",
     "text": [
      "--ADF Test Result--\n",
      "ADF Statistic: -9.223736\n",
      "p-value: 0.000000\n",
      "Critical Values:\n",
      "\t1%: -3.501\n",
      "\t5%: -2.892\n",
      "\t10%: -2.583\n",
      "\n",
      "With a p-value of 1.7517251212360106e-15 and a significance level of 0.05, the time series is stationary\n"
     ]
    }
   ],
   "source": [
    "ADF_Stationarity_Test(non_stationary, 0.05)"
   ]
  },
  {
   "cell_type": "code",
   "execution_count": null,
   "metadata": {},
   "outputs": [],
   "source": []
  }
 ],
 "metadata": {
  "interpreter": {
   "hash": "39512f3c2a1741d7f752d45a133d4514127029333ea14bc2f3c6c5e6759b9029"
  },
  "kernelspec": {
   "display_name": "Python 3.8.13 ('base_env')",
   "language": "python",
   "name": "python3"
  },
  "language_info": {
   "codemirror_mode": {
    "name": "ipython",
    "version": 3
   },
   "file_extension": ".py",
   "mimetype": "text/x-python",
   "name": "python",
   "nbconvert_exporter": "python",
   "pygments_lexer": "ipython3",
   "version": "3.8.13"
  },
  "toc": {
   "base_numbering": 1,
   "nav_menu": {},
   "number_sections": true,
   "sideBar": true,
   "skip_h1_title": false,
   "title_cell": "Table of Contents",
   "title_sidebar": "Contents",
   "toc_cell": false,
   "toc_position": {},
   "toc_section_display": true,
   "toc_window_display": false
  },
  "varInspector": {
   "cols": {
    "lenName": 16,
    "lenType": 16,
    "lenVar": 40
   },
   "kernels_config": {
    "python": {
     "delete_cmd_postfix": "",
     "delete_cmd_prefix": "del ",
     "library": "var_list.py",
     "varRefreshCmd": "print(var_dic_list())"
    },
    "r": {
     "delete_cmd_postfix": ") ",
     "delete_cmd_prefix": "rm(",
     "library": "var_list.r",
     "varRefreshCmd": "cat(var_dic_list()) "
    }
   },
   "types_to_exclude": [
    "module",
    "function",
    "builtin_function_or_method",
    "instance",
    "_Feature"
   ],
   "window_display": false
  }
 },
 "nbformat": 4,
 "nbformat_minor": 4
}
