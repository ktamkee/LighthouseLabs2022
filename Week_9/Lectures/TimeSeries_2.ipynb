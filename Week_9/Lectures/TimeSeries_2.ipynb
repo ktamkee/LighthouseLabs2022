{
  "nbformat": 4,
  "nbformat_minor": 0,
  "metadata": {
    "colab": {
      "name": "TimeSeries 2.ipynb",
      "provenance": [],
      "collapsed_sections": []
    },
    "kernelspec": {
      "name": "python3",
      "display_name": "Python 3"
    },
    "language_info": {
      "name": "python"
    }
  },
  "cells": [
    {
      "cell_type": "markdown",
      "metadata": {
        "id": "p1WLrr5xUFWf"
      },
      "source": [
        "## Lighthouse Labs\n",
        "### W09D2 Time Series II\n",
        "\n",
        "Instructor: Samuel Boylan\n",
        "\n",
        "Jan 4, 2021\n",
        "\n",
        "Notebook modified from Andrew & Socorro. "
      ]
    },
    {
      "cell_type": "markdown",
      "metadata": {
        "id": "xD-9voz9UFWi"
      },
      "source": [
        "**What will we learn today?**\n",
        "\n",
        "* Facebook Prophet\n",
        "\n",
        "* Time Series as a Supervised Learning problem\n",
        "\n",
        "* Deep Learning for Stock Prediction\n",
        "\n",
        "* Time Series Final Project Ideas"
      ]
    },
    {
      "cell_type": "markdown",
      "metadata": {
        "id": "2cFtdXIcUFWi"
      },
      "source": [
        "## Facebook Prophet\n",
        "\n",
        "* FB Prophet is a procedure for forecasting time series data using a powerful toolkit created by Facebook. It allows us to decompose and model trends from time series data.\n",
        "\n",
        "* It works best with time series that have strong seasonal effects and several seasons of historical data. Prophet is robust to missing data and shifts in the trend, and typically handles outliers well.\n"
      ]
    },
    {
      "cell_type": "markdown",
      "metadata": {
        "id": "xvYTCYuLUFWj"
      },
      "source": [
        "### Why use Facebook Prophet?\n",
        "\n",
        "* It is accurate and fast\n",
        "    * It is used in many applications across Facebook and it produces reliable forecasts for planning and goal setting.\n",
        "    * Forescasts in a few seconds.\n",
        "* Fully automatic\n",
        "    * No manual effort. Robust to outliers, missing data, changes in time series.\n",
        "* Tunable forecasts\n",
        "    * Users can tweak and adjust forecasts. Add your domain knowledge!\n",
        "* R or Python\n",
        "\n",
        "*   Allows us to solve various Business Analytics Questions\n",
        "\n",
        "\n"
      ]
    },
    {
      "cell_type": "markdown",
      "metadata": {
        "id": "zWJrNo1iUFWm"
      },
      "source": [
        "### Predicting and Decomposing Online Sales for a Company using FB Prophet!"
      ]
    },
    {
      "cell_type": "code",
      "source": [
        "# Load packages\n",
        "import pandas as pd\n",
        "import numpy as np\n",
        "\n",
        "import matplotlib.pyplot as plt\n",
        "import requests, json, os, warnings, re\n",
        "\n",
        "# ignore warnings\n",
        "import warnings\n",
        "warnings.simplefilter(\"ignore\", UserWarning)"
      ],
      "metadata": {
        "id": "oihOYVW34CnZ"
      },
      "execution_count": null,
      "outputs": []
    },
    {
      "cell_type": "code",
      "source": [
        "# !pip list"
      ],
      "metadata": {
        "id": "YmzFnmfNTewq"
      },
      "execution_count": null,
      "outputs": []
    },
    {
      "cell_type": "code",
      "source": [
        "# Model Initialize\n",
        "\n",
        "# !pip install prophet # if you havn't done so\n",
        "import fbprophet\n",
        "from fbprophet import Prophet"
      ],
      "metadata": {
        "id": "gewOJGQQ4FuE"
      },
      "execution_count": null,
      "outputs": []
    },
    {
      "cell_type": "code",
      "source": [
        "df = pd.read_csv(\"https://raw.githubusercontent.com/nicknochnack/TimeSeriesForecastingProphet/main/dataset.csv\")"
      ],
      "metadata": {
        "id": "76dbaH5f4Sal"
      },
      "execution_count": null,
      "outputs": []
    },
    {
      "cell_type": "code",
      "source": [
        "df.head()"
      ],
      "metadata": {
        "colab": {
          "base_uri": "https://localhost:8080/",
          "height": 206
        },
        "id": "WoqFpXZ6hNF2",
        "outputId": "52d8afef-5901-4073-f9dc-573c38154fd8"
      },
      "execution_count": null,
      "outputs": [
        {
          "output_type": "execute_result",
          "data": {
            "text/plain": [
              "   Time Date  Product          Store     Value\n",
              "0    1012018  2667437  QLD_CW_ST0203  2926.000\n",
              "1    2012018  2667437  QLD_CW_ST0203  2687.531\n",
              "2    3012018  2667437  QLD_CW_ST0203  2793.000\n",
              "3    4012018  2667437  QLD_CW_ST0203  2394.000\n",
              "4    5012018  2667437  QLD_CW_ST0203  2660.000"
            ],
            "text/html": [
              "\n",
              "  <div id=\"df-d07e6060-bf49-45da-af3e-f651151d1d1e\">\n",
              "    <div class=\"colab-df-container\">\n",
              "      <div>\n",
              "<style scoped>\n",
              "    .dataframe tbody tr th:only-of-type {\n",
              "        vertical-align: middle;\n",
              "    }\n",
              "\n",
              "    .dataframe tbody tr th {\n",
              "        vertical-align: top;\n",
              "    }\n",
              "\n",
              "    .dataframe thead th {\n",
              "        text-align: right;\n",
              "    }\n",
              "</style>\n",
              "<table border=\"1\" class=\"dataframe\">\n",
              "  <thead>\n",
              "    <tr style=\"text-align: right;\">\n",
              "      <th></th>\n",
              "      <th>Time Date</th>\n",
              "      <th>Product</th>\n",
              "      <th>Store</th>\n",
              "      <th>Value</th>\n",
              "    </tr>\n",
              "  </thead>\n",
              "  <tbody>\n",
              "    <tr>\n",
              "      <th>0</th>\n",
              "      <td>1012018</td>\n",
              "      <td>2667437</td>\n",
              "      <td>QLD_CW_ST0203</td>\n",
              "      <td>2926.000</td>\n",
              "    </tr>\n",
              "    <tr>\n",
              "      <th>1</th>\n",
              "      <td>2012018</td>\n",
              "      <td>2667437</td>\n",
              "      <td>QLD_CW_ST0203</td>\n",
              "      <td>2687.531</td>\n",
              "    </tr>\n",
              "    <tr>\n",
              "      <th>2</th>\n",
              "      <td>3012018</td>\n",
              "      <td>2667437</td>\n",
              "      <td>QLD_CW_ST0203</td>\n",
              "      <td>2793.000</td>\n",
              "    </tr>\n",
              "    <tr>\n",
              "      <th>3</th>\n",
              "      <td>4012018</td>\n",
              "      <td>2667437</td>\n",
              "      <td>QLD_CW_ST0203</td>\n",
              "      <td>2394.000</td>\n",
              "    </tr>\n",
              "    <tr>\n",
              "      <th>4</th>\n",
              "      <td>5012018</td>\n",
              "      <td>2667437</td>\n",
              "      <td>QLD_CW_ST0203</td>\n",
              "      <td>2660.000</td>\n",
              "    </tr>\n",
              "  </tbody>\n",
              "</table>\n",
              "</div>\n",
              "      <button class=\"colab-df-convert\" onclick=\"convertToInteractive('df-d07e6060-bf49-45da-af3e-f651151d1d1e')\"\n",
              "              title=\"Convert this dataframe to an interactive table.\"\n",
              "              style=\"display:none;\">\n",
              "        \n",
              "  <svg xmlns=\"http://www.w3.org/2000/svg\" height=\"24px\"viewBox=\"0 0 24 24\"\n",
              "       width=\"24px\">\n",
              "    <path d=\"M0 0h24v24H0V0z\" fill=\"none\"/>\n",
              "    <path d=\"M18.56 5.44l.94 2.06.94-2.06 2.06-.94-2.06-.94-.94-2.06-.94 2.06-2.06.94zm-11 1L8.5 8.5l.94-2.06 2.06-.94-2.06-.94L8.5 2.5l-.94 2.06-2.06.94zm10 10l.94 2.06.94-2.06 2.06-.94-2.06-.94-.94-2.06-.94 2.06-2.06.94z\"/><path d=\"M17.41 7.96l-1.37-1.37c-.4-.4-.92-.59-1.43-.59-.52 0-1.04.2-1.43.59L10.3 9.45l-7.72 7.72c-.78.78-.78 2.05 0 2.83L4 21.41c.39.39.9.59 1.41.59.51 0 1.02-.2 1.41-.59l7.78-7.78 2.81-2.81c.8-.78.8-2.07 0-2.86zM5.41 20L4 18.59l7.72-7.72 1.47 1.35L5.41 20z\"/>\n",
              "  </svg>\n",
              "      </button>\n",
              "      \n",
              "  <style>\n",
              "    .colab-df-container {\n",
              "      display:flex;\n",
              "      flex-wrap:wrap;\n",
              "      gap: 12px;\n",
              "    }\n",
              "\n",
              "    .colab-df-convert {\n",
              "      background-color: #E8F0FE;\n",
              "      border: none;\n",
              "      border-radius: 50%;\n",
              "      cursor: pointer;\n",
              "      display: none;\n",
              "      fill: #1967D2;\n",
              "      height: 32px;\n",
              "      padding: 0 0 0 0;\n",
              "      width: 32px;\n",
              "    }\n",
              "\n",
              "    .colab-df-convert:hover {\n",
              "      background-color: #E2EBFA;\n",
              "      box-shadow: 0px 1px 2px rgba(60, 64, 67, 0.3), 0px 1px 3px 1px rgba(60, 64, 67, 0.15);\n",
              "      fill: #174EA6;\n",
              "    }\n",
              "\n",
              "    [theme=dark] .colab-df-convert {\n",
              "      background-color: #3B4455;\n",
              "      fill: #D2E3FC;\n",
              "    }\n",
              "\n",
              "    [theme=dark] .colab-df-convert:hover {\n",
              "      background-color: #434B5C;\n",
              "      box-shadow: 0px 1px 3px 1px rgba(0, 0, 0, 0.15);\n",
              "      filter: drop-shadow(0px 1px 2px rgba(0, 0, 0, 0.3));\n",
              "      fill: #FFFFFF;\n",
              "    }\n",
              "  </style>\n",
              "\n",
              "      <script>\n",
              "        const buttonEl =\n",
              "          document.querySelector('#df-d07e6060-bf49-45da-af3e-f651151d1d1e button.colab-df-convert');\n",
              "        buttonEl.style.display =\n",
              "          google.colab.kernel.accessAllowed ? 'block' : 'none';\n",
              "\n",
              "        async function convertToInteractive(key) {\n",
              "          const element = document.querySelector('#df-d07e6060-bf49-45da-af3e-f651151d1d1e');\n",
              "          const dataTable =\n",
              "            await google.colab.kernel.invokeFunction('convertToInteractive',\n",
              "                                                     [key], {});\n",
              "          if (!dataTable) return;\n",
              "\n",
              "          const docLinkHtml = 'Like what you see? Visit the ' +\n",
              "            '<a target=\"_blank\" href=https://colab.research.google.com/notebooks/data_table.ipynb>data table notebook</a>'\n",
              "            + ' to learn more about interactive tables.';\n",
              "          element.innerHTML = '';\n",
              "          dataTable['output_type'] = 'display_data';\n",
              "          await google.colab.output.renderOutput(dataTable, element);\n",
              "          const docLink = document.createElement('div');\n",
              "          docLink.innerHTML = docLinkHtml;\n",
              "          element.appendChild(docLink);\n",
              "        }\n",
              "      </script>\n",
              "    </div>\n",
              "  </div>\n",
              "  "
            ]
          },
          "metadata": {},
          "execution_count": 31
        }
      ]
    },
    {
      "cell_type": "code",
      "source": [
        "# df['Time Date'].apply(lambda x: print(x))"
      ],
      "metadata": {
        "id": "EEeZInXYh582"
      },
      "execution_count": null,
      "outputs": []
    },
    {
      "cell_type": "code",
      "source": [
        "df.head()"
      ],
      "metadata": {
        "colab": {
          "base_uri": "https://localhost:8080/",
          "height": 206
        },
        "id": "qB1p61NRioo_",
        "outputId": "98903dcf-1709-4252-b861-dded38c8b0b3"
      },
      "execution_count": null,
      "outputs": [
        {
          "output_type": "execute_result",
          "data": {
            "text/plain": [
              "      Value   datetime\n",
              "0  2926.000 2018-01-01\n",
              "1  2687.531 2018-01-02\n",
              "2  2793.000 2018-01-03\n",
              "3  2394.000 2018-01-04\n",
              "4  2660.000 2018-01-05"
            ],
            "text/html": [
              "\n",
              "  <div id=\"df-28629e87-cc46-4d5f-8a5c-9c6a24150f47\">\n",
              "    <div class=\"colab-df-container\">\n",
              "      <div>\n",
              "<style scoped>\n",
              "    .dataframe tbody tr th:only-of-type {\n",
              "        vertical-align: middle;\n",
              "    }\n",
              "\n",
              "    .dataframe tbody tr th {\n",
              "        vertical-align: top;\n",
              "    }\n",
              "\n",
              "    .dataframe thead th {\n",
              "        text-align: right;\n",
              "    }\n",
              "</style>\n",
              "<table border=\"1\" class=\"dataframe\">\n",
              "  <thead>\n",
              "    <tr style=\"text-align: right;\">\n",
              "      <th></th>\n",
              "      <th>Value</th>\n",
              "      <th>datetime</th>\n",
              "    </tr>\n",
              "  </thead>\n",
              "  <tbody>\n",
              "    <tr>\n",
              "      <th>0</th>\n",
              "      <td>2926.000</td>\n",
              "      <td>2018-01-01</td>\n",
              "    </tr>\n",
              "    <tr>\n",
              "      <th>1</th>\n",
              "      <td>2687.531</td>\n",
              "      <td>2018-01-02</td>\n",
              "    </tr>\n",
              "    <tr>\n",
              "      <th>2</th>\n",
              "      <td>2793.000</td>\n",
              "      <td>2018-01-03</td>\n",
              "    </tr>\n",
              "    <tr>\n",
              "      <th>3</th>\n",
              "      <td>2394.000</td>\n",
              "      <td>2018-01-04</td>\n",
              "    </tr>\n",
              "    <tr>\n",
              "      <th>4</th>\n",
              "      <td>2660.000</td>\n",
              "      <td>2018-01-05</td>\n",
              "    </tr>\n",
              "  </tbody>\n",
              "</table>\n",
              "</div>\n",
              "      <button class=\"colab-df-convert\" onclick=\"convertToInteractive('df-28629e87-cc46-4d5f-8a5c-9c6a24150f47')\"\n",
              "              title=\"Convert this dataframe to an interactive table.\"\n",
              "              style=\"display:none;\">\n",
              "        \n",
              "  <svg xmlns=\"http://www.w3.org/2000/svg\" height=\"24px\"viewBox=\"0 0 24 24\"\n",
              "       width=\"24px\">\n",
              "    <path d=\"M0 0h24v24H0V0z\" fill=\"none\"/>\n",
              "    <path d=\"M18.56 5.44l.94 2.06.94-2.06 2.06-.94-2.06-.94-.94-2.06-.94 2.06-2.06.94zm-11 1L8.5 8.5l.94-2.06 2.06-.94-2.06-.94L8.5 2.5l-.94 2.06-2.06.94zm10 10l.94 2.06.94-2.06 2.06-.94-2.06-.94-.94-2.06-.94 2.06-2.06.94z\"/><path d=\"M17.41 7.96l-1.37-1.37c-.4-.4-.92-.59-1.43-.59-.52 0-1.04.2-1.43.59L10.3 9.45l-7.72 7.72c-.78.78-.78 2.05 0 2.83L4 21.41c.39.39.9.59 1.41.59.51 0 1.02-.2 1.41-.59l7.78-7.78 2.81-2.81c.8-.78.8-2.07 0-2.86zM5.41 20L4 18.59l7.72-7.72 1.47 1.35L5.41 20z\"/>\n",
              "  </svg>\n",
              "      </button>\n",
              "      \n",
              "  <style>\n",
              "    .colab-df-container {\n",
              "      display:flex;\n",
              "      flex-wrap:wrap;\n",
              "      gap: 12px;\n",
              "    }\n",
              "\n",
              "    .colab-df-convert {\n",
              "      background-color: #E8F0FE;\n",
              "      border: none;\n",
              "      border-radius: 50%;\n",
              "      cursor: pointer;\n",
              "      display: none;\n",
              "      fill: #1967D2;\n",
              "      height: 32px;\n",
              "      padding: 0 0 0 0;\n",
              "      width: 32px;\n",
              "    }\n",
              "\n",
              "    .colab-df-convert:hover {\n",
              "      background-color: #E2EBFA;\n",
              "      box-shadow: 0px 1px 2px rgba(60, 64, 67, 0.3), 0px 1px 3px 1px rgba(60, 64, 67, 0.15);\n",
              "      fill: #174EA6;\n",
              "    }\n",
              "\n",
              "    [theme=dark] .colab-df-convert {\n",
              "      background-color: #3B4455;\n",
              "      fill: #D2E3FC;\n",
              "    }\n",
              "\n",
              "    [theme=dark] .colab-df-convert:hover {\n",
              "      background-color: #434B5C;\n",
              "      box-shadow: 0px 1px 3px 1px rgba(0, 0, 0, 0.15);\n",
              "      filter: drop-shadow(0px 1px 2px rgba(0, 0, 0, 0.3));\n",
              "      fill: #FFFFFF;\n",
              "    }\n",
              "  </style>\n",
              "\n",
              "      <script>\n",
              "        const buttonEl =\n",
              "          document.querySelector('#df-28629e87-cc46-4d5f-8a5c-9c6a24150f47 button.colab-df-convert');\n",
              "        buttonEl.style.display =\n",
              "          google.colab.kernel.accessAllowed ? 'block' : 'none';\n",
              "\n",
              "        async function convertToInteractive(key) {\n",
              "          const element = document.querySelector('#df-28629e87-cc46-4d5f-8a5c-9c6a24150f47');\n",
              "          const dataTable =\n",
              "            await google.colab.kernel.invokeFunction('convertToInteractive',\n",
              "                                                     [key], {});\n",
              "          if (!dataTable) return;\n",
              "\n",
              "          const docLinkHtml = 'Like what you see? Visit the ' +\n",
              "            '<a target=\"_blank\" href=https://colab.research.google.com/notebooks/data_table.ipynb>data table notebook</a>'\n",
              "            + ' to learn more about interactive tables.';\n",
              "          element.innerHTML = '';\n",
              "          dataTable['output_type'] = 'display_data';\n",
              "          await google.colab.output.renderOutput(dataTable, element);\n",
              "          const docLink = document.createElement('div');\n",
              "          docLink.innerHTML = docLinkHtml;\n",
              "          element.appendChild(docLink);\n",
              "        }\n",
              "      </script>\n",
              "    </div>\n",
              "  </div>\n",
              "  "
            ]
          },
          "metadata": {},
          "execution_count": 39
        }
      ]
    },
    {
      "cell_type": "code",
      "source": [
        "# # Preprocess the data\n",
        "df.head()\n",
        "\n",
        "df[\"Year\"] = df[\"Time Date\"].apply(lambda x: str(x)[-4:])\n",
        "df['Month'] = df[\"Time Date\"].apply(lambda x: str(x)[-6:-4])\n",
        "df['Day'] = df[\"Time Date\"].apply(lambda x: str(x)[:-6])\n",
        "\n",
        "df['datetime'] = pd.DatetimeIndex(df['Year'] + '-' + df['Month'] + '-' + df['Day'])\n",
        "\n",
        "df.drop(['Time Date', 'Product', 'Store', 'Year', 'Month', 'Day'], axis=1, inplace=True)\n",
        "\n"
      ],
      "metadata": {
        "id": "4WTLkVzX4XaC"
      },
      "execution_count": null,
      "outputs": []
    },
    {
      "cell_type": "code",
      "source": [
        "df.columns = ['y', 'ds']\n",
        "\n",
        "df = df[['ds', 'y']]"
      ],
      "metadata": {
        "id": "HDJ0J7_kYMt6"
      },
      "execution_count": null,
      "outputs": []
    },
    {
      "cell_type": "code",
      "source": [
        "df.head(15)"
      ],
      "metadata": {
        "colab": {
          "base_uri": "https://localhost:8080/",
          "height": 520
        },
        "id": "qs4Uh-luVEY7",
        "outputId": "be5b53da-6226-49fa-b347-65b89396f76a"
      },
      "execution_count": null,
      "outputs": [
        {
          "output_type": "execute_result",
          "data": {
            "text/plain": [
              "           ds          y\n",
              "0  2018-01-01  2926.0000\n",
              "1  2018-01-02  2687.5310\n",
              "2  2018-01-03  2793.0000\n",
              "3  2018-01-04  2394.0000\n",
              "4  2018-01-05  2660.0000\n",
              "5  2018-01-06  2527.0000\n",
              "6  2018-01-07  2527.0000\n",
              "7  2018-01-08  2793.0000\n",
              "8  2018-01-09  2793.0000\n",
              "9  2018-01-10  2793.0000\n",
              "10 2018-01-11  2926.0000\n",
              "11 2018-01-12  2793.0000\n",
              "12 2018-01-13  2869.8208\n",
              "13 2018-01-14  3325.0000\n",
              "14 2018-01-15  2261.0000"
            ],
            "text/html": [
              "\n",
              "  <div id=\"df-9d1026d8-7dd2-45b7-abad-811044ad0d19\">\n",
              "    <div class=\"colab-df-container\">\n",
              "      <div>\n",
              "<style scoped>\n",
              "    .dataframe tbody tr th:only-of-type {\n",
              "        vertical-align: middle;\n",
              "    }\n",
              "\n",
              "    .dataframe tbody tr th {\n",
              "        vertical-align: top;\n",
              "    }\n",
              "\n",
              "    .dataframe thead th {\n",
              "        text-align: right;\n",
              "    }\n",
              "</style>\n",
              "<table border=\"1\" class=\"dataframe\">\n",
              "  <thead>\n",
              "    <tr style=\"text-align: right;\">\n",
              "      <th></th>\n",
              "      <th>ds</th>\n",
              "      <th>y</th>\n",
              "    </tr>\n",
              "  </thead>\n",
              "  <tbody>\n",
              "    <tr>\n",
              "      <th>0</th>\n",
              "      <td>2018-01-01</td>\n",
              "      <td>2926.0000</td>\n",
              "    </tr>\n",
              "    <tr>\n",
              "      <th>1</th>\n",
              "      <td>2018-01-02</td>\n",
              "      <td>2687.5310</td>\n",
              "    </tr>\n",
              "    <tr>\n",
              "      <th>2</th>\n",
              "      <td>2018-01-03</td>\n",
              "      <td>2793.0000</td>\n",
              "    </tr>\n",
              "    <tr>\n",
              "      <th>3</th>\n",
              "      <td>2018-01-04</td>\n",
              "      <td>2394.0000</td>\n",
              "    </tr>\n",
              "    <tr>\n",
              "      <th>4</th>\n",
              "      <td>2018-01-05</td>\n",
              "      <td>2660.0000</td>\n",
              "    </tr>\n",
              "    <tr>\n",
              "      <th>5</th>\n",
              "      <td>2018-01-06</td>\n",
              "      <td>2527.0000</td>\n",
              "    </tr>\n",
              "    <tr>\n",
              "      <th>6</th>\n",
              "      <td>2018-01-07</td>\n",
              "      <td>2527.0000</td>\n",
              "    </tr>\n",
              "    <tr>\n",
              "      <th>7</th>\n",
              "      <td>2018-01-08</td>\n",
              "      <td>2793.0000</td>\n",
              "    </tr>\n",
              "    <tr>\n",
              "      <th>8</th>\n",
              "      <td>2018-01-09</td>\n",
              "      <td>2793.0000</td>\n",
              "    </tr>\n",
              "    <tr>\n",
              "      <th>9</th>\n",
              "      <td>2018-01-10</td>\n",
              "      <td>2793.0000</td>\n",
              "    </tr>\n",
              "    <tr>\n",
              "      <th>10</th>\n",
              "      <td>2018-01-11</td>\n",
              "      <td>2926.0000</td>\n",
              "    </tr>\n",
              "    <tr>\n",
              "      <th>11</th>\n",
              "      <td>2018-01-12</td>\n",
              "      <td>2793.0000</td>\n",
              "    </tr>\n",
              "    <tr>\n",
              "      <th>12</th>\n",
              "      <td>2018-01-13</td>\n",
              "      <td>2869.8208</td>\n",
              "    </tr>\n",
              "    <tr>\n",
              "      <th>13</th>\n",
              "      <td>2018-01-14</td>\n",
              "      <td>3325.0000</td>\n",
              "    </tr>\n",
              "    <tr>\n",
              "      <th>14</th>\n",
              "      <td>2018-01-15</td>\n",
              "      <td>2261.0000</td>\n",
              "    </tr>\n",
              "  </tbody>\n",
              "</table>\n",
              "</div>\n",
              "      <button class=\"colab-df-convert\" onclick=\"convertToInteractive('df-9d1026d8-7dd2-45b7-abad-811044ad0d19')\"\n",
              "              title=\"Convert this dataframe to an interactive table.\"\n",
              "              style=\"display:none;\">\n",
              "        \n",
              "  <svg xmlns=\"http://www.w3.org/2000/svg\" height=\"24px\"viewBox=\"0 0 24 24\"\n",
              "       width=\"24px\">\n",
              "    <path d=\"M0 0h24v24H0V0z\" fill=\"none\"/>\n",
              "    <path d=\"M18.56 5.44l.94 2.06.94-2.06 2.06-.94-2.06-.94-.94-2.06-.94 2.06-2.06.94zm-11 1L8.5 8.5l.94-2.06 2.06-.94-2.06-.94L8.5 2.5l-.94 2.06-2.06.94zm10 10l.94 2.06.94-2.06 2.06-.94-2.06-.94-.94-2.06-.94 2.06-2.06.94z\"/><path d=\"M17.41 7.96l-1.37-1.37c-.4-.4-.92-.59-1.43-.59-.52 0-1.04.2-1.43.59L10.3 9.45l-7.72 7.72c-.78.78-.78 2.05 0 2.83L4 21.41c.39.39.9.59 1.41.59.51 0 1.02-.2 1.41-.59l7.78-7.78 2.81-2.81c.8-.78.8-2.07 0-2.86zM5.41 20L4 18.59l7.72-7.72 1.47 1.35L5.41 20z\"/>\n",
              "  </svg>\n",
              "      </button>\n",
              "      \n",
              "  <style>\n",
              "    .colab-df-container {\n",
              "      display:flex;\n",
              "      flex-wrap:wrap;\n",
              "      gap: 12px;\n",
              "    }\n",
              "\n",
              "    .colab-df-convert {\n",
              "      background-color: #E8F0FE;\n",
              "      border: none;\n",
              "      border-radius: 50%;\n",
              "      cursor: pointer;\n",
              "      display: none;\n",
              "      fill: #1967D2;\n",
              "      height: 32px;\n",
              "      padding: 0 0 0 0;\n",
              "      width: 32px;\n",
              "    }\n",
              "\n",
              "    .colab-df-convert:hover {\n",
              "      background-color: #E2EBFA;\n",
              "      box-shadow: 0px 1px 2px rgba(60, 64, 67, 0.3), 0px 1px 3px 1px rgba(60, 64, 67, 0.15);\n",
              "      fill: #174EA6;\n",
              "    }\n",
              "\n",
              "    [theme=dark] .colab-df-convert {\n",
              "      background-color: #3B4455;\n",
              "      fill: #D2E3FC;\n",
              "    }\n",
              "\n",
              "    [theme=dark] .colab-df-convert:hover {\n",
              "      background-color: #434B5C;\n",
              "      box-shadow: 0px 1px 3px 1px rgba(0, 0, 0, 0.15);\n",
              "      filter: drop-shadow(0px 1px 2px rgba(0, 0, 0, 0.3));\n",
              "      fill: #FFFFFF;\n",
              "    }\n",
              "  </style>\n",
              "\n",
              "      <script>\n",
              "        const buttonEl =\n",
              "          document.querySelector('#df-9d1026d8-7dd2-45b7-abad-811044ad0d19 button.colab-df-convert');\n",
              "        buttonEl.style.display =\n",
              "          google.colab.kernel.accessAllowed ? 'block' : 'none';\n",
              "\n",
              "        async function convertToInteractive(key) {\n",
              "          const element = document.querySelector('#df-9d1026d8-7dd2-45b7-abad-811044ad0d19');\n",
              "          const dataTable =\n",
              "            await google.colab.kernel.invokeFunction('convertToInteractive',\n",
              "                                                     [key], {});\n",
              "          if (!dataTable) return;\n",
              "\n",
              "          const docLinkHtml = 'Like what you see? Visit the ' +\n",
              "            '<a target=\"_blank\" href=https://colab.research.google.com/notebooks/data_table.ipynb>data table notebook</a>'\n",
              "            + ' to learn more about interactive tables.';\n",
              "          element.innerHTML = '';\n",
              "          dataTable['output_type'] = 'display_data';\n",
              "          await google.colab.output.renderOutput(dataTable, element);\n",
              "          const docLink = document.createElement('div');\n",
              "          docLink.innerHTML = docLinkHtml;\n",
              "          element.appendChild(docLink);\n",
              "        }\n",
              "      </script>\n",
              "    </div>\n",
              "  </div>\n",
              "  "
            ]
          },
          "metadata": {},
          "execution_count": 44
        }
      ]
    },
    {
      "cell_type": "code",
      "source": [
        "#Instatiate model\n",
        "m = Prophet(interval_width=0.95, weekly_seasonality=True)\n",
        "\n",
        "model = m.fit(df)"
      ],
      "metadata": {
        "id": "RqVZOqfQ4Tyy",
        "colab": {
          "base_uri": "https://localhost:8080/"
        },
        "outputId": "69c1f227-e2c9-4df1-d617-2f3b6c7d9005"
      },
      "execution_count": null,
      "outputs": [
        {
          "output_type": "stream",
          "name": "stderr",
          "text": [
            "INFO:fbprophet:Disabling daily seasonality. Run prophet with daily_seasonality=True to override this.\n"
          ]
        }
      ]
    },
    {
      "cell_type": "code",
      "source": [
        "#Forecast into the future\n",
        "future = m.make_future_dataframe(periods=365)\n",
        "\n",
        "forecast = m.predict(future)"
      ],
      "metadata": {
        "id": "DLHrfqGq4U1A"
      },
      "execution_count": null,
      "outputs": []
    },
    {
      "cell_type": "code",
      "source": [
        "forecast.head()[['ds', 'yhat_lower', 'yhat_upper', 'yhat']]\n"
      ],
      "metadata": {
        "colab": {
          "base_uri": "https://localhost:8080/",
          "height": 206
        },
        "id": "T8cTIJWDZRsE",
        "outputId": "370015ba-c0f4-4257-b610-821493f199c4"
      },
      "execution_count": null,
      "outputs": [
        {
          "output_type": "execute_result",
          "data": {
            "text/plain": [
              "          ds  yhat_lower   yhat_upper         yhat\n",
              "0 2018-01-01  913.419448  3911.428569  2395.939018\n",
              "1 2018-01-02  789.009627  3925.794319  2386.653185\n",
              "2 2018-01-03  767.316617  3903.469534  2413.324997\n",
              "3 2018-01-04  821.243600  4066.760727  2461.083054\n",
              "4 2018-01-05  785.740112  3952.914021  2425.901923"
            ],
            "text/html": [
              "\n",
              "  <div id=\"df-7de681a5-0658-4991-9ce6-b2e6521f6277\">\n",
              "    <div class=\"colab-df-container\">\n",
              "      <div>\n",
              "<style scoped>\n",
              "    .dataframe tbody tr th:only-of-type {\n",
              "        vertical-align: middle;\n",
              "    }\n",
              "\n",
              "    .dataframe tbody tr th {\n",
              "        vertical-align: top;\n",
              "    }\n",
              "\n",
              "    .dataframe thead th {\n",
              "        text-align: right;\n",
              "    }\n",
              "</style>\n",
              "<table border=\"1\" class=\"dataframe\">\n",
              "  <thead>\n",
              "    <tr style=\"text-align: right;\">\n",
              "      <th></th>\n",
              "      <th>ds</th>\n",
              "      <th>yhat_lower</th>\n",
              "      <th>yhat_upper</th>\n",
              "      <th>yhat</th>\n",
              "    </tr>\n",
              "  </thead>\n",
              "  <tbody>\n",
              "    <tr>\n",
              "      <th>0</th>\n",
              "      <td>2018-01-01</td>\n",
              "      <td>913.419448</td>\n",
              "      <td>3911.428569</td>\n",
              "      <td>2395.939018</td>\n",
              "    </tr>\n",
              "    <tr>\n",
              "      <th>1</th>\n",
              "      <td>2018-01-02</td>\n",
              "      <td>789.009627</td>\n",
              "      <td>3925.794319</td>\n",
              "      <td>2386.653185</td>\n",
              "    </tr>\n",
              "    <tr>\n",
              "      <th>2</th>\n",
              "      <td>2018-01-03</td>\n",
              "      <td>767.316617</td>\n",
              "      <td>3903.469534</td>\n",
              "      <td>2413.324997</td>\n",
              "    </tr>\n",
              "    <tr>\n",
              "      <th>3</th>\n",
              "      <td>2018-01-04</td>\n",
              "      <td>821.243600</td>\n",
              "      <td>4066.760727</td>\n",
              "      <td>2461.083054</td>\n",
              "    </tr>\n",
              "    <tr>\n",
              "      <th>4</th>\n",
              "      <td>2018-01-05</td>\n",
              "      <td>785.740112</td>\n",
              "      <td>3952.914021</td>\n",
              "      <td>2425.901923</td>\n",
              "    </tr>\n",
              "  </tbody>\n",
              "</table>\n",
              "</div>\n",
              "      <button class=\"colab-df-convert\" onclick=\"convertToInteractive('df-7de681a5-0658-4991-9ce6-b2e6521f6277')\"\n",
              "              title=\"Convert this dataframe to an interactive table.\"\n",
              "              style=\"display:none;\">\n",
              "        \n",
              "  <svg xmlns=\"http://www.w3.org/2000/svg\" height=\"24px\"viewBox=\"0 0 24 24\"\n",
              "       width=\"24px\">\n",
              "    <path d=\"M0 0h24v24H0V0z\" fill=\"none\"/>\n",
              "    <path d=\"M18.56 5.44l.94 2.06.94-2.06 2.06-.94-2.06-.94-.94-2.06-.94 2.06-2.06.94zm-11 1L8.5 8.5l.94-2.06 2.06-.94-2.06-.94L8.5 2.5l-.94 2.06-2.06.94zm10 10l.94 2.06.94-2.06 2.06-.94-2.06-.94-.94-2.06-.94 2.06-2.06.94z\"/><path d=\"M17.41 7.96l-1.37-1.37c-.4-.4-.92-.59-1.43-.59-.52 0-1.04.2-1.43.59L10.3 9.45l-7.72 7.72c-.78.78-.78 2.05 0 2.83L4 21.41c.39.39.9.59 1.41.59.51 0 1.02-.2 1.41-.59l7.78-7.78 2.81-2.81c.8-.78.8-2.07 0-2.86zM5.41 20L4 18.59l7.72-7.72 1.47 1.35L5.41 20z\"/>\n",
              "  </svg>\n",
              "      </button>\n",
              "      \n",
              "  <style>\n",
              "    .colab-df-container {\n",
              "      display:flex;\n",
              "      flex-wrap:wrap;\n",
              "      gap: 12px;\n",
              "    }\n",
              "\n",
              "    .colab-df-convert {\n",
              "      background-color: #E8F0FE;\n",
              "      border: none;\n",
              "      border-radius: 50%;\n",
              "      cursor: pointer;\n",
              "      display: none;\n",
              "      fill: #1967D2;\n",
              "      height: 32px;\n",
              "      padding: 0 0 0 0;\n",
              "      width: 32px;\n",
              "    }\n",
              "\n",
              "    .colab-df-convert:hover {\n",
              "      background-color: #E2EBFA;\n",
              "      box-shadow: 0px 1px 2px rgba(60, 64, 67, 0.3), 0px 1px 3px 1px rgba(60, 64, 67, 0.15);\n",
              "      fill: #174EA6;\n",
              "    }\n",
              "\n",
              "    [theme=dark] .colab-df-convert {\n",
              "      background-color: #3B4455;\n",
              "      fill: #D2E3FC;\n",
              "    }\n",
              "\n",
              "    [theme=dark] .colab-df-convert:hover {\n",
              "      background-color: #434B5C;\n",
              "      box-shadow: 0px 1px 3px 1px rgba(0, 0, 0, 0.15);\n",
              "      filter: drop-shadow(0px 1px 2px rgba(0, 0, 0, 0.3));\n",
              "      fill: #FFFFFF;\n",
              "    }\n",
              "  </style>\n",
              "\n",
              "      <script>\n",
              "        const buttonEl =\n",
              "          document.querySelector('#df-7de681a5-0658-4991-9ce6-b2e6521f6277 button.colab-df-convert');\n",
              "        buttonEl.style.display =\n",
              "          google.colab.kernel.accessAllowed ? 'block' : 'none';\n",
              "\n",
              "        async function convertToInteractive(key) {\n",
              "          const element = document.querySelector('#df-7de681a5-0658-4991-9ce6-b2e6521f6277');\n",
              "          const dataTable =\n",
              "            await google.colab.kernel.invokeFunction('convertToInteractive',\n",
              "                                                     [key], {});\n",
              "          if (!dataTable) return;\n",
              "\n",
              "          const docLinkHtml = 'Like what you see? Visit the ' +\n",
              "            '<a target=\"_blank\" href=https://colab.research.google.com/notebooks/data_table.ipynb>data table notebook</a>'\n",
              "            + ' to learn more about interactive tables.';\n",
              "          element.innerHTML = '';\n",
              "          dataTable['output_type'] = 'display_data';\n",
              "          await google.colab.output.renderOutput(dataTable, element);\n",
              "          const docLink = document.createElement('div');\n",
              "          docLink.innerHTML = docLinkHtml;\n",
              "          element.appendChild(docLink);\n",
              "        }\n",
              "      </script>\n",
              "    </div>\n",
              "  </div>\n",
              "  "
            ]
          },
          "metadata": {},
          "execution_count": 51
        }
      ]
    },
    {
      "cell_type": "code",
      "source": [
        "#Plot\n",
        "plot1 = m.plot(forecast)"
      ],
      "metadata": {
        "colab": {
          "base_uri": "https://localhost:8080/",
          "height": 433
        },
        "id": "s0GjN1hV4dQ8",
        "outputId": "6af8d482-3efb-4e92-bdb9-6fa2968fdd11"
      },
      "execution_count": null,
      "outputs": [
        {
          "output_type": "display_data",
          "data": {
            "text/plain": [
              "<Figure size 720x432 with 1 Axes>"
            ],
            "image/png": "[encoded data removed]"
          },
          "metadata": {}
        }
      ]
    },
    {
      "cell_type": "code",
      "source": [
        "# Decompose your data\n",
        "plot2 = m.plot_components(forecast)"
      ],
      "metadata": {
        "colab": {
          "base_uri": "https://localhost:8080/",
          "height": 649
        },
        "id": "8vmOCzXI4m5J",
        "outputId": "3473e827-895c-4a31-c906-c3cffa46328c"
      },
      "execution_count": null,
      "outputs": [
        {
          "output_type": "display_data",
          "data": {
            "text/plain": [
              "<Figure size 648x648 with 3 Axes>"
            ],
            "image/png": "[encoded data removed]"
          },
          "metadata": {}
        }
      ]
    },
    {
      "cell_type": "code",
      "source": [
        ""
      ],
      "metadata": {
        "id": "2tRoM-h54o89"
      },
      "execution_count": null,
      "outputs": []
    },
    {
      "cell_type": "code",
      "source": [
        ""
      ],
      "metadata": {
        "id": "o0e_4QeK4sLX"
      },
      "execution_count": null,
      "outputs": []
    },
    {
      "cell_type": "markdown",
      "metadata": {
        "id": "wVph5BexUFWz"
      },
      "source": [
        "## Time Series Forecasting as Supervised Learning"
      ]
    },
    {
      "cell_type": "markdown",
      "metadata": {
        "id": "B66npNjEUFWz"
      },
      "source": [
        "Review:\n",
        "* What is Supervised Learning? \n",
        "    \n",
        "* How is data given in SL?"
      ]
    },
    {
      "cell_type": "markdown",
      "metadata": {
        "id": "0adqaxCZUFWz"
      },
      "source": [
        "Supervised learning is where you have input variables (X) and an output variable (y) and you use an algorithm to learn the mapping function from the input to the output.\n",
        "\n",
        "$Y = f(X)$"
      ]
    },
    {
      "cell_type": "markdown",
      "source": [
        "We can Shift our time series data to create a Y label\n",
        "\n",
        "Lets see this in an example for predicting the Future Price of Any Stock with an LSTM! "
      ],
      "metadata": {
        "id": "BEKBMcOc5H6F"
      }
    },
    {
      "cell_type": "code",
      "source": [
        "import math\n",
        "import pandas_datareader as web\n",
        "import numpy as np\n",
        "import pandas as pd\n",
        "from sklearn.preprocessing import MinMaxScaler\n",
        "\n",
        "from keras.models import Sequential\n",
        "from keras.layers import Dense,LSTM\n",
        "\n",
        "import matplotlib.pyplot as plt\n",
        "plt.style.use('fivethirtyeight')\n"
      ],
      "metadata": {
        "id": "CBFB9M6M5GiQ"
      },
      "execution_count": null,
      "outputs": []
    },
    {
      "cell_type": "code",
      "source": [
        ""
      ],
      "metadata": {
        "id": "Fh-_xWQ7J6Iu"
      },
      "execution_count": null,
      "outputs": []
    },
    {
      "cell_type": "code",
      "source": [
        "#Download data from here! https://ca.finance.yahoo.com/"
      ],
      "metadata": {
        "id": "IlkVzQL0J8In"
      },
      "execution_count": null,
      "outputs": []
    },
    {
      "cell_type": "code",
      "source": [
        "df = pd.read_csv(\"BTC-USD.csv\")"
      ],
      "metadata": {
        "id": "05RJtrzx5Y9u"
      },
      "execution_count": null,
      "outputs": []
    },
    {
      "cell_type": "code",
      "source": [
        "df"
      ],
      "metadata": {
        "colab": {
          "base_uri": "https://localhost:8080/",
          "height": 423
        },
        "id": "sJZbY9eL5Z5k",
        "outputId": "159c9c4b-6450-4152-ff0e-15c2544e5ed9"
      },
      "execution_count": null,
      "outputs": [
        {
          "output_type": "execute_result",
          "data": {
            "text/plain": [
              "           Date          Open          High           Low         Close  \\\n",
              "0    2021-07-26  35384.031250  40499.675781  35287.312500  37337.535156   \n",
              "1    2021-07-27  37276.035156  39406.941406  36441.726563  39406.941406   \n",
              "2    2021-07-28  39503.187500  40816.070313  38862.437500  39995.906250   \n",
              "3    2021-07-29  39995.453125  40593.070313  39352.058594  40008.421875   \n",
              "4    2021-07-30  40027.484375  42235.546875  38397.355469  42235.546875   \n",
              "..          ...           ...           ...           ...           ...   \n",
              "361  2022-07-22  23163.751953  23671.927734  22603.416016  22714.978516   \n",
              "362  2022-07-23  22706.984375  22977.210938  22002.910156  22465.478516   \n",
              "363  2022-07-24  22465.509766  22974.001953  22306.839844  22609.164063   \n",
              "364  2022-07-25  22607.156250  22649.121094  21361.642578  21361.701172   \n",
              "365  2022-07-26  21315.908203  21315.908203  20785.066406  20842.328125   \n",
              "\n",
              "        Adj Close       Volume  \n",
              "0    37337.535156  51022126212  \n",
              "1    39406.941406  35097370560  \n",
              "2    39995.906250  38702404695  \n",
              "3    40008.421875  27167146027  \n",
              "4    42235.546875  33072782960  \n",
              "..            ...          ...  \n",
              "361  22714.978516  31421555646  \n",
              "362  22465.478516  24021799169  \n",
              "363  22609.164063  23565495303  \n",
              "364  21361.701172  35574561406  \n",
              "365  20842.328125  39650263040  \n",
              "\n",
              "[366 rows x 7 columns]"
            ],
            "text/html": [
              "\n",
              "  <div id=\"df-0fcf5b2d-9ead-4f60-b62d-216cc0e79e67\">\n",
              "    <div class=\"colab-df-container\">\n",
              "      <div>\n",
              "<style scoped>\n",
              "    .dataframe tbody tr th:only-of-type {\n",
              "        vertical-align: middle;\n",
              "    }\n",
              "\n",
              "    .dataframe tbody tr th {\n",
              "        vertical-align: top;\n",
              "    }\n",
              "\n",
              "    .dataframe thead th {\n",
              "        text-align: right;\n",
              "    }\n",
              "</style>\n",
              "<table border=\"1\" class=\"dataframe\">\n",
              "  <thead>\n",
              "    <tr style=\"text-align: right;\">\n",
              "      <th></th>\n",
              "      <th>Date</th>\n",
              "      <th>Open</th>\n",
              "      <th>High</th>\n",
              "      <th>Low</th>\n",
              "      <th>Close</th>\n",
              "      <th>Adj Close</th>\n",
              "      <th>Volume</th>\n",
              "    </tr>\n",
              "  </thead>\n",
              "  <tbody>\n",
              "    <tr>\n",
              "      <th>0</th>\n",
              "      <td>2021-07-26</td>\n",
              "      <td>35384.031250</td>\n",
              "      <td>40499.675781</td>\n",
              "      <td>35287.312500</td>\n",
              "      <td>37337.535156</td>\n",
              "      <td>37337.535156</td>\n",
              "      <td>51022126212</td>\n",
              "    </tr>\n",
              "    <tr>\n",
              "      <th>1</th>\n",
              "      <td>2021-07-27</td>\n",
              "      <td>37276.035156</td>\n",
              "      <td>39406.941406</td>\n",
              "      <td>36441.726563</td>\n",
              "      <td>39406.941406</td>\n",
              "      <td>39406.941406</td>\n",
              "      <td>35097370560</td>\n",
              "    </tr>\n",
              "    <tr>\n",
              "      <th>2</th>\n",
              "      <td>2021-07-28</td>\n",
              "      <td>39503.187500</td>\n",
              "      <td>40816.070313</td>\n",
              "      <td>38862.437500</td>\n",
              "      <td>39995.906250</td>\n",
              "      <td>39995.906250</td>\n",
              "      <td>38702404695</td>\n",
              "    </tr>\n",
              "    <tr>\n",
              "      <th>3</th>\n",
              "      <td>2021-07-29</td>\n",
              "      <td>39995.453125</td>\n",
              "      <td>40593.070313</td>\n",
              "      <td>39352.058594</td>\n",
              "      <td>40008.421875</td>\n",
              "      <td>40008.421875</td>\n",
              "      <td>27167146027</td>\n",
              "    </tr>\n",
              "    <tr>\n",
              "      <th>4</th>\n",
              "      <td>2021-07-30</td>\n",
              "      <td>40027.484375</td>\n",
              "      <td>42235.546875</td>\n",
              "      <td>38397.355469</td>\n",
              "      <td>42235.546875</td>\n",
              "      <td>42235.546875</td>\n",
              "      <td>33072782960</td>\n",
              "    </tr>\n",
              "    <tr>\n",
              "      <th>...</th>\n",
              "      <td>...</td>\n",
              "      <td>...</td>\n",
              "      <td>...</td>\n",
              "      <td>...</td>\n",
              "      <td>...</td>\n",
              "      <td>...</td>\n",
              "      <td>...</td>\n",
              "    </tr>\n",
              "    <tr>\n",
              "      <th>361</th>\n",
              "      <td>2022-07-22</td>\n",
              "      <td>23163.751953</td>\n",
              "      <td>23671.927734</td>\n",
              "      <td>22603.416016</td>\n",
              "      <td>22714.978516</td>\n",
              "      <td>22714.978516</td>\n",
              "      <td>31421555646</td>\n",
              "    </tr>\n",
              "    <tr>\n",
              "      <th>362</th>\n",
              "      <td>2022-07-23</td>\n",
              "      <td>22706.984375</td>\n",
              "      <td>22977.210938</td>\n",
              "      <td>22002.910156</td>\n",
              "      <td>22465.478516</td>\n",
              "      <td>22465.478516</td>\n",
              "      <td>24021799169</td>\n",
              "    </tr>\n",
              "    <tr>\n",
              "      <th>363</th>\n",
              "      <td>2022-07-24</td>\n",
              "      <td>22465.509766</td>\n",
              "      <td>22974.001953</td>\n",
              "      <td>22306.839844</td>\n",
              "      <td>22609.164063</td>\n",
              "      <td>22609.164063</td>\n",
              "      <td>23565495303</td>\n",
              "    </tr>\n",
              "    <tr>\n",
              "      <th>364</th>\n",
              "      <td>2022-07-25</td>\n",
              "      <td>22607.156250</td>\n",
              "      <td>22649.121094</td>\n",
              "      <td>21361.642578</td>\n",
              "      <td>21361.701172</td>\n",
              "      <td>21361.701172</td>\n",
              "      <td>35574561406</td>\n",
              "    </tr>\n",
              "    <tr>\n",
              "      <th>365</th>\n",
              "      <td>2022-07-26</td>\n",
              "      <td>21315.908203</td>\n",
              "      <td>21315.908203</td>\n",
              "      <td>20785.066406</td>\n",
              "      <td>20842.328125</td>\n",
              "      <td>20842.328125</td>\n",
              "      <td>39650263040</td>\n",
              "    </tr>\n",
              "  </tbody>\n",
              "</table>\n",
              "<p>366 rows × 7 columns</p>\n",
              "</div>\n",
              "      <button class=\"colab-df-convert\" onclick=\"convertToInteractive('df-0fcf5b2d-9ead-4f60-b62d-216cc0e79e67')\"\n",
              "              title=\"Convert this dataframe to an interactive table.\"\n",
              "              style=\"display:none;\">\n",
              "        \n",
              "  <svg xmlns=\"http://www.w3.org/2000/svg\" height=\"24px\"viewBox=\"0 0 24 24\"\n",
              "       width=\"24px\">\n",
              "    <path d=\"M0 0h24v24H0V0z\" fill=\"none\"/>\n",
              "    <path d=\"M18.56 5.44l.94 2.06.94-2.06 2.06-.94-2.06-.94-.94-2.06-.94 2.06-2.06.94zm-11 1L8.5 8.5l.94-2.06 2.06-.94-2.06-.94L8.5 2.5l-.94 2.06-2.06.94zm10 10l.94 2.06.94-2.06 2.06-.94-2.06-.94-.94-2.06-.94 2.06-2.06.94z\"/><path d=\"M17.41 7.96l-1.37-1.37c-.4-.4-.92-.59-1.43-.59-.52 0-1.04.2-1.43.59L10.3 9.45l-7.72 7.72c-.78.78-.78 2.05 0 2.83L4 21.41c.39.39.9.59 1.41.59.51 0 1.02-.2 1.41-.59l7.78-7.78 2.81-2.81c.8-.78.8-2.07 0-2.86zM5.41 20L4 18.59l7.72-7.72 1.47 1.35L5.41 20z\"/>\n",
              "  </svg>\n",
              "      </button>\n",
              "      \n",
              "  <style>\n",
              "    .colab-df-container {\n",
              "      display:flex;\n",
              "      flex-wrap:wrap;\n",
              "      gap: 12px;\n",
              "    }\n",
              "\n",
              "    .colab-df-convert {\n",
              "      background-color: #E8F0FE;\n",
              "      border: none;\n",
              "      border-radius: 50%;\n",
              "      cursor: pointer;\n",
              "      display: none;\n",
              "      fill: #1967D2;\n",
              "      height: 32px;\n",
              "      padding: 0 0 0 0;\n",
              "      width: 32px;\n",
              "    }\n",
              "\n",
              "    .colab-df-convert:hover {\n",
              "      background-color: #E2EBFA;\n",
              "      box-shadow: 0px 1px 2px rgba(60, 64, 67, 0.3), 0px 1px 3px 1px rgba(60, 64, 67, 0.15);\n",
              "      fill: #174EA6;\n",
              "    }\n",
              "\n",
              "    [theme=dark] .colab-df-convert {\n",
              "      background-color: #3B4455;\n",
              "      fill: #D2E3FC;\n",
              "    }\n",
              "\n",
              "    [theme=dark] .colab-df-convert:hover {\n",
              "      background-color: #434B5C;\n",
              "      box-shadow: 0px 1px 3px 1px rgba(0, 0, 0, 0.15);\n",
              "      filter: drop-shadow(0px 1px 2px rgba(0, 0, 0, 0.3));\n",
              "      fill: #FFFFFF;\n",
              "    }\n",
              "  </style>\n",
              "\n",
              "      <script>\n",
              "        const buttonEl =\n",
              "          document.querySelector('#df-0fcf5b2d-9ead-4f60-b62d-216cc0e79e67 button.colab-df-convert');\n",
              "        buttonEl.style.display =\n",
              "          google.colab.kernel.accessAllowed ? 'block' : 'none';\n",
              "\n",
              "        async function convertToInteractive(key) {\n",
              "          const element = document.querySelector('#df-0fcf5b2d-9ead-4f60-b62d-216cc0e79e67');\n",
              "          const dataTable =\n",
              "            await google.colab.kernel.invokeFunction('convertToInteractive',\n",
              "                                                     [key], {});\n",
              "          if (!dataTable) return;\n",
              "\n",
              "          const docLinkHtml = 'Like what you see? Visit the ' +\n",
              "            '<a target=\"_blank\" href=https://colab.research.google.com/notebooks/data_table.ipynb>data table notebook</a>'\n",
              "            + ' to learn more about interactive tables.';\n",
              "          element.innerHTML = '';\n",
              "          dataTable['output_type'] = 'display_data';\n",
              "          await google.colab.output.renderOutput(dataTable, element);\n",
              "          const docLink = document.createElement('div');\n",
              "          docLink.innerHTML = docLinkHtml;\n",
              "          element.appendChild(docLink);\n",
              "        }\n",
              "      </script>\n",
              "    </div>\n",
              "  </div>\n",
              "  "
            ]
          },
          "metadata": {},
          "execution_count": 5
        }
      ]
    },
    {
      "cell_type": "code",
      "source": [
        "df.shape"
      ],
      "metadata": {
        "colab": {
          "base_uri": "https://localhost:8080/"
        },
        "id": "oJrd8oEi5bBD",
        "outputId": "f5f1f5e7-a2b2-4583-c8ad-bc63ac1be8de"
      },
      "execution_count": null,
      "outputs": [
        {
          "output_type": "execute_result",
          "data": {
            "text/plain": [
              "(366, 7)"
            ]
          },
          "metadata": {},
          "execution_count": 6
        }
      ]
    },
    {
      "cell_type": "code",
      "source": [
        "plt.figure(figsize=(16,8))\n",
        "plt.title('Close Price History')\n",
        "plt.plot(df['Close'])\n",
        "plt.xlabel('Date',fontsize=18)\n",
        "plt.ylabel('Close Price USD($)',fontsize=18)\n",
        "plt.show()"
      ],
      "metadata": {
        "colab": {
          "base_uri": "https://localhost:8080/",
          "height": 558
        },
        "id": "9iKeDTR95cKu",
        "outputId": "54a1099b-cffc-44cb-da25-7b52e6e9bdee"
      },
      "execution_count": null,
      "outputs": [
        {
          "output_type": "display_data",
          "data": {
            "text/plain": [
              "<Figure size 1152x576 with 1 Axes>"
            ],
            "image/png": "[encoded data removed]"
          },
          "metadata": {}
        }
      ]
    },
    {
      "cell_type": "code",
      "source": [
        "data=df.filter(['Close'])\n",
        "dataset=data.values\n",
        "training_data_len= math.ceil(len(dataset) * .8)\n",
        "\n",
        "#scale the data\n",
        "scaler=MinMaxScaler(feature_range=(0,1))\n",
        "scaled_data=scaler.fit_transform(dataset)\n",
        "\n",
        "scaled_data"
      ],
      "metadata": {
        "colab": {
          "base_uri": "https://localhost:8080/"
        },
        "id": "TjqlWVNn5fsK",
        "outputId": "c093a804-ecd7-4eef-fb29-f37df0262623"
      },
      "execution_count": null,
      "outputs": [
        {
          "output_type": "execute_result",
          "data": {
            "text/plain": [
              "array([[0.37734706],\n",
              "       [0.41997201],\n",
              "       [0.43210331],\n",
              "       [0.4323611 ],\n",
              "       [0.47823468],\n",
              "       [0.46568346],\n",
              "       [0.43167052],\n",
              "       [0.41574956],\n",
              "       [0.39414333],\n",
              "       [0.4269868 ],\n",
              "       [0.45009843],\n",
              "       [0.49020096],\n",
              "       [0.5260265 ],\n",
              "       [0.51041999],\n",
              "       [0.56330007],\n",
              "       [0.54722625],\n",
              "       [0.5474035 ],\n",
              "       [0.52340006],\n",
              "       [0.59271185],\n",
              "       [0.57836815],\n",
              "       [0.57733948],\n",
              "       [0.555866  ],\n",
              "       [0.52890108],\n",
              "       [0.5310809 ],\n",
              "       [0.57055407],\n",
              "       [0.62455287],\n",
              "       [0.61562   ],\n",
              "       [0.62419193],\n",
              "       [0.62881602],\n",
              "       [0.59091567],\n",
              "       [0.61675899],\n",
              "       [0.57518115],\n",
              "       [0.61877506],\n",
              "       [0.61555636],\n",
              "       [0.61406158],\n",
              "       [0.57750385],\n",
              "       [0.57980468],\n",
              "       [0.61441576],\n",
              "       [0.62431696],\n",
              "       [0.63868697],\n",
              "       [0.63702371],\n",
              "       [0.67428047],\n",
              "       [0.69240899],\n",
              "       [0.572481  ],\n",
              "       [0.55765607],\n",
              "       [0.56383601],\n",
              "       [0.53278479],\n",
              "       [0.53932551],\n",
              "       [0.55707684],\n",
              "       [0.53441538],\n",
              "       [0.57827643],\n",
              "       [0.60060132],\n",
              "       [0.59250668],\n",
              "       [0.58188158],\n",
              "       [0.60270261],\n",
              "       [0.5817312 ],\n",
              "       [0.49076329],\n",
              "       [0.44647573],\n",
              "       [0.50581415],\n",
              "       [0.53301523],\n",
              "       [0.49067986],\n",
              "       [0.48814313],\n",
              "       [0.49827605],\n",
              "       [0.47823846],\n",
              "       [0.4534968 ],\n",
              "       [0.46440986],\n",
              "       [0.51027122],\n",
              "       [0.59937769],\n",
              "       [0.5910263 ],\n",
              "       [0.60108754],\n",
              "       [0.61989217],\n",
              "       [0.66936591],\n",
              "       [0.74859766],\n",
              "       [0.71655871],\n",
              "       [0.71989272],\n",
              "       [0.74049811],\n",
              "       [0.73644769],\n",
              "       [0.79233351],\n",
              "       [0.76259603],\n",
              "       [0.79060966],\n",
              "       [0.78897062],\n",
              "       [0.87697262],\n",
              "       [0.86251781],\n",
              "       [0.87614188],\n",
              "       [0.88587347],\n",
              "       [0.93192809],\n",
              "       [0.96757943],\n",
              "       [0.88966537],\n",
              "       [0.85840004],\n",
              "       [0.87284625],\n",
              "       [0.86331404],\n",
              "       [0.90675428],\n",
              "       [0.85163427],\n",
              "       [0.81288169],\n",
              "       [0.85695555],\n",
              "       [0.89003187],\n",
              "       [0.88304652],\n",
              "       [0.87130843],\n",
              "       [0.86482941],\n",
              "       [0.91059735],\n",
              "       [0.90531703],\n",
              "       [0.87405355],\n",
              "       [0.86732728],\n",
              "       [0.87560352],\n",
              "       [0.91266919],\n",
              "       [1.        ],\n",
              "       [0.98774439],\n",
              "       [0.94703109],\n",
              "       [0.94609864],\n",
              "       [0.92974369],\n",
              "       [0.93620283],\n",
              "       [0.95674514],\n",
              "       [0.91742483],\n",
              "       [0.84746228],\n",
              "       [0.85172117],\n",
              "       [0.78115614],\n",
              "       [0.80540868],\n",
              "       [0.83790392],\n",
              "       [0.81799177],\n",
              "       [0.767709  ],\n",
              "       [0.79406959],\n",
              "       [0.76752643],\n",
              "       [0.78800574],\n",
              "       [0.71169316],\n",
              "       [0.73734369],\n",
              "       [0.78746562],\n",
              "       [0.79896137],\n",
              "       [0.78245974],\n",
              "       [0.78708191],\n",
              "       [0.77159222],\n",
              "       [0.71227979],\n",
              "       [0.62170066],\n",
              "       [0.62516404],\n",
              "       [0.65016502],\n",
              "       [0.65258445],\n",
              "       [0.64856195],\n",
              "       [0.59021543],\n",
              "       [0.58138281],\n",
              "       [0.62503346],\n",
              "       [0.6401898 ],\n",
              "       [0.57096401],\n",
              "       [0.56839244],\n",
              "       [0.61543937],\n",
              "       [0.59007752],\n",
              "       [0.55993734],\n",
              "       [0.57325647],\n",
              "       [0.57033651],\n",
              "       [0.5739053 ],\n",
              "       [0.61626102],\n",
              "       [0.60991485],\n",
              "       [0.65432398],\n",
              "       [0.65509961],\n",
              "       [0.64701841],\n",
              "       [0.65483844],\n",
              "       [0.65135543],\n",
              "       [0.58850035],\n",
              "       [0.56493365],\n",
              "       [0.58004026],\n",
              "       [0.5620857 ],\n",
              "       [0.59051804],\n",
              "       [0.58348201],\n",
              "       [0.56520978],\n",
              "       [0.5536639 ],\n",
              "       [0.50570079],\n",
              "       [0.49729541],\n",
              "       [0.46427678],\n",
              "       [0.46790278],\n",
              "       [0.47156216],\n",
              "       [0.46970137],\n",
              "       [0.48853987],\n",
              "       [0.51352991],\n",
              "       [0.48556793],\n",
              "       [0.4960342 ],\n",
              "       [0.49763463],\n",
              "       [0.49632627],\n",
              "       [0.47854373],\n",
              "       [0.48112013],\n",
              "       [0.46811672],\n",
              "       [0.44620265],\n",
              "       [0.35921661],\n",
              "       [0.32982237],\n",
              "       [0.35549849],\n",
              "       [0.36327459],\n",
              "       [0.36944721],\n",
              "       [0.36734867],\n",
              "       [0.37324193],\n",
              "       [0.38655004],\n",
              "       [0.39383847],\n",
              "       [0.38929508],\n",
              "       [0.40094354],\n",
              "       [0.40630199],\n",
              "       [0.36942621],\n",
              "       [0.37357906],\n",
              "       [0.46310215],\n",
              "       [0.46187225],\n",
              "       [0.48187814],\n",
              "       [0.51128855],\n",
              "       [0.517018  ],\n",
              "       [0.52155673],\n",
              "       [0.50562065],\n",
              "       [0.48178553],\n",
              "       [0.47841845],\n",
              "       [0.47745133],\n",
              "       [0.48547211],\n",
              "       [0.52642614],\n",
              "       [0.51379269],\n",
              "       [0.44326942],\n",
              "       [0.43282567],\n",
              "       [0.43470376],\n",
              "       [0.39987769],\n",
              "       [0.37194524],\n",
              "       [0.39688379],\n",
              "       [0.37650328],\n",
              "       [0.39784327],\n",
              "       [0.41600237],\n",
              "       [0.41375577],\n",
              "       [0.38501454],\n",
              "       [0.49796081],\n",
              "       [0.52188299],\n",
              "       [0.51301529],\n",
              "       [0.48268877],\n",
              "       [0.41442431],\n",
              "       [0.4198411 ],\n",
              "       [0.39964299],\n",
              "       [0.39227015],\n",
              "       [0.40617833],\n",
              "       [0.47303128],\n",
              "       [0.42060064],\n",
              "       [0.40736688],\n",
              "       [0.40961283],\n",
              "       [0.38789572],\n",
              "       [0.42532354],\n",
              "       [0.41856815],\n",
              "       [0.45574991],\n",
              "       [0.45178382],\n",
              "       [0.46928725],\n",
              "       [0.47730996],\n",
              "       [0.4578899 ],\n",
              "       [0.45439184],\n",
              "       [0.48077359],\n",
              "       [0.4917758 ],\n",
              "       [0.51377362],\n",
              "       [0.52176134],\n",
              "       [0.52489419],\n",
              "       [0.57267386],\n",
              "       [0.57900789],\n",
              "       [0.58596427],\n",
              "       [0.57766204],\n",
              "       [0.54627143],\n",
              "       [0.56157486],\n",
              "       [0.5530743 ],\n",
              "       [0.56511605],\n",
              "       [0.56859931],\n",
              "       [0.54662811],\n",
              "       [0.49823896],\n",
              "       [0.50435872],\n",
              "       [0.47930817],\n",
              "       [0.48949316],\n",
              "       [0.47766052],\n",
              "       [0.42233993],\n",
              "       [0.43480732],\n",
              "       [0.45621956],\n",
              "       [0.4308594 ],\n",
              "       [0.44358771],\n",
              "       [0.44093102],\n",
              "       [0.42635752],\n",
              "       [0.44920573],\n",
              "       [0.46314078],\n",
              "       [0.46049663],\n",
              "       [0.44305008],\n",
              "       [0.42683883],\n",
              "       [0.42161547],\n",
              "       [0.4212563 ],\n",
              "       [0.44162772],\n",
              "       [0.39341172],\n",
              "       [0.41655649],\n",
              "       [0.42752902],\n",
              "       [0.40355325],\n",
              "       [0.38511938],\n",
              "       [0.40065453],\n",
              "       [0.40189522],\n",
              "       [0.38585221],\n",
              "       [0.42597478],\n",
              "       [0.36164351],\n",
              "       [0.35063985],\n",
              "       [0.33953835],\n",
              "       [0.30982236],\n",
              "       [0.23232749],\n",
              "       [0.24728043],\n",
              "       [0.20430235],\n",
              "       [0.20659686],\n",
              "       [0.21144456],\n",
              "       [0.22829679],\n",
              "       [0.25309324],\n",
              "       [0.22338738],\n",
              "       [0.23498262],\n",
              "       [0.19985153],\n",
              "       [0.2326855 ],\n",
              "       [0.20974806],\n",
              "       [0.21451614],\n",
              "       [0.23287888],\n",
              "       [0.2076506 ],\n",
              "       [0.21911682],\n",
              "       [0.21719661],\n",
              "       [0.21111749],\n",
              "       [0.19794218],\n",
              "       [0.20180066],\n",
              "       [0.21479896],\n",
              "       [0.26177057],\n",
              "       [0.26312837],\n",
              "       [0.22207247],\n",
              "       [0.23584012],\n",
              "       [0.22012209],\n",
              "       [0.22276937],\n",
              "       [0.22428841],\n",
              "       [0.25444359],\n",
              "       [0.25001111],\n",
              "       [0.23062617],\n",
              "       [0.22851785],\n",
              "       [0.20733946],\n",
              "       [0.19244747],\n",
              "       [0.15952906],\n",
              "       [0.07146868],\n",
              "       [0.06568906],\n",
              "       [0.07322877],\n",
              "       [0.02809538],\n",
              "       [0.02994571],\n",
              "       [0.        ],\n",
              "       [0.03163037],\n",
              "       [0.03258334],\n",
              "       [0.03487093],\n",
              "       [0.01996711],\n",
              "       [0.0426008 ],\n",
              "       [0.04560352],\n",
              "       [0.05117893],\n",
              "       [0.04139415],\n",
              "       [0.03538341],\n",
              "       [0.02601469],\n",
              "       [0.02237691],\n",
              "       [0.01580014],\n",
              "       [0.00518494],\n",
              "       [0.00462651],\n",
              "       [0.00575568],\n",
              "       [0.02499772],\n",
              "       [0.0241502 ],\n",
              "       [0.03152686],\n",
              "       [0.05396476],\n",
              "       [0.05589125],\n",
              "       [0.05303002],\n",
              "       [0.03795752],\n",
              "       [0.01962781],\n",
              "       [0.00630848],\n",
              "       [0.02460251],\n",
              "       [0.03197329],\n",
              "       [0.03746068],\n",
              "       [0.04475201],\n",
              "       [0.03628694],\n",
              "       [0.07143368],\n",
              "       [0.0900487 ],\n",
              "       [0.08680042],\n",
              "       [0.08541825],\n",
              "       [0.0761565 ],\n",
              "       [0.07101738],\n",
              "       [0.07397697],\n",
              "       [0.04828214],\n",
              "       [0.03758427]])"
            ]
          },
          "metadata": {},
          "execution_count": 8
        }
      ]
    },
    {
      "cell_type": "code",
      "source": [
        ""
      ],
      "metadata": {
        "id": "CtWIxq80KdNw"
      },
      "execution_count": null,
      "outputs": []
    },
    {
      "cell_type": "code",
      "source": [
        "test = df['Close']\n",
        "test.head()"
      ],
      "metadata": {
        "colab": {
          "base_uri": "https://localhost:8080/"
        },
        "id": "uzK6VTxfi16l",
        "outputId": "53dfa329-ca38-4dd2-dc05-4f5ec08d2412"
      },
      "execution_count": null,
      "outputs": [
        {
          "output_type": "execute_result",
          "data": {
            "text/plain": [
              "0    37337.535156\n",
              "1    39406.941406\n",
              "2    39995.906250\n",
              "3    40008.421875\n",
              "4    42235.546875\n",
              "Name: Close, dtype: float64"
            ]
          },
          "metadata": {},
          "execution_count": 9
        }
      ]
    },
    {
      "cell_type": "code",
      "source": [
        "#df.shift(30)\n",
        "# df2.T.head(50)"
      ],
      "metadata": {
        "id": "GMBoZTNxjYKo"
      },
      "execution_count": null,
      "outputs": []
    },
    {
      "cell_type": "code",
      "source": [
        "#Create training data set\n",
        "#This is where we shift the data\n",
        "\n",
        "train_data=scaled_data[0:training_data_len,:]\n",
        "\n",
        "#split the data into x_train and y_train data sets\n",
        "\n",
        "x_train =[]\n",
        "y_train=[]\n",
        "\n",
        "numDays = 30\n",
        "\n",
        "for i in range(numDays,len(train_data)):\n",
        "  x_train.append(train_data[i-numDays:i,0])\n",
        "  y_train.append(train_data[i,0])"
      ],
      "metadata": {
        "id": "_P2-6WqT5i9g"
      },
      "execution_count": null,
      "outputs": []
    },
    {
      "cell_type": "code",
      "source": [
        "# y_train"
      ],
      "metadata": {
        "id": "jzGrBDh9kCNf"
      },
      "execution_count": null,
      "outputs": []
    },
    {
      "cell_type": "code",
      "source": [
        "len(x_train)"
      ],
      "metadata": {
        "colab": {
          "base_uri": "https://localhost:8080/"
        },
        "id": "0ZORVNnQLKWu",
        "outputId": "fb46f7e5-3fbb-411e-81c0-96a841cc48d0"
      },
      "execution_count": null,
      "outputs": [
        {
          "output_type": "execute_result",
          "data": {
            "text/plain": [
              "263"
            ]
          },
          "metadata": {},
          "execution_count": 13
        }
      ]
    },
    {
      "cell_type": "code",
      "source": [
        "len(y_train)"
      ],
      "metadata": {
        "colab": {
          "base_uri": "https://localhost:8080/"
        },
        "id": "uWqvJCtTLOfE",
        "outputId": "fffb54eb-f09f-4948-de11-7d10c20cb4e9"
      },
      "execution_count": null,
      "outputs": [
        {
          "output_type": "execute_result",
          "data": {
            "text/plain": [
              "263"
            ]
          },
          "metadata": {},
          "execution_count": 14
        }
      ]
    },
    {
      "cell_type": "code",
      "source": [
        "#convert train data to numpy arrays\n",
        "x_train,y_train=np.array(x_train),np.array(y_train)\n",
        "\n",
        "#Reshape\n",
        "x_train.shape"
      ],
      "metadata": {
        "colab": {
          "base_uri": "https://localhost:8080/"
        },
        "id": "anKxAcCc5lM8",
        "outputId": "f6e8b627-ada5-4310-bb7a-a76ef7060739"
      },
      "execution_count": null,
      "outputs": [
        {
          "output_type": "execute_result",
          "data": {
            "text/plain": [
              "(263, 30)"
            ]
          },
          "metadata": {},
          "execution_count": 15
        }
      ]
    },
    {
      "cell_type": "code",
      "source": [
        "# x_train"
      ],
      "metadata": {
        "id": "ablyMZVEkg_D"
      },
      "execution_count": null,
      "outputs": []
    },
    {
      "cell_type": "code",
      "source": [
        ""
      ],
      "metadata": {
        "id": "LGR8PLrELSwC"
      },
      "execution_count": null,
      "outputs": []
    },
    {
      "cell_type": "code",
      "source": [
        "x_train=np.reshape(x_train,(x_train.shape[0],x_train.shape[1],1))\n",
        "x_train.shape"
      ],
      "metadata": {
        "colab": {
          "base_uri": "https://localhost:8080/"
        },
        "id": "dkxYCbNG5mq0",
        "outputId": "427fd5af-c866-4949-a2ee-8ed63b83e646"
      },
      "execution_count": null,
      "outputs": [
        {
          "output_type": "execute_result",
          "data": {
            "text/plain": [
              "(263, 30, 1)"
            ]
          },
          "metadata": {},
          "execution_count": 17
        }
      ]
    },
    {
      "cell_type": "code",
      "source": [
        "x_train.shape[1]"
      ],
      "metadata": {
        "colab": {
          "base_uri": "https://localhost:8080/"
        },
        "id": "3sR-bYTAmAje",
        "outputId": "d78bccb6-5d3d-49a2-b070-dacd61df4a9e"
      },
      "execution_count": null,
      "outputs": [
        {
          "output_type": "execute_result",
          "data": {
            "text/plain": [
              "30"
            ]
          },
          "metadata": {},
          "execution_count": 18
        }
      ]
    },
    {
      "cell_type": "code",
      "source": [
        "# build LSTM model\n",
        "model=Sequential()\n",
        "model.add(LSTM(50,return_sequences=True,input_shape=(x_train.shape[1],1)))\n",
        "model.add(LSTM(50,return_sequences=True))\n",
        "model.add(LSTM(50,return_sequences=False))\n",
        "model.add(Dense(25))\n",
        "model.add(Dense(25))\n",
        "model.add(Dense(1))\n",
        "model.summary()\n"
      ],
      "metadata": {
        "id": "L3h3sql_5n_5",
        "colab": {
          "base_uri": "https://localhost:8080/"
        },
        "outputId": "cd8374e8-3080-4782-e5f3-2048bc81afb4"
      },
      "execution_count": null,
      "outputs": [
        {
          "output_type": "stream",
          "name": "stdout",
          "text": [
            "Model: \"sequential\"\n",
            "_________________________________________________________________\n",
            " Layer (type)                Output Shape              Param #   \n",
            "=================================================================\n",
            " lstm (LSTM)                 (None, 30, 50)            10400     \n",
            "                                                                 \n",
            " lstm_1 (LSTM)               (None, 30, 50)            20200     \n",
            "                                                                 \n",
            " lstm_2 (LSTM)               (None, 50)                20200     \n",
            "                                                                 \n",
            " dense (Dense)               (None, 25)                1275      \n",
            "                                                                 \n",
            " dense_1 (Dense)             (None, 25)                650       \n",
            "                                                                 \n",
            " dense_2 (Dense)             (None, 1)                 26        \n",
            "                                                                 \n",
            "=================================================================\n",
            "Total params: 52,751\n",
            "Trainable params: 52,751\n",
            "Non-trainable params: 0\n",
            "_________________________________________________________________\n"
          ]
        }
      ]
    },
    {
      "cell_type": "code",
      "source": [
        "#compile the model\n",
        "model.compile(optimizer='adam',loss='mean_squared_error')\n"
      ],
      "metadata": {
        "id": "E_cUyLpv5o_M"
      },
      "execution_count": null,
      "outputs": []
    },
    {
      "cell_type": "code",
      "source": [
        "#train the model\n",
        "model.fit(x_train,y_train,batch_size=2,epochs=2)"
      ],
      "metadata": {
        "colab": {
          "base_uri": "https://localhost:8080/"
        },
        "id": "oRwLkb_P5q-x",
        "outputId": "e8b19662-563d-4fd7-c785-a684f84c21af"
      },
      "execution_count": null,
      "outputs": [
        {
          "output_type": "stream",
          "name": "stdout",
          "text": [
            "Epoch 1/2\n",
            "129/132 [============================>.] - ETA: 0s - loss: 0.0219"
          ]
        }
      ]
    },
    {
      "cell_type": "code",
      "source": [
        "#create the testing data set\n",
        "#create a new array containing scaled values from index 1543 to 2003\n",
        "test_data=scaled_data[training_data_len - numDays:,:]\n",
        "#create the data sets x_test and y_test\n",
        "x_test=[]\n",
        "y_test=dataset[training_data_len:,:]\n",
        "for i in range(numDays,len(test_data)):\n",
        "  x_test.append(test_data[i-numDays:i,0])\n",
        "\n",
        "#convert the data to a numpy array\n",
        "x_test=np.array(x_test)\n",
        "#reshape\n",
        "x_test=np.reshape(x_test,(x_test.shape[0],x_test.shape[1],1))\n",
        "\n",
        "  "
      ],
      "metadata": {
        "id": "4GBbo6Ly5r_u"
      },
      "execution_count": null,
      "outputs": []
    },
    {
      "cell_type": "code",
      "source": [
        "predictions=model.predict(x_test)\n",
        "predictions=scaler.inverse_transform(predictions)\n"
      ],
      "metadata": {
        "id": "zotOGemb52B8"
      },
      "execution_count": null,
      "outputs": []
    },
    {
      "cell_type": "code",
      "source": [
        "train=data[:training_data_len]\n",
        "valid=data[training_data_len:]\n",
        "valid['Predictions']=predictions\n",
        "\n",
        "#visualize the data\n",
        "plt.figure(figsize=(16,8))\n",
        "plt.title('Model')\n",
        "plt.xlabel('Date',fontsize=18)\n",
        "plt.ylabel('Close Price USD($)',fontsize=18)\n",
        "plt.plot(train['Close'])\n",
        "plt.plot(valid[['Close','Predictions']])\n",
        "plt.legend(['Train','Val','Predictions'],loc='lower right')\n",
        "plt.show()"
      ],
      "metadata": {
        "id": "___ujzgi53HK"
      },
      "execution_count": null,
      "outputs": []
    },
    {
      "cell_type": "markdown",
      "source": [
        "**Time Series Final Project Brainstorm - exercise**"
      ],
      "metadata": {
        "id": "revLJFOoD7VO"
      }
    },
    {
      "cell_type": "markdown",
      "source": [
        "\n",
        "\n",
        "*   Climate Change Forecast\n",
        "\n",
        "*   Food Demand Forecasting\n",
        "\n",
        "\n",
        "*   Using XGBoost and its variants to predict Stock Prices and hook it up to https://alpaca.markets/\n",
        "\n",
        "\n",
        "*   Data Science Tournament, you can get paid to build financial models! https://numer.ai/\n",
        "\n",
        "\n",
        "\n",
        "\n",
        "\n",
        "*   Want to go more in depth into Making money with the power of data science?  I highly recommend this textbook! https://www.amazon.ca/Advances-Financial-Machine-Learning-Marcos/dp/1119482089/ref=asc_df_1119482089/?tag=googleshopc0c-20&linkCode=df0&hvadid=292982483438&hvpos=&hvnetw=g&hvrand=3604397138690398481&hvpone=&hvptwo=&hvqmt=&hvdev=c&hvdvcmdl=&hvlocint=&hvlocphy=9001010&hvtargid=pla-422557754574&psc=1\n",
        "\n",
        "\n",
        "\n",
        "\n"
      ],
      "metadata": {
        "id": "w1OGkG36D9hU"
      }
    }
  ]
}