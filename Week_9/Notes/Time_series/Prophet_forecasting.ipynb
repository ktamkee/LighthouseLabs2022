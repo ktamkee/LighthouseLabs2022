{
 "cells": [
  {
   "cell_type": "markdown",
   "metadata": {},
   "source": [
    "# Forecasting Facebook Prophet"
   ]
  },
  {
   "cell_type": "markdown",
   "metadata": {},
   "source": [
    "### Import Data and packages"
   ]
  },
  {
   "cell_type": "code",
   "execution_count": 22,
   "metadata": {},
   "outputs": [],
   "source": [
    "import pandas as pd\n",
    "from prophet import Prophet"
   ]
  },
  {
   "cell_type": "code",
   "execution_count": 23,
   "metadata": {},
   "outputs": [
    {
     "data": {
      "text/html": [
       "<div>\n",
       "<style scoped>\n",
       "    .dataframe tbody tr th:only-of-type {\n",
       "        vertical-align: middle;\n",
       "    }\n",
       "\n",
       "    .dataframe tbody tr th {\n",
       "        vertical-align: top;\n",
       "    }\n",
       "\n",
       "    .dataframe thead th {\n",
       "        text-align: right;\n",
       "    }\n",
       "</style>\n",
       "<table border=\"1\" class=\"dataframe\">\n",
       "  <thead>\n",
       "    <tr style=\"text-align: right;\">\n",
       "      <th></th>\n",
       "      <th>ds</th>\n",
       "      <th>y</th>\n",
       "    </tr>\n",
       "  </thead>\n",
       "  <tbody>\n",
       "    <tr>\n",
       "      <th>0</th>\n",
       "      <td>2007-12-10</td>\n",
       "      <td>9.590761</td>\n",
       "    </tr>\n",
       "    <tr>\n",
       "      <th>1</th>\n",
       "      <td>2007-12-11</td>\n",
       "      <td>8.519590</td>\n",
       "    </tr>\n",
       "    <tr>\n",
       "      <th>2</th>\n",
       "      <td>2007-12-12</td>\n",
       "      <td>8.183677</td>\n",
       "    </tr>\n",
       "    <tr>\n",
       "      <th>3</th>\n",
       "      <td>2007-12-13</td>\n",
       "      <td>8.072467</td>\n",
       "    </tr>\n",
       "    <tr>\n",
       "      <th>4</th>\n",
       "      <td>2007-12-14</td>\n",
       "      <td>7.893572</td>\n",
       "    </tr>\n",
       "  </tbody>\n",
       "</table>\n",
       "</div>"
      ],
      "text/plain": [
       "           ds         y\n",
       "0  2007-12-10  9.590761\n",
       "1  2007-12-11  8.519590\n",
       "2  2007-12-12  8.183677\n",
       "3  2007-12-13  8.072467\n",
       "4  2007-12-14  7.893572"
      ]
     },
     "execution_count": 23,
     "metadata": {},
     "output_type": "execute_result"
    }
   ],
   "source": [
    "df = pd.read_csv('https://raw.githubusercontent.com/facebook/prophet/main/examples/example_wp_log_peyton_manning.csv')\n",
    "df.head()"
   ]
  },
  {
   "cell_type": "markdown",
   "metadata": {},
   "source": [
    "### Create Prophet Model"
   ]
  },
  {
   "cell_type": "code",
   "execution_count": 26,
   "metadata": {},
   "outputs": [
    {
     "name": "stderr",
     "output_type": "stream",
     "text": [
      "18:12:02 - cmdstanpy - INFO - Chain [1] start processing\n",
      "18:12:02 - cmdstanpy - INFO - Chain [1] done processing\n",
      "18:12:02 - cmdstanpy - ERROR - Chain [1] error: terminated by signal 6 Unknown error: -6\n",
      "Optimization terminated abnormally. Falling back to Newton.\n",
      "18:12:02 - cmdstanpy - INFO - Chain [1] start processing\n",
      "18:12:02 - cmdstanpy - INFO - Chain [1] done processing\n",
      "18:12:02 - cmdstanpy - ERROR - Chain [1] error: terminated by signal 6 Unknown error: -6\n"
     ]
    },
    {
     "ename": "RuntimeError",
     "evalue": "Error during optimization: console log output:\n\ndyld[3937]: Library not loaded: @rpath/libtbb.dylib\n  Referenced from: /opt/homebrew/Caskroom/miniforge/base/envs/base_env/lib/python3.8/site-packages/prophet/stan_model/prophet_model.bin\n  Reason: tried: '/private/var/folders/5m/l4wdc7bs25b7d_ztg1721x6w0000gn/T/pip-install-_szjle43/prophet_bbffd3d83d244e458b30942d7203dfe5/build/lib.macosx-11.0-arm64-cpython-38/prophet/stan_model/cmdstan-2.26.1/stan/lib/stan_math/lib/tbb/libtbb.dylib' (no such file), '/private/var/folders/5m/l4wdc7bs25b7d_ztg1721x6w0000gn/T/pip-install-_szjle43/prophet_bbffd3d83d244e458b30942d7203dfe5/build/lib.macosx-11.0-arm64-cpython-38/prophet/stan_model/cmdstan-2.26.1/stan/lib/stan_math/lib/tbb/libtbb.dylib' (no such file), '/usr/local/lib/libtbb.dylib' (no such file), '/usr/lib/libtbb.dylib' (no such file)\n",
     "output_type": "error",
     "traceback": [
      "\u001b[0;31m---------------------------------------------------------------------------\u001b[0m",
      "\u001b[0;31mRuntimeError\u001b[0m                              Traceback (most recent call last)",
      "File \u001b[0;32m/opt/homebrew/Caskroom/miniforge/base/envs/base_env/lib/python3.8/site-packages/prophet/models.py:102\u001b[0m, in \u001b[0;36mCmdStanPyBackend.fit\u001b[0;34m(self, stan_init, stan_data, **kwargs)\u001b[0m\n\u001b[1;32m    <a href='file:///opt/homebrew/Caskroom/miniforge/base/envs/base_env/lib/python3.8/site-packages/prophet/models.py?line=100'>101</a>\u001b[0m \u001b[39mtry\u001b[39;00m:\n\u001b[0;32m--> <a href='file:///opt/homebrew/Caskroom/miniforge/base/envs/base_env/lib/python3.8/site-packages/prophet/models.py?line=101'>102</a>\u001b[0m     \u001b[39mself\u001b[39m\u001b[39m.\u001b[39mstan_fit \u001b[39m=\u001b[39m \u001b[39mself\u001b[39;49m\u001b[39m.\u001b[39;49mmodel\u001b[39m.\u001b[39;49moptimize(\u001b[39m*\u001b[39;49m\u001b[39m*\u001b[39;49margs)\n\u001b[1;32m    <a href='file:///opt/homebrew/Caskroom/miniforge/base/envs/base_env/lib/python3.8/site-packages/prophet/models.py?line=102'>103</a>\u001b[0m \u001b[39mexcept\u001b[39;00m \u001b[39mRuntimeError\u001b[39;00m \u001b[39mas\u001b[39;00m e:\n\u001b[1;32m    <a href='file:///opt/homebrew/Caskroom/miniforge/base/envs/base_env/lib/python3.8/site-packages/prophet/models.py?line=103'>104</a>\u001b[0m     \u001b[39m# Fall back on Newton\u001b[39;00m\n",
      "File \u001b[0;32m/opt/homebrew/Caskroom/miniforge/base/envs/base_env/lib/python3.8/site-packages/cmdstanpy/model.py:731\u001b[0m, in \u001b[0;36mCmdStanModel.optimize\u001b[0;34m(self, data, seed, inits, output_dir, sig_figs, save_profile, algorithm, init_alpha, tol_obj, tol_rel_obj, tol_grad, tol_rel_grad, tol_param, history_size, iter, save_iterations, require_converged, show_console, refresh, time_fmt)\u001b[0m\n\u001b[1;32m    <a href='file:///opt/homebrew/Caskroom/miniforge/base/envs/base_env/lib/python3.8/site-packages/cmdstanpy/model.py?line=729'>730</a>\u001b[0m     \u001b[39melse\u001b[39;00m:\n\u001b[0;32m--> <a href='file:///opt/homebrew/Caskroom/miniforge/base/envs/base_env/lib/python3.8/site-packages/cmdstanpy/model.py?line=730'>731</a>\u001b[0m         \u001b[39mraise\u001b[39;00m \u001b[39mRuntimeError\u001b[39;00m(msg)\n\u001b[1;32m    <a href='file:///opt/homebrew/Caskroom/miniforge/base/envs/base_env/lib/python3.8/site-packages/cmdstanpy/model.py?line=731'>732</a>\u001b[0m mle \u001b[39m=\u001b[39m CmdStanMLE(runset)\n",
      "\u001b[0;31mRuntimeError\u001b[0m: Error during optimization: console log output:\n\ndyld[3936]: Library not loaded: @rpath/libtbb.dylib\n  Referenced from: /opt/homebrew/Caskroom/miniforge/base/envs/base_env/lib/python3.8/site-packages/prophet/stan_model/prophet_model.bin\n  Reason: tried: '/private/var/folders/5m/l4wdc7bs25b7d_ztg1721x6w0000gn/T/pip-install-_szjle43/prophet_bbffd3d83d244e458b30942d7203dfe5/build/lib.macosx-11.0-arm64-cpython-38/prophet/stan_model/cmdstan-2.26.1/stan/lib/stan_math/lib/tbb/libtbb.dylib' (no such file), '/private/var/folders/5m/l4wdc7bs25b7d_ztg1721x6w0000gn/T/pip-install-_szjle43/prophet_bbffd3d83d244e458b30942d7203dfe5/build/lib.macosx-11.0-arm64-cpython-38/prophet/stan_model/cmdstan-2.26.1/stan/lib/stan_math/lib/tbb/libtbb.dylib' (no such file), '/usr/local/lib/libtbb.dylib' (no such file), '/usr/lib/libtbb.dylib' (no such file)\n",
      "\nDuring handling of the above exception, another exception occurred:\n",
      "\u001b[0;31mRuntimeError\u001b[0m                              Traceback (most recent call last)",
      "\u001b[1;32m/Users/karina/GitHub/LighthouseLabs2022/Week_9/Notes/Time_series/Prophet_forecasting.ipynb Cell 6'\u001b[0m in \u001b[0;36m<cell line: 2>\u001b[0;34m()\u001b[0m\n\u001b[1;32m      <a href='vscode-notebook-cell:/Users/karina/GitHub/LighthouseLabs2022/Week_9/Notes/Time_series/Prophet_forecasting.ipynb#ch0000005?line=0'>1</a>\u001b[0m m \u001b[39m=\u001b[39m Prophet()\n\u001b[0;32m----> <a href='vscode-notebook-cell:/Users/karina/GitHub/LighthouseLabs2022/Week_9/Notes/Time_series/Prophet_forecasting.ipynb#ch0000005?line=1'>2</a>\u001b[0m m\u001b[39m.\u001b[39;49mfit(df)\n",
      "File \u001b[0;32m/opt/homebrew/Caskroom/miniforge/base/envs/base_env/lib/python3.8/site-packages/prophet/forecaster.py:1171\u001b[0m, in \u001b[0;36mProphet.fit\u001b[0;34m(self, df, **kwargs)\u001b[0m\n\u001b[1;32m   <a href='file:///opt/homebrew/Caskroom/miniforge/base/envs/base_env/lib/python3.8/site-packages/prophet/forecaster.py?line=1168'>1169</a>\u001b[0m     \u001b[39mself\u001b[39m\u001b[39m.\u001b[39mparams \u001b[39m=\u001b[39m \u001b[39mself\u001b[39m\u001b[39m.\u001b[39mstan_backend\u001b[39m.\u001b[39msampling(stan_init, dat, \u001b[39mself\u001b[39m\u001b[39m.\u001b[39mmcmc_samples, \u001b[39m*\u001b[39m\u001b[39m*\u001b[39mkwargs)\n\u001b[1;32m   <a href='file:///opt/homebrew/Caskroom/miniforge/base/envs/base_env/lib/python3.8/site-packages/prophet/forecaster.py?line=1169'>1170</a>\u001b[0m \u001b[39melse\u001b[39;00m:\n\u001b[0;32m-> <a href='file:///opt/homebrew/Caskroom/miniforge/base/envs/base_env/lib/python3.8/site-packages/prophet/forecaster.py?line=1170'>1171</a>\u001b[0m     \u001b[39mself\u001b[39m\u001b[39m.\u001b[39mparams \u001b[39m=\u001b[39m \u001b[39mself\u001b[39;49m\u001b[39m.\u001b[39;49mstan_backend\u001b[39m.\u001b[39;49mfit(stan_init, dat, \u001b[39m*\u001b[39;49m\u001b[39m*\u001b[39;49mkwargs)\n\u001b[1;32m   <a href='file:///opt/homebrew/Caskroom/miniforge/base/envs/base_env/lib/python3.8/site-packages/prophet/forecaster.py?line=1172'>1173</a>\u001b[0m \u001b[39mself\u001b[39m\u001b[39m.\u001b[39mstan_fit \u001b[39m=\u001b[39m \u001b[39mself\u001b[39m\u001b[39m.\u001b[39mstan_backend\u001b[39m.\u001b[39mstan_fit\n\u001b[1;32m   <a href='file:///opt/homebrew/Caskroom/miniforge/base/envs/base_env/lib/python3.8/site-packages/prophet/forecaster.py?line=1173'>1174</a>\u001b[0m \u001b[39m# If no changepoints were requested, replace delta with 0s\u001b[39;00m\n",
      "File \u001b[0;32m/opt/homebrew/Caskroom/miniforge/base/envs/base_env/lib/python3.8/site-packages/prophet/models.py:110\u001b[0m, in \u001b[0;36mCmdStanPyBackend.fit\u001b[0;34m(self, stan_init, stan_data, **kwargs)\u001b[0m\n\u001b[1;32m    <a href='file:///opt/homebrew/Caskroom/miniforge/base/envs/base_env/lib/python3.8/site-packages/prophet/models.py?line=105'>106</a>\u001b[0m     logger\u001b[39m.\u001b[39mwarning(\n\u001b[1;32m    <a href='file:///opt/homebrew/Caskroom/miniforge/base/envs/base_env/lib/python3.8/site-packages/prophet/models.py?line=106'>107</a>\u001b[0m         \u001b[39m'\u001b[39m\u001b[39mOptimization terminated abnormally. Falling back to Newton.\u001b[39m\u001b[39m'\u001b[39m\n\u001b[1;32m    <a href='file:///opt/homebrew/Caskroom/miniforge/base/envs/base_env/lib/python3.8/site-packages/prophet/models.py?line=107'>108</a>\u001b[0m     )\n\u001b[1;32m    <a href='file:///opt/homebrew/Caskroom/miniforge/base/envs/base_env/lib/python3.8/site-packages/prophet/models.py?line=108'>109</a>\u001b[0m     args[\u001b[39m'\u001b[39m\u001b[39malgorithm\u001b[39m\u001b[39m'\u001b[39m] \u001b[39m=\u001b[39m \u001b[39m'\u001b[39m\u001b[39mNewton\u001b[39m\u001b[39m'\u001b[39m\n\u001b[0;32m--> <a href='file:///opt/homebrew/Caskroom/miniforge/base/envs/base_env/lib/python3.8/site-packages/prophet/models.py?line=109'>110</a>\u001b[0m     \u001b[39mself\u001b[39m\u001b[39m.\u001b[39mstan_fit \u001b[39m=\u001b[39m \u001b[39mself\u001b[39;49m\u001b[39m.\u001b[39;49mmodel\u001b[39m.\u001b[39;49moptimize(\u001b[39m*\u001b[39;49m\u001b[39m*\u001b[39;49margs)\n\u001b[1;32m    <a href='file:///opt/homebrew/Caskroom/miniforge/base/envs/base_env/lib/python3.8/site-packages/prophet/models.py?line=110'>111</a>\u001b[0m \u001b[39melse\u001b[39;00m:\n\u001b[1;32m    <a href='file:///opt/homebrew/Caskroom/miniforge/base/envs/base_env/lib/python3.8/site-packages/prophet/models.py?line=111'>112</a>\u001b[0m     \u001b[39mraise\u001b[39;00m e\n",
      "File \u001b[0;32m/opt/homebrew/Caskroom/miniforge/base/envs/base_env/lib/python3.8/site-packages/cmdstanpy/model.py:731\u001b[0m, in \u001b[0;36mCmdStanModel.optimize\u001b[0;34m(self, data, seed, inits, output_dir, sig_figs, save_profile, algorithm, init_alpha, tol_obj, tol_rel_obj, tol_grad, tol_rel_grad, tol_param, history_size, iter, save_iterations, require_converged, show_console, refresh, time_fmt)\u001b[0m\n\u001b[1;32m    <a href='file:///opt/homebrew/Caskroom/miniforge/base/envs/base_env/lib/python3.8/site-packages/cmdstanpy/model.py?line=728'>729</a>\u001b[0m         get_logger()\u001b[39m.\u001b[39mwarning(msg)\n\u001b[1;32m    <a href='file:///opt/homebrew/Caskroom/miniforge/base/envs/base_env/lib/python3.8/site-packages/cmdstanpy/model.py?line=729'>730</a>\u001b[0m     \u001b[39melse\u001b[39;00m:\n\u001b[0;32m--> <a href='file:///opt/homebrew/Caskroom/miniforge/base/envs/base_env/lib/python3.8/site-packages/cmdstanpy/model.py?line=730'>731</a>\u001b[0m         \u001b[39mraise\u001b[39;00m \u001b[39mRuntimeError\u001b[39;00m(msg)\n\u001b[1;32m    <a href='file:///opt/homebrew/Caskroom/miniforge/base/envs/base_env/lib/python3.8/site-packages/cmdstanpy/model.py?line=731'>732</a>\u001b[0m mle \u001b[39m=\u001b[39m CmdStanMLE(runset)\n\u001b[1;32m    <a href='file:///opt/homebrew/Caskroom/miniforge/base/envs/base_env/lib/python3.8/site-packages/cmdstanpy/model.py?line=732'>733</a>\u001b[0m \u001b[39mreturn\u001b[39;00m mle\n",
      "\u001b[0;31mRuntimeError\u001b[0m: Error during optimization: console log output:\n\ndyld[3937]: Library not loaded: @rpath/libtbb.dylib\n  Referenced from: /opt/homebrew/Caskroom/miniforge/base/envs/base_env/lib/python3.8/site-packages/prophet/stan_model/prophet_model.bin\n  Reason: tried: '/private/var/folders/5m/l4wdc7bs25b7d_ztg1721x6w0000gn/T/pip-install-_szjle43/prophet_bbffd3d83d244e458b30942d7203dfe5/build/lib.macosx-11.0-arm64-cpython-38/prophet/stan_model/cmdstan-2.26.1/stan/lib/stan_math/lib/tbb/libtbb.dylib' (no such file), '/private/var/folders/5m/l4wdc7bs25b7d_ztg1721x6w0000gn/T/pip-install-_szjle43/prophet_bbffd3d83d244e458b30942d7203dfe5/build/lib.macosx-11.0-arm64-cpython-38/prophet/stan_model/cmdstan-2.26.1/stan/lib/stan_math/lib/tbb/libtbb.dylib' (no such file), '/usr/local/lib/libtbb.dylib' (no such file), '/usr/lib/libtbb.dylib' (no such file)\n"
     ]
    }
   ],
   "source": [
    "m = Prophet()\n",
    "m.fit(df)"
   ]
  },
  {
   "cell_type": "markdown",
   "metadata": {},
   "source": [
    "### Make Predictions"
   ]
  },
  {
   "cell_type": "code",
   "execution_count": null,
   "metadata": {},
   "outputs": [
    {
     "data": {
      "text/html": [
       "<div>\n",
       "<style scoped>\n",
       "    .dataframe tbody tr th:only-of-type {\n",
       "        vertical-align: middle;\n",
       "    }\n",
       "\n",
       "    .dataframe tbody tr th {\n",
       "        vertical-align: top;\n",
       "    }\n",
       "\n",
       "    .dataframe thead th {\n",
       "        text-align: right;\n",
       "    }\n",
       "</style>\n",
       "<table border=\"1\" class=\"dataframe\">\n",
       "  <thead>\n",
       "    <tr style=\"text-align: right;\">\n",
       "      <th></th>\n",
       "      <th>ds</th>\n",
       "    </tr>\n",
       "  </thead>\n",
       "  <tbody>\n",
       "    <tr>\n",
       "      <th>3265</th>\n",
       "      <td>2017-01-15</td>\n",
       "    </tr>\n",
       "    <tr>\n",
       "      <th>3266</th>\n",
       "      <td>2017-01-16</td>\n",
       "    </tr>\n",
       "    <tr>\n",
       "      <th>3267</th>\n",
       "      <td>2017-01-17</td>\n",
       "    </tr>\n",
       "    <tr>\n",
       "      <th>3268</th>\n",
       "      <td>2017-01-18</td>\n",
       "    </tr>\n",
       "    <tr>\n",
       "      <th>3269</th>\n",
       "      <td>2017-01-19</td>\n",
       "    </tr>\n",
       "  </tbody>\n",
       "</table>\n",
       "</div>"
      ],
      "text/plain": [
       "             ds\n",
       "3265 2017-01-15\n",
       "3266 2017-01-16\n",
       "3267 2017-01-17\n",
       "3268 2017-01-18\n",
       "3269 2017-01-19"
      ]
     },
     "execution_count": 16,
     "metadata": {},
     "output_type": "execute_result"
    }
   ],
   "source": [
    "# Get suitable dataframe that extends into the future a specified number of dayss\n",
    "future = m.make_future_dataframe(periods=365)\n",
    "future.tail()"
   ]
  },
  {
   "cell_type": "code",
   "execution_count": null,
   "metadata": {},
   "outputs": [
    {
     "ename": "KeyError",
     "evalue": "'k'",
     "output_type": "error",
     "traceback": [
      "\u001b[0;31m---------------------------------------------------------------------------\u001b[0m",
      "\u001b[0;31mKeyError\u001b[0m                                  Traceback (most recent call last)",
      "\u001b[1;32m/Users/karina/GitHub/LighthouseLabs2022/Week_9/Notes/Time_series/Prophet_forecasting.ipynb Cell 9'\u001b[0m in \u001b[0;36m<cell line: 2>\u001b[0;34m()\u001b[0m\n\u001b[1;32m      <a href='vscode-notebook-cell:/Users/karina/GitHub/LighthouseLabs2022/Week_9/Notes/Time_series/Prophet_forecasting.ipynb#ch0000008?line=0'>1</a>\u001b[0m \u001b[39m# Assign Predictive Values\u001b[39;00m\n\u001b[0;32m----> <a href='vscode-notebook-cell:/Users/karina/GitHub/LighthouseLabs2022/Week_9/Notes/Time_series/Prophet_forecasting.ipynb#ch0000008?line=1'>2</a>\u001b[0m forecast \u001b[39m=\u001b[39m m\u001b[39m.\u001b[39;49mpredict(future)\n\u001b[1;32m      <a href='vscode-notebook-cell:/Users/karina/GitHub/LighthouseLabs2022/Week_9/Notes/Time_series/Prophet_forecasting.ipynb#ch0000008?line=2'>3</a>\u001b[0m forecast[[\u001b[39m'\u001b[39m\u001b[39mds\u001b[39m\u001b[39m'\u001b[39m, \u001b[39m'\u001b[39m\u001b[39myhat\u001b[39m\u001b[39m'\u001b[39m, \u001b[39m'\u001b[39m\u001b[39myhat_lower\u001b[39m\u001b[39m'\u001b[39m, \u001b[39m'\u001b[39m\u001b[39myhat_upper\u001b[39m\u001b[39m'\u001b[39m]]\u001b[39m.\u001b[39mtail()\n",
      "File \u001b[0;32m/opt/homebrew/Caskroom/miniforge/base/envs/base_env/lib/python3.8/site-packages/prophet/forecaster.py:1207\u001b[0m, in \u001b[0;36mProphet.predict\u001b[0;34m(self, df)\u001b[0m\n\u001b[1;32m   <a href='file:///opt/homebrew/Caskroom/miniforge/base/envs/base_env/lib/python3.8/site-packages/prophet/forecaster.py?line=1203'>1204</a>\u001b[0m         \u001b[39mraise\u001b[39;00m \u001b[39mValueError\u001b[39;00m(\u001b[39m'\u001b[39m\u001b[39mDataframe has no rows.\u001b[39m\u001b[39m'\u001b[39m)\n\u001b[1;32m   <a href='file:///opt/homebrew/Caskroom/miniforge/base/envs/base_env/lib/python3.8/site-packages/prophet/forecaster.py?line=1204'>1205</a>\u001b[0m     df \u001b[39m=\u001b[39m \u001b[39mself\u001b[39m\u001b[39m.\u001b[39msetup_dataframe(df\u001b[39m.\u001b[39mcopy())\n\u001b[0;32m-> <a href='file:///opt/homebrew/Caskroom/miniforge/base/envs/base_env/lib/python3.8/site-packages/prophet/forecaster.py?line=1206'>1207</a>\u001b[0m df[\u001b[39m'\u001b[39m\u001b[39mtrend\u001b[39m\u001b[39m'\u001b[39m] \u001b[39m=\u001b[39m \u001b[39mself\u001b[39;49m\u001b[39m.\u001b[39;49mpredict_trend(df)\n\u001b[1;32m   <a href='file:///opt/homebrew/Caskroom/miniforge/base/envs/base_env/lib/python3.8/site-packages/prophet/forecaster.py?line=1207'>1208</a>\u001b[0m seasonal_components \u001b[39m=\u001b[39m \u001b[39mself\u001b[39m\u001b[39m.\u001b[39mpredict_seasonal_components(df)\n\u001b[1;32m   <a href='file:///opt/homebrew/Caskroom/miniforge/base/envs/base_env/lib/python3.8/site-packages/prophet/forecaster.py?line=1208'>1209</a>\u001b[0m \u001b[39mif\u001b[39;00m \u001b[39mself\u001b[39m\u001b[39m.\u001b[39muncertainty_samples:\n",
      "File \u001b[0;32m/opt/homebrew/Caskroom/miniforge/base/envs/base_env/lib/python3.8/site-packages/prophet/forecaster.py:1316\u001b[0m, in \u001b[0;36mProphet.predict_trend\u001b[0;34m(self, df)\u001b[0m\n\u001b[1;32m   <a href='file:///opt/homebrew/Caskroom/miniforge/base/envs/base_env/lib/python3.8/site-packages/prophet/forecaster.py?line=1304'>1305</a>\u001b[0m \u001b[39mdef\u001b[39;00m \u001b[39mpredict_trend\u001b[39m(\u001b[39mself\u001b[39m, df):\n\u001b[1;32m   <a href='file:///opt/homebrew/Caskroom/miniforge/base/envs/base_env/lib/python3.8/site-packages/prophet/forecaster.py?line=1305'>1306</a>\u001b[0m     \u001b[39m\"\"\"Predict trend using the prophet model.\u001b[39;00m\n\u001b[1;32m   <a href='file:///opt/homebrew/Caskroom/miniforge/base/envs/base_env/lib/python3.8/site-packages/prophet/forecaster.py?line=1306'>1307</a>\u001b[0m \n\u001b[1;32m   <a href='file:///opt/homebrew/Caskroom/miniforge/base/envs/base_env/lib/python3.8/site-packages/prophet/forecaster.py?line=1307'>1308</a>\u001b[0m \u001b[39m    Parameters\u001b[39;00m\n\u001b[0;32m   (...)\u001b[0m\n\u001b[1;32m   <a href='file:///opt/homebrew/Caskroom/miniforge/base/envs/base_env/lib/python3.8/site-packages/prophet/forecaster.py?line=1313'>1314</a>\u001b[0m \u001b[39m    Vector with trend on prediction dates.\u001b[39;00m\n\u001b[1;32m   <a href='file:///opt/homebrew/Caskroom/miniforge/base/envs/base_env/lib/python3.8/site-packages/prophet/forecaster.py?line=1314'>1315</a>\u001b[0m \u001b[39m    \"\"\"\u001b[39;00m\n\u001b[0;32m-> <a href='file:///opt/homebrew/Caskroom/miniforge/base/envs/base_env/lib/python3.8/site-packages/prophet/forecaster.py?line=1315'>1316</a>\u001b[0m     k \u001b[39m=\u001b[39m np\u001b[39m.\u001b[39mnanmean(\u001b[39mself\u001b[39;49m\u001b[39m.\u001b[39;49mparams[\u001b[39m'\u001b[39;49m\u001b[39mk\u001b[39;49m\u001b[39m'\u001b[39;49m])\n\u001b[1;32m   <a href='file:///opt/homebrew/Caskroom/miniforge/base/envs/base_env/lib/python3.8/site-packages/prophet/forecaster.py?line=1316'>1317</a>\u001b[0m     m \u001b[39m=\u001b[39m np\u001b[39m.\u001b[39mnanmean(\u001b[39mself\u001b[39m\u001b[39m.\u001b[39mparams[\u001b[39m'\u001b[39m\u001b[39mm\u001b[39m\u001b[39m'\u001b[39m])\n\u001b[1;32m   <a href='file:///opt/homebrew/Caskroom/miniforge/base/envs/base_env/lib/python3.8/site-packages/prophet/forecaster.py?line=1317'>1318</a>\u001b[0m     deltas \u001b[39m=\u001b[39m np\u001b[39m.\u001b[39mnanmean(\u001b[39mself\u001b[39m\u001b[39m.\u001b[39mparams[\u001b[39m'\u001b[39m\u001b[39mdelta\u001b[39m\u001b[39m'\u001b[39m], axis\u001b[39m=\u001b[39m\u001b[39m0\u001b[39m)\n",
      "\u001b[0;31mKeyError\u001b[0m: 'k'"
     ]
    }
   ],
   "source": [
    "# Assign Predictive Values\n",
    "forecast = m.predict(future)\n",
    "forecast[['ds', 'yhat', 'yhat_lower', 'yhat_upper']].tail()"
   ]
  },
  {
   "cell_type": "markdown",
   "metadata": {},
   "source": [
    "### Plot Forecast"
   ]
  },
  {
   "cell_type": "code",
   "execution_count": null,
   "metadata": {},
   "outputs": [],
   "source": [
    "# Plot Forecast\n",
    "fig1 = m.plot(forecast)"
   ]
  },
  {
   "cell_type": "code",
   "execution_count": null,
   "metadata": {},
   "outputs": [],
   "source": [
    "# Plot Components\n",
    "fig2 = m.plot_components(forecast)"
   ]
  },
  {
   "cell_type": "code",
   "execution_count": null,
   "metadata": {},
   "outputs": [],
   "source": [
    "# Plot an Interactive Figure\n",
    "from prophet.plot import plot_plotly, plot_components_plotly\n",
    "\n",
    "plot_plotly(m, forecast)"
   ]
  },
  {
   "cell_type": "code",
   "execution_count": null,
   "metadata": {},
   "outputs": [],
   "source": [
    "plot_components_plotly(m, forecast)\n"
   ]
  }
 ],
 "metadata": {
  "interpreter": {
   "hash": "39512f3c2a1741d7f752d45a133d4514127029333ea14bc2f3c6c5e6759b9029"
  },
  "kernelspec": {
   "display_name": "Python 3.8.13 ('base_env')",
   "language": "python",
   "name": "python3"
  },
  "language_info": {
   "codemirror_mode": {
    "name": "ipython",
    "version": 3
   },
   "file_extension": ".py",
   "mimetype": "text/x-python",
   "name": "python",
   "nbconvert_exporter": "python",
   "pygments_lexer": "ipython3",
   "version": "3.8.13"
  },
  "orig_nbformat": 4
 },
 "nbformat": 4,
 "nbformat_minor": 2
}
